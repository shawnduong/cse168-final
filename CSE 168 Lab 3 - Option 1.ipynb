{
 "cells": [
  {
   "cell_type": "markdown",
   "id": "e7188435",
   "metadata": {},
   "source": [
    "# CSE 168 Lab 3 - Option 1\n",
    "\n",
    "This notebook describes CSE 168 Lab 3 - Option 1 for students Shawn Duong, Chloe Engel, Charison Gill-Branion, and Isabella Montoya in the Fall semester of 2022.\n",
    "\n",
    "For this lab, we are training a model to detect 4 hand gestures. This follows the tutorial given in the lab handout by Nicholas Renotte."
   ]
  },
  {
   "cell_type": "markdown",
   "id": "2fbf0104",
   "metadata": {},
   "source": [
    "## Step 1: Install and Import Dependencies\n",
    "\n",
    "We must install and import the dependencies. We need opencv-python in order to use computer vision related functionalities."
   ]
  },
  {
   "cell_type": "code",
   "execution_count": 1,
   "id": "eb3db300",
   "metadata": {},
   "outputs": [
    {
     "name": "stdout",
     "output_type": "stream",
     "text": [
      "Requirement already satisfied: opencv-python in c:\\users\\chari\\anaconda3\\lib\\site-packages (4.6.0.66)\n",
      "Requirement already satisfied: numpy>=1.19.3 in c:\\users\\chari\\anaconda3\\lib\\site-packages (from opencv-python) (1.21.5)\n"
     ]
    }
   ],
   "source": [
    "!pip install opencv-python"
   ]
  },
  {
   "cell_type": "code",
   "execution_count": 2,
   "id": "5af98644",
   "metadata": {},
   "outputs": [],
   "source": [
    "import cv2\n",
    "import os\n",
    "import time"
   ]
  },
  {
   "cell_type": "markdown",
   "id": "4e3ef4e9",
   "metadata": {},
   "source": [
    "## Step 2: Define the Images to Collect"
   ]
  },
  {
   "cell_type": "code",
   "execution_count": 3,
   "id": "4fb107ac",
   "metadata": {},
   "outputs": [],
   "source": [
    "# The gestures we are training the model to detect.\n",
    "labels = [\"h\", \"e\", \"l\", \"o\", \"w\", \"r\", \"d\"]\n",
    "\n",
    "# The number of training images per gesture we will take.\n",
    "nImgs = 5"
   ]
  },
  {
   "cell_type": "markdown",
   "id": "772af2a6",
   "metadata": {},
   "source": [
    "## Step 3: Set Up File Structure"
   ]
  },
  {
   "cell_type": "code",
   "execution_count": 4,
   "id": "05f64dcc",
   "metadata": {},
   "outputs": [],
   "source": [
    "# The path to store our training images in.\n",
    "path = \"./tensorflow/workspace/images/training_images/\"\n",
    "\n",
    "# Create the path if it does not exist.\n",
    "if not os.path.exists(path):\n",
    "    os.makedirs(path)"
   ]
  },
  {
   "cell_type": "markdown",
   "id": "8462f37f",
   "metadata": {},
   "source": [
    "## Step 4: Capture Training Images From Webcam"
   ]
  },
  {
   "cell_type": "code",
   "execution_count": null,
   "id": "aa69a81d",
   "metadata": {},
   "outputs": [
    {
     "name": "stdout",
     "output_type": "stream",
     "text": [
      "Capturing images for: h\n",
      "Capturing image 1/5\n",
      "Capturing image 2/5\n",
      "Capturing image 3/5\n",
      "Capturing image 4/5\n",
      "Capturing image 5/5\n",
      "Capturing images for: e\n",
      "Capturing image 1/5\n",
      "Capturing image 2/5\n",
      "Capturing image 3/5\n",
      "Capturing image 4/5\n",
      "Capturing image 5/5\n",
      "Capturing images for: l\n",
      "Capturing image 1/5\n",
      "Capturing image 2/5\n",
      "Capturing image 3/5\n",
      "Capturing image 4/5\n",
      "Capturing image 5/5\n",
      "Capturing images for: o\n",
      "Capturing image 1/5\n",
      "Capturing image 2/5\n",
      "Capturing image 3/5\n",
      "Capturing image 4/5\n",
      "Capturing image 5/5\n",
      "Capturing images for: w\n",
      "Capturing image 1/5\n",
      "Capturing image 2/5\n",
      "Capturing image 3/5\n",
      "Capturing image 4/5\n",
      "Capturing image 5/5\n",
      "Capturing images for: r\n",
      "Capturing image 1/5\n",
      "Capturing image 2/5\n",
      "Capturing image 3/5\n",
      "Capturing image 4/5\n",
      "Capturing image 5/5\n",
      "Capturing images for: d\n"
     ]
    }
   ],
   "source": [
    "cap = cv2.VideoCapture(0)\n",
    "\n",
    "# Loop for all gestures we want to train.\n",
    "for label in labels:\n",
    "    \n",
    "    print(f\"Capturing images for: {label}\")\n",
    "    \n",
    "    completed = 0\n",
    "    earlyExit = False\n",
    "    \n",
    "    # Loop for however many images we wish to capture per gesture.\n",
    "    while completed < nImgs:\n",
    "        \n",
    "        # Read from the camera and show it to us.\n",
    "        _, frame = cap.read()\n",
    "        \n",
    "        try:\n",
    "            cv2.imshow(\"Frame\", frame)\n",
    "        except:\n",
    "            continue\n",
    "            \n",
    "        # Webcam refresh rate.\n",
    "        time.sleep(0.01)\n",
    "        \n",
    "        # Press 'q' to quit.\n",
    "        key = cv2.waitKey(1) & 0xFF\n",
    "        if key == ord('q'):\n",
    "            earlyExit = True\n",
    "            break\n",
    "            \n",
    "        # Press 'c' to capture.\n",
    "        elif key == ord('c'):\n",
    "            # Capture and save the image.\n",
    "            completed += 1\n",
    "            print(f\"Capturing image {completed}/{nImgs}\")\n",
    "            cv2.imwrite(path+f\"{label}_{int(time.time())}.jpg\", frame)\n",
    "            \n",
    "    if earlyExit:\n",
    "        break\n",
    "            \n",
    "cap.release()\n",
    "cv2.destroyAllWindows()"
   ]
  }
 ],
 "metadata": {
  "kernelspec": {
   "display_name": "Python 3 (ipykernel)",
   "language": "python",
   "name": "python3"
  },
  "language_info": {
   "codemirror_mode": {
    "name": "ipython",
    "version": 3
   },
   "file_extension": ".py",
   "mimetype": "text/x-python",
   "name": "python",
   "nbconvert_exporter": "python",
   "pygments_lexer": "ipython3",
   "version": "3.9.13"
  }
 },
 "nbformat": 4,
 "nbformat_minor": 5
}
