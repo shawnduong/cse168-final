{
 "cells": [
  {
   "cell_type": "markdown",
   "id": "a3955be1",
   "metadata": {},
   "source": [
    "# CSE 168 Lab 3 - Option 1\n",
    "\n",
    "This notebook describes CSE 168 Lab 3 - Option 1 for students Shawn Duong, Chloe Engel, Charison Gill-Branion, and Isabella Montoya in the Fall semester of 2022.\n",
    "\n",
    "For this lab, we are training a model to detect 4 hand gestures. This follows the tutorial given in the lab handout by Nicholas Renotte."
   ]
  },
  {
   "cell_type": "markdown",
   "id": "85b226cf",
   "metadata": {},
   "source": [
    "## Step 1: Install and Import Dependencies\n",
    "\n",
    "We must install and import the dependencies. We need opencv-python in order to use computer vision related functionalities."
   ]
  },
  {
   "cell_type": "code",
   "execution_count": 1,
   "id": "fbaa4bd3",
   "metadata": {},
   "outputs": [
    {
     "name": "stdout",
     "output_type": "stream",
     "text": [
      "Requirement already satisfied: opencv-python in ./tfod/lib/python3.10/site-packages (4.6.0.66)\n",
      "Requirement already satisfied: numpy>=1.19.3 in ./tfod/lib/python3.10/site-packages (from opencv-python) (1.23.5)\n"
     ]
    }
   ],
   "source": [
    "!pip install opencv-python"
   ]
  },
  {
   "cell_type": "code",
   "execution_count": 2,
   "id": "444b2137",
   "metadata": {},
   "outputs": [],
   "source": [
    "import cv2\n",
    "import os\n",
    "import time"
   ]
  },
  {
   "cell_type": "markdown",
   "id": "0d00ed20",
   "metadata": {},
   "source": [
    "## Step 2: Define the Images to Collect"
   ]
  },
  {
   "cell_type": "code",
   "execution_count": 3,
   "id": "65df85cf",
   "metadata": {},
   "outputs": [],
   "source": [
    "# The gestures we are training the model to detect.\n",
    "labels = [\"h\", \"e\", \"l\", \"o\", \"w\", \"r\", \"d\"]\n",
    "\n",
    "# The number of training images per gesture we will take.\n",
    "nImgs = 5"
   ]
  },
  {
   "cell_type": "markdown",
   "id": "12f77f83",
   "metadata": {},
   "source": [
    "## Step 3: Set Up File Structure"
   ]
  },
  {
   "cell_type": "code",
   "execution_count": 4,
   "id": "672abd5d",
   "metadata": {},
   "outputs": [],
   "source": [
    "# The path to store our training images in.\n",
    "path = \"./tensorflow/workspace/images/training_images/\"\n",
    "\n",
    "# Create the path if it does not exist.\n",
    "if not os.path.exists(path):\n",
    "    os.makedirs(path)"
   ]
  },
  {
   "cell_type": "markdown",
   "id": "ae396e01",
   "metadata": {},
   "source": [
    "## Step 4: Capture Training Images From Webcam"
   ]
  },
  {
   "cell_type": "code",
   "execution_count": 5,
   "id": "a591f54f",
   "metadata": {},
   "outputs": [
    {
     "name": "stderr",
     "output_type": "stream",
     "text": [
      "[ WARN:0@0.160] global /build/opencv/src/opencv-4.5.5/modules/videoio/src/cap_gstreamer.cpp (862) isPipelinePlaying OpenCV | GStreamer warning: GStreamer: pipeline have not been created\n"
     ]
    },
    {
     "name": "stdout",
     "output_type": "stream",
     "text": [
      "Capturing images for: h\n",
      "Capturing image 0/5\n"
     ]
    },
    {
     "name": "stderr",
     "output_type": "stream",
     "text": [
      "[ WARN:0@16.004] global /build/opencv/src/opencv-4.5.5/modules/videoio/src/cap_gstreamer.cpp (862) isPipelinePlaying OpenCV | GStreamer warning: GStreamer: pipeline have not been created\n",
      "[ WARN:0@16.004] global /build/opencv/src/opencv-4.5.5/modules/videoio/src/cap_v4l.cpp (889) open VIDEOIO(V4L2:/dev/video0): can't open camera by index\n"
     ]
    },
    {
     "name": "stdout",
     "output_type": "stream",
     "text": [
      "Capturing images for: e\n",
      "Capturing image 0/5\n"
     ]
    },
    {
     "ename": "error",
     "evalue": "OpenCV(4.5.5) /build/opencv/src/opencv-4.5.5/modules/imgcodecs/src/loadsave.cpp:801: error: (-215:Assertion failed) !_img.empty() in function 'imwrite'\n",
     "output_type": "error",
     "traceback": [
      "\u001b[0;31m---------------------------------------------------------------------------\u001b[0m",
      "\u001b[0;31merror\u001b[0m                                     Traceback (most recent call last)",
      "Cell \u001b[0;32mIn[5], line 14\u001b[0m\n\u001b[1;32m     12\u001b[0m \u001b[38;5;28mprint\u001b[39m(\u001b[38;5;124mf\u001b[39m\u001b[38;5;124m\"\u001b[39m\u001b[38;5;124mCapturing image \u001b[39m\u001b[38;5;132;01m{\u001b[39;00mi\u001b[38;5;132;01m}\u001b[39;00m\u001b[38;5;124m/\u001b[39m\u001b[38;5;132;01m{\u001b[39;00mnImgs\u001b[38;5;132;01m}\u001b[39;00m\u001b[38;5;124m\"\u001b[39m)\n\u001b[1;32m     13\u001b[0m _, frame \u001b[38;5;241m=\u001b[39m cap\u001b[38;5;241m.\u001b[39mread()\n\u001b[0;32m---> 14\u001b[0m \u001b[43mcv2\u001b[49m\u001b[38;5;241;43m.\u001b[39;49m\u001b[43mimwrite\u001b[49m\u001b[43m(\u001b[49m\u001b[43mpath\u001b[49m\u001b[38;5;241;43m+\u001b[39;49m\u001b[38;5;124;43mf\u001b[39;49m\u001b[38;5;124;43m\"\u001b[39;49m\u001b[38;5;132;43;01m{\u001b[39;49;00m\u001b[43mlabel\u001b[49m\u001b[38;5;132;43;01m}\u001b[39;49;00m\u001b[38;5;124;43m_\u001b[39;49m\u001b[38;5;132;43;01m{\u001b[39;49;00m\u001b[43mi\u001b[49m\u001b[38;5;132;43;01m}\u001b[39;49;00m\u001b[38;5;124;43m.jpg\u001b[39;49m\u001b[38;5;124;43m\"\u001b[39;49m\u001b[43m,\u001b[49m\u001b[43m \u001b[49m\u001b[43mframe\u001b[49m\u001b[43m)\u001b[49m\n\u001b[1;32m     15\u001b[0m cv2\u001b[38;5;241m.\u001b[39mimshow(\u001b[38;5;124m\"\u001b[39m\u001b[38;5;124mFrame\u001b[39m\u001b[38;5;124m\"\u001b[39m, frame)\n\u001b[1;32m     16\u001b[0m time\u001b[38;5;241m.\u001b[39msleep(\u001b[38;5;241m10\u001b[39m)\n",
      "\u001b[0;31merror\u001b[0m: OpenCV(4.5.5) /build/opencv/src/opencv-4.5.5/modules/imgcodecs/src/loadsave.cpp:801: error: (-215:Assertion failed) !_img.empty() in function 'imwrite'\n"
     ]
    }
   ],
   "source": [
    "# Loop for all gestures we want to train.\n",
    "for label in labels:\n",
    "    \n",
    "    cap = cv2.VideoCapture(0)\n",
    "    print(f\"Capturing images for: {label}\")\n",
    "    time.sleep(5)\n",
    "    \n",
    "    # Loop for however many images we wish to capture per gesture.\n",
    "    for i in range(nImgs):\n",
    "        \n",
    "        # Capture and save the image.\n",
    "        print(f\"Capturing image {i}/{nImgs}\")\n",
    "        _, frame = cap.read()\n",
    "        cv2.imwrite(path+f\"{label}_{i}.jpg\", frame)\n",
    "        cv2.imshow(\"Frame\", frame)\n",
    "        time.sleep(10)\n",
    "        \n",
    "        # Press 'q' to quit.\n",
    "        if cv2.waitKey(1) & 0xFF == ord('q'):\n",
    "            break\n",
    "            \n",
    "cap.release()\n",
    "cv2.destroyAllWindows()"
   ]
  }
 ],
 "metadata": {
  "kernelspec": {
   "display_name": "Python 3 (ipykernel)",
   "language": "python",
   "name": "python3"
  },
  "language_info": {
   "codemirror_mode": {
    "name": "ipython",
    "version": 3
   },
   "file_extension": ".py",
   "mimetype": "text/x-python",
   "name": "python",
   "nbconvert_exporter": "python",
   "pygments_lexer": "ipython3",
   "version": "3.10.4"
  }
 },
 "nbformat": 4,
 "nbformat_minor": 5
}
