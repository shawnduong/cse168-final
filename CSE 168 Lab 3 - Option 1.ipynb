{
 "cells": [
  {
   "cell_type": "markdown",
   "id": "51b79bdf",
   "metadata": {},
   "source": [
    "# CSE 168 Lab 3 - Option 1\n",
    "\n",
    "This notebook describes CSE 168 Lab 3 - Option 1 for students Shawn Duong, Chloe Engel, Charison Gill-Branion, and Isabella Montoya in the Fall semester of 2022.\n",
    "\n",
    "For this lab, we are training a model to detect 4 hand gestures. This follows the tutorial given in the lab handout by Nicholas Renotte.\n",
    "\n",
    "Before running this notebook, one should set up the venv and install the dependencies as per the tutorial:\n",
    "\n",
    "```\n",
    "python -m venv tfod\n",
    "\n",
    "source tfod/bin/activate # Linux\n",
    ".\\tfod\\Scripts\\activate # Windows \n",
    "\n",
    "python -m pip install --upgrade pip\n",
    "pip install ipykernel\n",
    "python -m ipykernel install --user --name=tfodj\n",
    "```\n",
    "\n",
    "Make sure that the notebook's kernel is tfodj as well."
   ]
  },
  {
   "cell_type": "markdown",
   "id": "9cb3c2a2",
   "metadata": {},
   "source": [
    "# Part 1: Collecting Training Images"
   ]
  },
  {
   "cell_type": "markdown",
   "id": "b3865881",
   "metadata": {},
   "source": [
    "## Step 1: Install and Import Dependencies\n",
    "\n",
    "We must install and import the dependencies. We need opencv-python in order to use computer vision related functionalities."
   ]
  },
  {
   "cell_type": "code",
   "execution_count": 1,
   "id": "65b61c62",
   "metadata": {},
   "outputs": [
    {
     "name": "stdout",
     "output_type": "stream",
     "text": [
      "Requirement already satisfied: opencv-python in ./tfod/lib/python3.10/site-packages (4.6.0.66)\r\n",
      "Requirement already satisfied: numpy>=1.19.3 in ./tfod/lib/python3.10/site-packages (from opencv-python) (1.22.4)\r\n"
     ]
    }
   ],
   "source": [
    "!pip install opencv-python"
   ]
  },
  {
   "cell_type": "code",
   "execution_count": 2,
   "id": "ef1ab61e",
   "metadata": {},
   "outputs": [],
   "source": [
    "import cv2\n",
    "import os\n",
    "import time"
   ]
  },
  {
   "cell_type": "markdown",
   "id": "321fa6ba",
   "metadata": {},
   "source": [
    "## Step 2: Define the Images to Collect\n",
    "\n",
    "We are collecting the hand gestures that make up \"Hello World,\" and saving 5 images per gesture. We can collect more training images by just re-running the code in step 4, though."
   ]
  },
  {
   "cell_type": "code",
   "execution_count": 3,
   "id": "97268182",
   "metadata": {},
   "outputs": [],
   "source": [
    "# The gestures we are training the model to detect.\n",
    "labels = [\"h\", \"e\", \"l\", \"o\", \"w\", \"r\", \"d\"]\n",
    "\n",
    "# The number of training images per gesture we will take.\n",
    "nImgs = 5"
   ]
  },
  {
   "cell_type": "markdown",
   "id": "f9486176",
   "metadata": {},
   "source": [
    "## Step 3: Set Up File Structure\n",
    "\n",
    "We are going to save everything in `./tensorflow/workspaces/images/training_images/`."
   ]
  },
  {
   "cell_type": "code",
   "execution_count": 4,
   "id": "81e8298a",
   "metadata": {},
   "outputs": [],
   "source": [
    "# The path to store our training images in.\n",
    "path = \"./tensorflow/workspace/images/training_images/\"\n",
    "\n",
    "# Create the path if it does not exist.\n",
    "if not os.path.exists(path):\n",
    "    os.makedirs(path)"
   ]
  },
  {
   "cell_type": "markdown",
   "id": "651ca030",
   "metadata": {},
   "source": [
    "## Step 4: Capture Training Images From Webcam\n",
    "\n",
    "We capture 5 images per gesture from the webcam. We can press 'q' on our keyboard to quit early, or 'c' to capture an image when we're ready."
   ]
  },
  {
   "cell_type": "code",
   "execution_count": 5,
   "id": "507d0ebc",
   "metadata": {
    "scrolled": true
   },
   "outputs": [],
   "source": [
    "# If we have already trained, we may want to skip this step.\n",
    "# If you have not trained yet, set this to False.\n",
    "skipTraining = True\n",
    "\n",
    "if not skipTraining:\n",
    "    \n",
    "    cap = cv2.VideoCapture(0)\n",
    "\n",
    "    # Loop for all gestures we want to train.\n",
    "    for label in labels:\n",
    "\n",
    "        print(f\"Capturing images for: {label}\")\n",
    "\n",
    "        completed = 0\n",
    "        earlyExit = False\n",
    "\n",
    "        # Loop for however many images we wish to capture per gesture.\n",
    "        while completed < nImgs:\n",
    "\n",
    "            # Read from the camera and show it to us.\n",
    "            _, frame = cap.read()\n",
    "\n",
    "            try:\n",
    "                cv2.imshow(\"Frame\", frame)\n",
    "            except:\n",
    "                continue\n",
    "\n",
    "            # Webcam refresh rate.\n",
    "            time.sleep(0.01)\n",
    "\n",
    "            # Press 'q' to quit.\n",
    "            key = cv2.waitKey(1) & 0xFF\n",
    "            if key == ord('q'):\n",
    "                earlyExit = True\n",
    "                break\n",
    "\n",
    "            # Press 'c' to capture.\n",
    "            elif key == ord('c'):\n",
    "                # Capture and save the image.\n",
    "                completed += 1\n",
    "                print(f\"Capturing image {completed}/{nImgs}\")\n",
    "                cv2.imwrite(path+f\"{label}_{int(time.time())}.jpg\", frame)\n",
    "\n",
    "        if earlyExit:\n",
    "            break\n",
    "\n",
    "    cap.release()\n",
    "    cv2.destroyAllWindows()"
   ]
  },
  {
   "cell_type": "markdown",
   "id": "cc5206d7",
   "metadata": {},
   "source": [
    "# Part 2: Training and Detection"
   ]
  },
  {
   "cell_type": "markdown",
   "id": "8d57237f",
   "metadata": {},
   "source": [
    "## Step 1: Download and Compile TFOD\n",
    "\n",
    "We must download and install TFOD from TensorFlow's GitHub. We must compile all the proto files to do so. This is different for Linux and Windows."
   ]
  },
  {
   "cell_type": "code",
   "execution_count": 6,
   "id": "8a68cd9e",
   "metadata": {},
   "outputs": [
    {
     "name": "stdout",
     "output_type": "stream",
     "text": [
      "error: you cannot perform this operation unless you are root.\n",
      "\u001b[?25l\u001b[?25hProcessing /home/skat/doc/repos/cse168-final/models/research\n",
      "  Preparing metadata (setup.py) ... \u001b[?25ldone\n",
      "\u001b[?25hRequirement already satisfied: avro-python3 in /home/skat/doc/repos/cse168-final/tfod/lib/python3.10/site-packages (from object-detection==0.1) (1.10.2)\n",
      "Requirement already satisfied: apache-beam in /home/skat/doc/repos/cse168-final/tfod/lib/python3.10/site-packages (from object-detection==0.1) (2.43.0)\n",
      "Requirement already satisfied: pillow in /home/skat/doc/repos/cse168-final/tfod/lib/python3.10/site-packages (from object-detection==0.1) (9.3.0)\n",
      "Requirement already satisfied: lxml in /home/skat/doc/repos/cse168-final/tfod/lib/python3.10/site-packages (from object-detection==0.1) (4.9.1)\n",
      "Requirement already satisfied: matplotlib in /home/skat/doc/repos/cse168-final/tfod/lib/python3.10/site-packages (from object-detection==0.1) (3.6.2)\n",
      "Requirement already satisfied: Cython in /home/skat/doc/repos/cse168-final/tfod/lib/python3.10/site-packages (from object-detection==0.1) (0.29.32)\n",
      "Requirement already satisfied: contextlib2 in /home/skat/doc/repos/cse168-final/tfod/lib/python3.10/site-packages (from object-detection==0.1) (21.6.0)\n",
      "Requirement already satisfied: tf-slim in /home/skat/doc/repos/cse168-final/tfod/lib/python3.10/site-packages (from object-detection==0.1) (1.1.0)\n",
      "Requirement already satisfied: six in /home/skat/doc/repos/cse168-final/tfod/lib/python3.10/site-packages (from object-detection==0.1) (1.16.0)\n",
      "Requirement already satisfied: pycocotools in /home/skat/doc/repos/cse168-final/tfod/lib/python3.10/site-packages (from object-detection==0.1) (2.0.6)\n",
      "Requirement already satisfied: lvis in /home/skat/doc/repos/cse168-final/tfod/lib/python3.10/site-packages (from object-detection==0.1) (0.5.3)\n",
      "Requirement already satisfied: scipy in /home/skat/doc/repos/cse168-final/tfod/lib/python3.10/site-packages (from object-detection==0.1) (1.9.3)\n",
      "Requirement already satisfied: pandas in /home/skat/doc/repos/cse168-final/tfod/lib/python3.10/site-packages (from object-detection==0.1) (1.5.2)\n",
      "Requirement already satisfied: tf-models-official>=2.5.1 in /home/skat/doc/repos/cse168-final/tfod/lib/python3.10/site-packages (from object-detection==0.1) (2.10.1)\n",
      "Requirement already satisfied: tensorflow_io in /home/skat/doc/repos/cse168-final/tfod/lib/python3.10/site-packages (from object-detection==0.1) (0.28.0)\n",
      "Requirement already satisfied: keras in /home/skat/doc/repos/cse168-final/tfod/lib/python3.10/site-packages (from object-detection==0.1) (2.10.0)\n",
      "Requirement already satisfied: pyparsing==2.4.7 in /home/skat/doc/repos/cse168-final/tfod/lib/python3.10/site-packages (from object-detection==0.1) (2.4.7)\n",
      "Requirement already satisfied: sacrebleu<=2.2.0 in /home/skat/doc/repos/cse168-final/tfod/lib/python3.10/site-packages (from object-detection==0.1) (2.2.0)\n",
      "Requirement already satisfied: colorama in /home/skat/doc/repos/cse168-final/tfod/lib/python3.10/site-packages (from sacrebleu<=2.2.0->object-detection==0.1) (0.4.6)\n",
      "Requirement already satisfied: tabulate>=0.8.9 in /home/skat/doc/repos/cse168-final/tfod/lib/python3.10/site-packages (from sacrebleu<=2.2.0->object-detection==0.1) (0.9.0)\n",
      "Requirement already satisfied: numpy>=1.17 in /home/skat/doc/repos/cse168-final/tfod/lib/python3.10/site-packages (from sacrebleu<=2.2.0->object-detection==0.1) (1.22.4)\n",
      "Requirement already satisfied: portalocker in /home/skat/doc/repos/cse168-final/tfod/lib/python3.10/site-packages (from sacrebleu<=2.2.0->object-detection==0.1) (2.6.0)\n",
      "Requirement already satisfied: regex in /home/skat/doc/repos/cse168-final/tfod/lib/python3.10/site-packages (from sacrebleu<=2.2.0->object-detection==0.1) (2022.10.31)\n",
      "Requirement already satisfied: google-api-python-client>=1.6.7 in /home/skat/doc/repos/cse168-final/tfod/lib/python3.10/site-packages (from tf-models-official>=2.5.1->object-detection==0.1) (2.69.0)\n",
      "Requirement already satisfied: gin-config in /home/skat/doc/repos/cse168-final/tfod/lib/python3.10/site-packages (from tf-models-official>=2.5.1->object-detection==0.1) (0.5.0)\n",
      "Requirement already satisfied: oauth2client in /home/skat/doc/repos/cse168-final/tfod/lib/python3.10/site-packages (from tf-models-official>=2.5.1->object-detection==0.1) (4.1.3)\n",
      "Requirement already satisfied: pyyaml<6.0,>=5.1 in /home/skat/doc/repos/cse168-final/tfod/lib/python3.10/site-packages (from tf-models-official>=2.5.1->object-detection==0.1) (5.4.1)\n",
      "Requirement already satisfied: tensorflow-model-optimization>=0.4.1 in /home/skat/doc/repos/cse168-final/tfod/lib/python3.10/site-packages (from tf-models-official>=2.5.1->object-detection==0.1) (0.7.3)\n",
      "Requirement already satisfied: opencv-python-headless in /home/skat/doc/repos/cse168-final/tfod/lib/python3.10/site-packages (from tf-models-official>=2.5.1->object-detection==0.1) (4.6.0.66)\n",
      "Requirement already satisfied: tensorflow-text~=2.10.0 in /home/skat/doc/repos/cse168-final/tfod/lib/python3.10/site-packages (from tf-models-official>=2.5.1->object-detection==0.1) (2.10.0)\n",
      "Requirement already satisfied: tensorflow-hub>=0.6.0 in /home/skat/doc/repos/cse168-final/tfod/lib/python3.10/site-packages (from tf-models-official>=2.5.1->object-detection==0.1) (0.12.0)\n",
      "Requirement already satisfied: seqeval in /home/skat/doc/repos/cse168-final/tfod/lib/python3.10/site-packages (from tf-models-official>=2.5.1->object-detection==0.1) (1.2.2)\n",
      "Requirement already satisfied: py-cpuinfo>=3.3.0 in /home/skat/doc/repos/cse168-final/tfod/lib/python3.10/site-packages (from tf-models-official>=2.5.1->object-detection==0.1) (9.0.0)\n",
      "Requirement already satisfied: tensorflow~=2.10.0 in /home/skat/doc/repos/cse168-final/tfod/lib/python3.10/site-packages (from tf-models-official>=2.5.1->object-detection==0.1) (2.10.1)\n",
      "Requirement already satisfied: immutabledict in /home/skat/doc/repos/cse168-final/tfod/lib/python3.10/site-packages (from tf-models-official>=2.5.1->object-detection==0.1) (2.2.3)\n",
      "Requirement already satisfied: tensorflow-datasets in /home/skat/doc/repos/cse168-final/tfod/lib/python3.10/site-packages (from tf-models-official>=2.5.1->object-detection==0.1) (4.7.0)\n",
      "Requirement already satisfied: sentencepiece in /home/skat/doc/repos/cse168-final/tfod/lib/python3.10/site-packages (from tf-models-official>=2.5.1->object-detection==0.1) (0.1.97)\n",
      "Requirement already satisfied: kaggle>=1.3.9 in /home/skat/doc/repos/cse168-final/tfod/lib/python3.10/site-packages (from tf-models-official>=2.5.1->object-detection==0.1) (1.5.12)\n",
      "Requirement already satisfied: tensorflow-addons in /home/skat/doc/repos/cse168-final/tfod/lib/python3.10/site-packages (from tf-models-official>=2.5.1->object-detection==0.1) (0.19.0)\n",
      "Requirement already satisfied: psutil>=5.4.3 in /home/skat/doc/repos/cse168-final/tfod/lib/python3.10/site-packages (from tf-models-official>=2.5.1->object-detection==0.1) (5.9.4)\n",
      "Requirement already satisfied: pytz>=2020.1 in /home/skat/doc/repos/cse168-final/tfod/lib/python3.10/site-packages (from pandas->object-detection==0.1) (2022.6)\n",
      "Requirement already satisfied: python-dateutil>=2.8.1 in /home/skat/doc/repos/cse168-final/tfod/lib/python3.10/site-packages (from pandas->object-detection==0.1) (2.8.2)\n",
      "Requirement already satisfied: absl-py>=0.2.2 in /home/skat/doc/repos/cse168-final/tfod/lib/python3.10/site-packages (from tf-slim->object-detection==0.1) (1.3.0)\n",
      "Requirement already satisfied: grpcio!=1.48.0,<2,>=1.33.1 in /home/skat/doc/repos/cse168-final/tfod/lib/python3.10/site-packages (from apache-beam->object-detection==0.1) (1.51.1)\n",
      "Requirement already satisfied: pydot<2,>=1.2.0 in /home/skat/doc/repos/cse168-final/tfod/lib/python3.10/site-packages (from apache-beam->object-detection==0.1) (1.4.2)\n",
      "Requirement already satisfied: crcmod<2.0,>=1.7 in /home/skat/doc/repos/cse168-final/tfod/lib/python3.10/site-packages (from apache-beam->object-detection==0.1) (1.7)\n",
      "Requirement already satisfied: proto-plus<2,>=1.7.1 in /home/skat/doc/repos/cse168-final/tfod/lib/python3.10/site-packages (from apache-beam->object-detection==0.1) (1.22.1)\n",
      "Requirement already satisfied: typing-extensions>=3.7.0 in /home/skat/doc/repos/cse168-final/tfod/lib/python3.10/site-packages (from apache-beam->object-detection==0.1) (4.4.0)\n",
      "Requirement already satisfied: hdfs<3.0.0,>=2.1.0 in /home/skat/doc/repos/cse168-final/tfod/lib/python3.10/site-packages (from apache-beam->object-detection==0.1) (2.7.0)\n",
      "Requirement already satisfied: httplib2<0.21.0,>=0.8 in /home/skat/doc/repos/cse168-final/tfod/lib/python3.10/site-packages (from apache-beam->object-detection==0.1) (0.20.4)\n",
      "Requirement already satisfied: pyarrow<10.0.0,>=0.15.1 in /home/skat/doc/repos/cse168-final/tfod/lib/python3.10/site-packages (from apache-beam->object-detection==0.1) (9.0.0)\n",
      "Requirement already satisfied: protobuf<4,>3.12.2 in /home/skat/doc/repos/cse168-final/tfod/lib/python3.10/site-packages (from apache-beam->object-detection==0.1) (3.20.0)\n",
      "Requirement already satisfied: cloudpickle~=2.2.0 in /home/skat/doc/repos/cse168-final/tfod/lib/python3.10/site-packages (from apache-beam->object-detection==0.1) (2.2.0)\n",
      "Requirement already satisfied: pymongo<4.0.0,>=3.8.0 in /home/skat/doc/repos/cse168-final/tfod/lib/python3.10/site-packages (from apache-beam->object-detection==0.1) (3.13.0)\n",
      "Requirement already satisfied: fasteners<1.0,>=0.3 in /home/skat/doc/repos/cse168-final/tfod/lib/python3.10/site-packages (from apache-beam->object-detection==0.1) (0.18)\n",
      "Requirement already satisfied: requests<3.0.0,>=2.24.0 in /home/skat/doc/repos/cse168-final/tfod/lib/python3.10/site-packages (from apache-beam->object-detection==0.1) (2.28.1)\n",
      "Requirement already satisfied: orjson<4.0 in /home/skat/doc/repos/cse168-final/tfod/lib/python3.10/site-packages (from apache-beam->object-detection==0.1) (3.8.3)\n",
      "Requirement already satisfied: zstandard<1,>=0.18.0 in /home/skat/doc/repos/cse168-final/tfod/lib/python3.10/site-packages (from apache-beam->object-detection==0.1) (0.19.0)\n",
      "Requirement already satisfied: fastavro<2,>=0.23.6 in /home/skat/doc/repos/cse168-final/tfod/lib/python3.10/site-packages (from apache-beam->object-detection==0.1) (1.7.0)\n",
      "Requirement already satisfied: dill<0.3.2,>=0.3.1.1 in /home/skat/doc/repos/cse168-final/tfod/lib/python3.10/site-packages (from apache-beam->object-detection==0.1) (0.3.1.1)\n",
      "Requirement already satisfied: objsize<0.6.0,>=0.5.2 in /home/skat/doc/repos/cse168-final/tfod/lib/python3.10/site-packages (from apache-beam->object-detection==0.1) (0.5.2)\n"
     ]
    },
    {
     "name": "stdout",
     "output_type": "stream",
     "text": [
      "Requirement already satisfied: cycler>=0.10.0 in /home/skat/doc/repos/cse168-final/tfod/lib/python3.10/site-packages (from lvis->object-detection==0.1) (0.11.0)\n",
      "Requirement already satisfied: kiwisolver>=1.1.0 in /home/skat/doc/repos/cse168-final/tfod/lib/python3.10/site-packages (from lvis->object-detection==0.1) (1.4.4)\n",
      "Requirement already satisfied: opencv-python>=4.1.0.25 in /home/skat/doc/repos/cse168-final/tfod/lib/python3.10/site-packages (from lvis->object-detection==0.1) (4.6.0.66)\n",
      "Requirement already satisfied: packaging>=20.0 in /home/skat/doc/repos/cse168-final/tfod/lib/python3.10/site-packages (from matplotlib->object-detection==0.1) (22.0)\n",
      "Requirement already satisfied: fonttools>=4.22.0 in /home/skat/doc/repos/cse168-final/tfod/lib/python3.10/site-packages (from matplotlib->object-detection==0.1) (4.38.0)\n",
      "Requirement already satisfied: contourpy>=1.0.1 in /home/skat/doc/repos/cse168-final/tfod/lib/python3.10/site-packages (from matplotlib->object-detection==0.1) (1.0.6)\n",
      "Requirement already satisfied: tensorflow-io-gcs-filesystem==0.28.0 in /home/skat/doc/repos/cse168-final/tfod/lib/python3.10/site-packages (from tensorflow_io->object-detection==0.1) (0.28.0)\n",
      "Requirement already satisfied: google-auth-httplib2>=0.1.0 in /home/skat/doc/repos/cse168-final/tfod/lib/python3.10/site-packages (from google-api-python-client>=1.6.7->tf-models-official>=2.5.1->object-detection==0.1) (0.1.0)\n",
      "Requirement already satisfied: uritemplate<5,>=3.0.1 in /home/skat/doc/repos/cse168-final/tfod/lib/python3.10/site-packages (from google-api-python-client>=1.6.7->tf-models-official>=2.5.1->object-detection==0.1) (4.1.1)\n",
      "Requirement already satisfied: google-auth<3.0.0dev,>=1.19.0 in /home/skat/doc/repos/cse168-final/tfod/lib/python3.10/site-packages (from google-api-python-client>=1.6.7->tf-models-official>=2.5.1->object-detection==0.1) (2.15.0)\n",
      "Requirement already satisfied: google-api-core!=2.0.*,!=2.1.*,!=2.2.*,!=2.3.0,<3.0.0dev,>=1.31.5 in /home/skat/doc/repos/cse168-final/tfod/lib/python3.10/site-packages (from google-api-python-client>=1.6.7->tf-models-official>=2.5.1->object-detection==0.1) (2.11.0)\n",
      "Requirement already satisfied: docopt in /home/skat/doc/repos/cse168-final/tfod/lib/python3.10/site-packages (from hdfs<3.0.0,>=2.1.0->apache-beam->object-detection==0.1) (0.6.2)\n",
      "Requirement already satisfied: certifi in /home/skat/doc/repos/cse168-final/tfod/lib/python3.10/site-packages (from kaggle>=1.3.9->tf-models-official>=2.5.1->object-detection==0.1) (2022.12.7)\n",
      "Requirement already satisfied: tqdm in /home/skat/doc/repos/cse168-final/tfod/lib/python3.10/site-packages (from kaggle>=1.3.9->tf-models-official>=2.5.1->object-detection==0.1) (4.64.1)\n",
      "Requirement already satisfied: python-slugify in /home/skat/doc/repos/cse168-final/tfod/lib/python3.10/site-packages (from kaggle>=1.3.9->tf-models-official>=2.5.1->object-detection==0.1) (7.0.0)\n",
      "Requirement already satisfied: urllib3 in /home/skat/doc/repos/cse168-final/tfod/lib/python3.10/site-packages (from kaggle>=1.3.9->tf-models-official>=2.5.1->object-detection==0.1) (1.26.13)\n",
      "Requirement already satisfied: charset-normalizer<3,>=2 in /home/skat/doc/repos/cse168-final/tfod/lib/python3.10/site-packages (from requests<3.0.0,>=2.24.0->apache-beam->object-detection==0.1) (2.1.1)\n",
      "Requirement already satisfied: idna<4,>=2.5 in /home/skat/doc/repos/cse168-final/tfod/lib/python3.10/site-packages (from requests<3.0.0,>=2.24.0->apache-beam->object-detection==0.1) (3.4)\n",
      "Requirement already satisfied: libclang>=13.0.0 in /home/skat/doc/repos/cse168-final/tfod/lib/python3.10/site-packages (from tensorflow~=2.10.0->tf-models-official>=2.5.1->object-detection==0.1) (14.0.6)\n",
      "Requirement already satisfied: termcolor>=1.1.0 in /home/skat/doc/repos/cse168-final/tfod/lib/python3.10/site-packages (from tensorflow~=2.10.0->tf-models-official>=2.5.1->object-detection==0.1) (2.1.1)\n",
      "Requirement already satisfied: setuptools in /home/skat/doc/repos/cse168-final/tfod/lib/python3.10/site-packages (from tensorflow~=2.10.0->tf-models-official>=2.5.1->object-detection==0.1) (58.1.0)\n",
      "Requirement already satisfied: flatbuffers>=2.0 in /home/skat/doc/repos/cse168-final/tfod/lib/python3.10/site-packages (from tensorflow~=2.10.0->tf-models-official>=2.5.1->object-detection==0.1) (22.12.6)\n",
      "Requirement already satisfied: wrapt>=1.11.0 in /home/skat/doc/repos/cse168-final/tfod/lib/python3.10/site-packages (from tensorflow~=2.10.0->tf-models-official>=2.5.1->object-detection==0.1) (1.14.1)\n",
      "Requirement already satisfied: tensorflow-estimator<2.11,>=2.10.0 in /home/skat/doc/repos/cse168-final/tfod/lib/python3.10/site-packages (from tensorflow~=2.10.0->tf-models-official>=2.5.1->object-detection==0.1) (2.10.0)\n",
      "Requirement already satisfied: gast<=0.4.0,>=0.2.1 in /home/skat/doc/repos/cse168-final/tfod/lib/python3.10/site-packages (from tensorflow~=2.10.0->tf-models-official>=2.5.1->object-detection==0.1) (0.4.0)\n",
      "Requirement already satisfied: astunparse>=1.6.0 in /home/skat/doc/repos/cse168-final/tfod/lib/python3.10/site-packages (from tensorflow~=2.10.0->tf-models-official>=2.5.1->object-detection==0.1) (1.6.3)\n",
      "Collecting protobuf<4,>3.12.2\n",
      "  Using cached protobuf-3.19.6-cp310-cp310-manylinux_2_17_x86_64.manylinux2014_x86_64.whl (1.1 MB)\n",
      "Requirement already satisfied: google-pasta>=0.1.1 in /home/skat/doc/repos/cse168-final/tfod/lib/python3.10/site-packages (from tensorflow~=2.10.0->tf-models-official>=2.5.1->object-detection==0.1) (0.2.0)\n",
      "Requirement already satisfied: opt-einsum>=2.3.2 in /home/skat/doc/repos/cse168-final/tfod/lib/python3.10/site-packages (from tensorflow~=2.10.0->tf-models-official>=2.5.1->object-detection==0.1) (3.3.0)\n",
      "Requirement already satisfied: tensorboard<2.11,>=2.10 in /home/skat/doc/repos/cse168-final/tfod/lib/python3.10/site-packages (from tensorflow~=2.10.0->tf-models-official>=2.5.1->object-detection==0.1) (2.10.1)\n",
      "Requirement already satisfied: h5py>=2.9.0 in /home/skat/doc/repos/cse168-final/tfod/lib/python3.10/site-packages (from tensorflow~=2.10.0->tf-models-official>=2.5.1->object-detection==0.1) (3.7.0)\n",
      "Requirement already satisfied: keras-preprocessing>=1.1.1 in /home/skat/doc/repos/cse168-final/tfod/lib/python3.10/site-packages (from tensorflow~=2.10.0->tf-models-official>=2.5.1->object-detection==0.1) (1.1.2)\n",
      "Requirement already satisfied: dm-tree~=0.1.1 in /home/skat/doc/repos/cse168-final/tfod/lib/python3.10/site-packages (from tensorflow-model-optimization>=0.4.1->tf-models-official>=2.5.1->object-detection==0.1) (0.1.7)\n",
      "Requirement already satisfied: pyasn1-modules>=0.0.5 in /home/skat/doc/repos/cse168-final/tfod/lib/python3.10/site-packages (from oauth2client->tf-models-official>=2.5.1->object-detection==0.1) (0.2.8)\n",
      "Requirement already satisfied: pyasn1>=0.1.7 in /home/skat/doc/repos/cse168-final/tfod/lib/python3.10/site-packages (from oauth2client->tf-models-official>=2.5.1->object-detection==0.1) (0.4.8)\n",
      "Requirement already satisfied: rsa>=3.1.4 in /home/skat/doc/repos/cse168-final/tfod/lib/python3.10/site-packages (from oauth2client->tf-models-official>=2.5.1->object-detection==0.1) (4.9)\n",
      "Requirement already satisfied: scikit-learn>=0.21.3 in /home/skat/doc/repos/cse168-final/tfod/lib/python3.10/site-packages (from seqeval->tf-models-official>=2.5.1->object-detection==0.1) (1.2.0)\n",
      "Requirement already satisfied: typeguard>=2.7 in /home/skat/doc/repos/cse168-final/tfod/lib/python3.10/site-packages (from tensorflow-addons->tf-models-official>=2.5.1->object-detection==0.1) (2.13.3)\n",
      "Requirement already satisfied: etils[epath] in /home/skat/doc/repos/cse168-final/tfod/lib/python3.10/site-packages (from tensorflow-datasets->tf-models-official>=2.5.1->object-detection==0.1) (0.9.0)\n",
      "Requirement already satisfied: promise in /home/skat/doc/repos/cse168-final/tfod/lib/python3.10/site-packages (from tensorflow-datasets->tf-models-official>=2.5.1->object-detection==0.1) (2.3)\n",
      "Requirement already satisfied: tensorflow-metadata in /home/skat/doc/repos/cse168-final/tfod/lib/python3.10/site-packages (from tensorflow-datasets->tf-models-official>=2.5.1->object-detection==0.1) (1.12.0)\n",
      "Requirement already satisfied: toml in /home/skat/doc/repos/cse168-final/tfod/lib/python3.10/site-packages (from tensorflow-datasets->tf-models-official>=2.5.1->object-detection==0.1) (0.10.2)\n"
     ]
    },
    {
     "name": "stdout",
     "output_type": "stream",
     "text": [
      "Requirement already satisfied: wheel<1.0,>=0.23.0 in /home/skat/doc/repos/cse168-final/tfod/lib/python3.10/site-packages (from astunparse>=1.6.0->tensorflow~=2.10.0->tf-models-official>=2.5.1->object-detection==0.1) (0.38.4)\n",
      "Requirement already satisfied: googleapis-common-protos<2.0dev,>=1.56.2 in /home/skat/doc/repos/cse168-final/tfod/lib/python3.10/site-packages (from google-api-core!=2.0.*,!=2.1.*,!=2.2.*,!=2.3.0,<3.0.0dev,>=1.31.5->google-api-python-client>=1.6.7->tf-models-official>=2.5.1->object-detection==0.1) (1.57.0)\n",
      "Requirement already satisfied: cachetools<6.0,>=2.0.0 in /home/skat/doc/repos/cse168-final/tfod/lib/python3.10/site-packages (from google-auth<3.0.0dev,>=1.19.0->google-api-python-client>=1.6.7->tf-models-official>=2.5.1->object-detection==0.1) (5.2.0)\n",
      "Requirement already satisfied: joblib>=1.1.1 in /home/skat/doc/repos/cse168-final/tfod/lib/python3.10/site-packages (from scikit-learn>=0.21.3->seqeval->tf-models-official>=2.5.1->object-detection==0.1) (1.2.0)\n",
      "Requirement already satisfied: threadpoolctl>=2.0.0 in /home/skat/doc/repos/cse168-final/tfod/lib/python3.10/site-packages (from scikit-learn>=0.21.3->seqeval->tf-models-official>=2.5.1->object-detection==0.1) (3.1.0)\n",
      "Requirement already satisfied: markdown>=2.6.8 in /home/skat/doc/repos/cse168-final/tfod/lib/python3.10/site-packages (from tensorboard<2.11,>=2.10->tensorflow~=2.10.0->tf-models-official>=2.5.1->object-detection==0.1) (3.4.1)\n",
      "Requirement already satisfied: tensorboard-plugin-wit>=1.6.0 in /home/skat/doc/repos/cse168-final/tfod/lib/python3.10/site-packages (from tensorboard<2.11,>=2.10->tensorflow~=2.10.0->tf-models-official>=2.5.1->object-detection==0.1) (1.8.1)\n",
      "Requirement already satisfied: tensorboard-data-server<0.7.0,>=0.6.0 in /home/skat/doc/repos/cse168-final/tfod/lib/python3.10/site-packages (from tensorboard<2.11,>=2.10->tensorflow~=2.10.0->tf-models-official>=2.5.1->object-detection==0.1) (0.6.1)\n",
      "Requirement already satisfied: werkzeug>=1.0.1 in /home/skat/doc/repos/cse168-final/tfod/lib/python3.10/site-packages (from tensorboard<2.11,>=2.10->tensorflow~=2.10.0->tf-models-official>=2.5.1->object-detection==0.1) (2.2.2)\n",
      "Requirement already satisfied: google-auth-oauthlib<0.5,>=0.4.1 in /home/skat/doc/repos/cse168-final/tfod/lib/python3.10/site-packages (from tensorboard<2.11,>=2.10->tensorflow~=2.10.0->tf-models-official>=2.5.1->object-detection==0.1) (0.4.6)\n",
      "Requirement already satisfied: importlib_resources in /home/skat/doc/repos/cse168-final/tfod/lib/python3.10/site-packages (from etils[epath]->tensorflow-datasets->tf-models-official>=2.5.1->object-detection==0.1) (5.10.1)\n",
      "Requirement already satisfied: zipp in /home/skat/doc/repos/cse168-final/tfod/lib/python3.10/site-packages (from etils[epath]->tensorflow-datasets->tf-models-official>=2.5.1->object-detection==0.1) (3.11.0)\n",
      "Requirement already satisfied: text-unidecode>=1.3 in /home/skat/doc/repos/cse168-final/tfod/lib/python3.10/site-packages (from python-slugify->kaggle>=1.3.9->tf-models-official>=2.5.1->object-detection==0.1) (1.3)\n",
      "Requirement already satisfied: requests-oauthlib>=0.7.0 in /home/skat/doc/repos/cse168-final/tfod/lib/python3.10/site-packages (from google-auth-oauthlib<0.5,>=0.4.1->tensorboard<2.11,>=2.10->tensorflow~=2.10.0->tf-models-official>=2.5.1->object-detection==0.1) (1.3.1)\n",
      "Requirement already satisfied: MarkupSafe>=2.1.1 in /home/skat/doc/repos/cse168-final/tfod/lib/python3.10/site-packages (from werkzeug>=1.0.1->tensorboard<2.11,>=2.10->tensorflow~=2.10.0->tf-models-official>=2.5.1->object-detection==0.1) (2.1.1)\n",
      "Requirement already satisfied: oauthlib>=3.0.0 in /home/skat/doc/repos/cse168-final/tfod/lib/python3.10/site-packages (from requests-oauthlib>=0.7.0->google-auth-oauthlib<0.5,>=0.4.1->tensorboard<2.11,>=2.10->tensorflow~=2.10.0->tf-models-official>=2.5.1->object-detection==0.1) (3.2.2)\n",
      "Building wheels for collected packages: object-detection\n",
      "  Building wheel for object-detection (setup.py) ... \u001b[?25ldone\n",
      "\u001b[?25h  Created wheel for object-detection: filename=object_detection-0.1-py3-none-any.whl size=1655141 sha256=f62ba00ea5940a282b6b3a0d1c1232c18618289276cc7dbcc861359f16d92c6d\n",
      "  Stored in directory: /tmp/pip-ephem-wheel-cache-ue76p4dn/wheels/82/11/de/d6da7bf64cc9d1f460952b8e1a18880a1d88a6f2fac08bd2aa\n",
      "Successfully built object-detection\n",
      "Installing collected packages: protobuf, object-detection\n",
      "  Attempting uninstall: protobuf\n",
      "    Found existing installation: protobuf 3.20.0\n",
      "    Uninstalling protobuf-3.20.0:\n",
      "      Successfully uninstalled protobuf-3.20.0\n",
      "  Attempting uninstall: object-detection\n",
      "    Found existing installation: object-detection 0.1\n",
      "    Uninstalling object-detection-0.1:\n",
      "      Successfully uninstalled object-detection-0.1\n",
      "Successfully installed object-detection-0.1 protobuf-3.19.6\n"
     ]
    }
   ],
   "source": [
    "# Make the repository where we will clone the TensorFlow models repo.\n",
    "if not os.path.exists(\"./models/\"):\n",
    "    os.makedirs(\"./models/\")\n",
    "    !git clone https://github.com/tensorflow/models ./models/\n",
    "    \n",
    "# For Linux.\n",
    "if os.name == \"posix\":\n",
    "    \n",
    "    # For Arch Linux.\n",
    "    if \"arch\" in os.uname().release:\n",
    "        !pacman -Syu protobuf\n",
    "        \n",
    "    # If you're not using Arch, you're probably on Ubuntu or some\n",
    "    # other Debian derivative and use apt.\n",
    "    else:\n",
    "        !apt-get install protobuf-compiler\n",
    "        \n",
    "    # Compile the proto files.\n",
    "    !cd ./models/research && protoc object_detection/protos/*.proto --python_out=. \\\n",
    "     && cp object_detection/packages/tf2/setup.py . && python -m pip install .\n",
    "\n",
    "# For Windows.\n",
    "else:\n",
    "    \n",
    "    # TODO.\n",
    "    pass"
   ]
  },
  {
   "cell_type": "markdown",
   "id": "ab977451",
   "metadata": {},
   "source": [
    "## Step 2: Install TensorFlow and Upgrade Protobuf\n",
    "\n",
    "We will be using TensorFlow, so we should make sure it is installed before proceeding. We should also upgrade protobuf, since older versions may lead to an error about `builder.py`."
   ]
  },
  {
   "cell_type": "code",
   "execution_count": 7,
   "id": "0539e99e",
   "metadata": {},
   "outputs": [
    {
     "name": "stdout",
     "output_type": "stream",
     "text": [
      "Requirement already satisfied: tensorflow in ./tfod/lib/python3.10/site-packages (2.10.1)\n",
      "Requirement already satisfied: termcolor>=1.1.0 in ./tfod/lib/python3.10/site-packages (from tensorflow) (2.1.1)\n",
      "Requirement already satisfied: google-pasta>=0.1.1 in ./tfod/lib/python3.10/site-packages (from tensorflow) (0.2.0)\n",
      "Requirement already satisfied: typing-extensions>=3.6.6 in ./tfod/lib/python3.10/site-packages (from tensorflow) (4.4.0)\n",
      "Requirement already satisfied: keras-preprocessing>=1.1.1 in ./tfod/lib/python3.10/site-packages (from tensorflow) (1.1.2)\n",
      "Requirement already satisfied: tensorflow-io-gcs-filesystem>=0.23.1 in ./tfod/lib/python3.10/site-packages (from tensorflow) (0.28.0)\n",
      "Requirement already satisfied: keras<2.11,>=2.10.0 in ./tfod/lib/python3.10/site-packages (from tensorflow) (2.10.0)\n",
      "Requirement already satisfied: tensorboard<2.11,>=2.10 in ./tfod/lib/python3.10/site-packages (from tensorflow) (2.10.1)\n",
      "Requirement already satisfied: absl-py>=1.0.0 in ./tfod/lib/python3.10/site-packages (from tensorflow) (1.3.0)\n",
      "Requirement already satisfied: flatbuffers>=2.0 in ./tfod/lib/python3.10/site-packages (from tensorflow) (22.12.6)\n",
      "Requirement already satisfied: wrapt>=1.11.0 in ./tfod/lib/python3.10/site-packages (from tensorflow) (1.14.1)\n",
      "Requirement already satisfied: astunparse>=1.6.0 in ./tfod/lib/python3.10/site-packages (from tensorflow) (1.6.3)\n",
      "Requirement already satisfied: protobuf<3.20,>=3.9.2 in ./tfod/lib/python3.10/site-packages (from tensorflow) (3.19.6)\n",
      "Requirement already satisfied: gast<=0.4.0,>=0.2.1 in ./tfod/lib/python3.10/site-packages (from tensorflow) (0.4.0)\n",
      "Requirement already satisfied: h5py>=2.9.0 in ./tfod/lib/python3.10/site-packages (from tensorflow) (3.7.0)\n",
      "Requirement already satisfied: opt-einsum>=2.3.2 in ./tfod/lib/python3.10/site-packages (from tensorflow) (3.3.0)\n",
      "Requirement already satisfied: grpcio<2.0,>=1.24.3 in ./tfod/lib/python3.10/site-packages (from tensorflow) (1.51.1)\n",
      "Requirement already satisfied: tensorflow-estimator<2.11,>=2.10.0 in ./tfod/lib/python3.10/site-packages (from tensorflow) (2.10.0)\n",
      "Requirement already satisfied: numpy>=1.20 in ./tfod/lib/python3.10/site-packages (from tensorflow) (1.22.4)\n",
      "Requirement already satisfied: setuptools in ./tfod/lib/python3.10/site-packages (from tensorflow) (58.1.0)\n",
      "Requirement already satisfied: packaging in ./tfod/lib/python3.10/site-packages (from tensorflow) (22.0)\n",
      "Requirement already satisfied: six>=1.12.0 in ./tfod/lib/python3.10/site-packages (from tensorflow) (1.16.0)\n",
      "Requirement already satisfied: libclang>=13.0.0 in ./tfod/lib/python3.10/site-packages (from tensorflow) (14.0.6)\n",
      "Requirement already satisfied: wheel<1.0,>=0.23.0 in ./tfod/lib/python3.10/site-packages (from astunparse>=1.6.0->tensorflow) (0.38.4)\n",
      "Requirement already satisfied: tensorboard-data-server<0.7.0,>=0.6.0 in ./tfod/lib/python3.10/site-packages (from tensorboard<2.11,>=2.10->tensorflow) (0.6.1)\n",
      "Requirement already satisfied: markdown>=2.6.8 in ./tfod/lib/python3.10/site-packages (from tensorboard<2.11,>=2.10->tensorflow) (3.4.1)\n",
      "Requirement already satisfied: google-auth<3,>=1.6.3 in ./tfod/lib/python3.10/site-packages (from tensorboard<2.11,>=2.10->tensorflow) (2.15.0)\n",
      "Requirement already satisfied: tensorboard-plugin-wit>=1.6.0 in ./tfod/lib/python3.10/site-packages (from tensorboard<2.11,>=2.10->tensorflow) (1.8.1)\n",
      "Requirement already satisfied: requests<3,>=2.21.0 in ./tfod/lib/python3.10/site-packages (from tensorboard<2.11,>=2.10->tensorflow) (2.28.1)\n",
      "Requirement already satisfied: google-auth-oauthlib<0.5,>=0.4.1 in ./tfod/lib/python3.10/site-packages (from tensorboard<2.11,>=2.10->tensorflow) (0.4.6)\n",
      "Requirement already satisfied: werkzeug>=1.0.1 in ./tfod/lib/python3.10/site-packages (from tensorboard<2.11,>=2.10->tensorflow) (2.2.2)\n",
      "Requirement already satisfied: pyasn1-modules>=0.2.1 in ./tfod/lib/python3.10/site-packages (from google-auth<3,>=1.6.3->tensorboard<2.11,>=2.10->tensorflow) (0.2.8)\n",
      "Requirement already satisfied: rsa<5,>=3.1.4 in ./tfod/lib/python3.10/site-packages (from google-auth<3,>=1.6.3->tensorboard<2.11,>=2.10->tensorflow) (4.9)\n",
      "Requirement already satisfied: cachetools<6.0,>=2.0.0 in ./tfod/lib/python3.10/site-packages (from google-auth<3,>=1.6.3->tensorboard<2.11,>=2.10->tensorflow) (5.2.0)\n",
      "Requirement already satisfied: requests-oauthlib>=0.7.0 in ./tfod/lib/python3.10/site-packages (from google-auth-oauthlib<0.5,>=0.4.1->tensorboard<2.11,>=2.10->tensorflow) (1.3.1)\n",
      "Requirement already satisfied: urllib3<1.27,>=1.21.1 in ./tfod/lib/python3.10/site-packages (from requests<3,>=2.21.0->tensorboard<2.11,>=2.10->tensorflow) (1.26.13)\n",
      "Requirement already satisfied: certifi>=2017.4.17 in ./tfod/lib/python3.10/site-packages (from requests<3,>=2.21.0->tensorboard<2.11,>=2.10->tensorflow) (2022.12.7)\n",
      "Requirement already satisfied: idna<4,>=2.5 in ./tfod/lib/python3.10/site-packages (from requests<3,>=2.21.0->tensorboard<2.11,>=2.10->tensorflow) (3.4)\n",
      "Requirement already satisfied: charset-normalizer<3,>=2 in ./tfod/lib/python3.10/site-packages (from requests<3,>=2.21.0->tensorboard<2.11,>=2.10->tensorflow) (2.1.1)\n",
      "Requirement already satisfied: MarkupSafe>=2.1.1 in ./tfod/lib/python3.10/site-packages (from werkzeug>=1.0.1->tensorboard<2.11,>=2.10->tensorflow) (2.1.1)\n",
      "Requirement already satisfied: pyasn1<0.5.0,>=0.4.6 in ./tfod/lib/python3.10/site-packages (from pyasn1-modules>=0.2.1->google-auth<3,>=1.6.3->tensorboard<2.11,>=2.10->tensorflow) (0.4.8)\n",
      "Requirement already satisfied: oauthlib>=3.0.0 in ./tfod/lib/python3.10/site-packages (from requests-oauthlib>=0.7.0->google-auth-oauthlib<0.5,>=0.4.1->tensorboard<2.11,>=2.10->tensorflow) (3.2.2)\n",
      "Collecting protobuf==3.20\n",
      "  Using cached protobuf-3.20.0-cp310-cp310-manylinux_2_12_x86_64.manylinux2010_x86_64.whl (1.1 MB)\n",
      "Installing collected packages: protobuf\n",
      "  Attempting uninstall: protobuf\n",
      "    Found existing installation: protobuf 3.19.6\n",
      "    Uninstalling protobuf-3.19.6:\n",
      "      Successfully uninstalled protobuf-3.19.6\n",
      "\u001b[31mERROR: pip's dependency resolver does not currently take into account all the packages that are installed. This behaviour is the source of the following dependency conflicts.\n",
      "tensorflow 2.10.1 requires protobuf<3.20,>=3.9.2, but you have protobuf 3.20.0 which is incompatible.\n",
      "tensorboard 2.10.1 requires protobuf<3.20,>=3.9.2, but you have protobuf 3.20.0 which is incompatible.\n",
      "googleapis-common-protos 1.57.0 requires protobuf!=3.20.0,!=3.20.1,!=4.21.1,!=4.21.2,!=4.21.3,!=4.21.4,!=4.21.5,<5.0.0dev,>=3.19.5, but you have protobuf 3.20.0 which is incompatible.\n",
      "google-api-core 2.11.0 requires protobuf!=3.20.0,!=3.20.1,!=4.21.0,!=4.21.1,!=4.21.2,!=4.21.3,!=4.21.4,!=4.21.5,<5.0.0dev,>=3.19.5, but you have protobuf 3.20.0 which is incompatible.\u001b[0m\u001b[31m\n",
      "\u001b[0mSuccessfully installed protobuf-3.20.0\n"
     ]
    }
   ],
   "source": [
    "# You probably already have this installed, but just in case.\n",
    "!pip install tensorflow\n",
    "!pip install protobuf==3.20"
   ]
  },
  {
   "cell_type": "markdown",
   "id": "e98fd919",
   "metadata": {},
   "source": [
    "## Step 3: Get The Pretrained Model\n",
    "\n",
    "A pretrained model is available at http://download.tensorflow.org/models/object_detection/tf2/20200711/ssd_mobilenet_v2_fpnlite_320x320_coco17_tpu-8.tar.gz. We just need to get it and extract it now before we can use it with our object detection."
   ]
  },
  {
   "cell_type": "code",
   "execution_count": 8,
   "id": "af797fbc",
   "metadata": {},
   "outputs": [
    {
     "name": "stdout",
     "output_type": "stream",
     "text": [
      "--2022-12-13 02:38:32--  http://download.tensorflow.org/models/object_detection/tf2/20200711/ssd_mobilenet_v2_fpnlite_320x320_coco17_tpu-8.tar.gz\n",
      "Resolving download.tensorflow.org (download.tensorflow.org)... 2607:f8b0:4007:815::2010, 142.250.72.176\n",
      "Connecting to download.tensorflow.org (download.tensorflow.org)|2607:f8b0:4007:815::2010|:80... connected.\n",
      "HTTP request sent, awaiting response... 200 OK\n",
      "Length: 20515344 (20M) [application/x-tar]\n",
      "Saving to: 'ssd_mobilenet_v2_fpnlite_320x320_coco17_tpu-8.tar.gz'\n",
      "\n",
      "ssd_mobilenet_v2_fp 100%[===================>]  19.56M  10.6MB/s    in 1.8s    \n",
      "\n",
      "2022-12-13 02:38:34 (10.6 MB/s) - 'ssd_mobilenet_v2_fpnlite_320x320_coco17_tpu-8.tar.gz' saved [20515344/20515344]\n",
      "\n",
      "ssd_mobilenet_v2_fpnlite_320x320_coco17_tpu-8/\n",
      "ssd_mobilenet_v2_fpnlite_320x320_coco17_tpu-8/checkpoint/\n",
      "ssd_mobilenet_v2_fpnlite_320x320_coco17_tpu-8/checkpoint/ckpt-0.data-00000-of-00001\n",
      "ssd_mobilenet_v2_fpnlite_320x320_coco17_tpu-8/checkpoint/checkpoint\n",
      "ssd_mobilenet_v2_fpnlite_320x320_coco17_tpu-8/checkpoint/ckpt-0.index\n",
      "ssd_mobilenet_v2_fpnlite_320x320_coco17_tpu-8/pipeline.config\n",
      "ssd_mobilenet_v2_fpnlite_320x320_coco17_tpu-8/saved_model/\n",
      "ssd_mobilenet_v2_fpnlite_320x320_coco17_tpu-8/saved_model/saved_model.pb\n",
      "ssd_mobilenet_v2_fpnlite_320x320_coco17_tpu-8/saved_model/variables/\n",
      "ssd_mobilenet_v2_fpnlite_320x320_coco17_tpu-8/saved_model/variables/variables.data-00000-of-00001\n",
      "ssd_mobilenet_v2_fpnlite_320x320_coco17_tpu-8/saved_model/variables/variables.index\n"
     ]
    }
   ],
   "source": [
    "url = \"http://download.tensorflow.org/models/object_detection/tf2/20200711/ssd_mobilenet_v2_fpnlite_320x320_coco17_tpu-8.tar.gz\"\n",
    "\n",
    "# Make the directory.\n",
    "if not os.path.exists(\"./tensorflow/workspace/pretrained_models/\"):\n",
    "    os.makedirs(\"./tensorflow/workspace/pretrained_models/\")\n",
    "\n",
    "# For Linux.\n",
    "if os.name == \"posix\":\n",
    "    !wget {url}\n",
    "    !mv ssd_mobilenet_v2_fpnlite_320x320_coco17_tpu-8.tar.gz ./tensorflow/workspace/pretrained_models/\n",
    "    !cd ./tensorflow/workspace/pretrained_models/ && tar xzvf ssd_mobilenet_v2_fpnlite_320x320_coco17_tpu-8.tar.gz\n",
    "    \n",
    "# For Windows.\n",
    "else:\n",
    "    # TODO.\n",
    "    pass"
   ]
  },
  {
   "cell_type": "markdown",
   "id": "d2583876",
   "metadata": {},
   "source": [
    "## Step 4: Create the Label Map\n",
    "\n",
    "We create a file `./tensorflow/workspace/annotations/label_map.pbtxt` containing our labels."
   ]
  },
  {
   "cell_type": "code",
   "execution_count": 9,
   "id": "94960110",
   "metadata": {},
   "outputs": [],
   "source": [
    "labels = [\n",
    "    {\"name\": \"h\", \"id\": 1},\n",
    "    {\"name\": \"e\", \"id\": 2},\n",
    "    {\"name\": \"l\", \"id\": 3},\n",
    "    {\"name\": \"o\", \"id\": 4},\n",
    "    {\"name\": \"w\", \"id\": 5},\n",
    "    {\"name\": \"r\", \"id\": 6},\n",
    "    {\"name\": \"d\", \"id\": 7},\n",
    "]\n",
    "\n",
    "data = \"\"\n",
    "\n",
    "for label in labels:\n",
    "    \n",
    "    name = label[\"name\"]\n",
    "    idno = label[\"id\"]\n",
    "    \n",
    "    data += \"item {\\n\"\n",
    "    data += f\"\\tname: '{name}'\\n\"\n",
    "    data += f\"\\tid: {idno}\\n\"\n",
    "    data += \"}\\n\"\n",
    "\n",
    "if not os.path.exists(\"./tensorflow/workspace/annotations/\"):\n",
    "    os.makedirs(\"./tensorflow/workspace/annotations/\")\n",
    "    \n",
    "with open(\"./tensorflow/workspace/annotations/label_map.pbtxt\", \"w\") as f:\n",
    "    f.write(data)"
   ]
  },
  {
   "cell_type": "markdown",
   "id": "7b6260b4",
   "metadata": {},
   "source": [
    "## Step 5: Copy the Model Config to the Training Folder\n",
    "\n",
    "We need to create a training folder and copy the model config over to it before we begin training."
   ]
  },
  {
   "cell_type": "code",
   "execution_count": 10,
   "id": "936e0dad",
   "metadata": {},
   "outputs": [],
   "source": [
    "if not os.path.exists(\"./tensorflow/workspace/models/model/\"):\n",
    "    os.makedirs(\"./tensorflow/workspace/models/model/\")\n",
    "\n",
    "# Linux.\n",
    "if os.name == \"posix\":\n",
    "    !cp ./tensorflow/workspace/pretrained_models/ssd_mobilenet_v2_fpnlite_320x320_coco17_tpu-8/pipeline.config \\\n",
    "     ./tensorflow/workspace/models/model/\n",
    "    \n",
    "# Windows.\n",
    "else:\n",
    "    # TODO.\n",
    "    pass"
   ]
  },
  {
   "cell_type": "markdown",
   "id": "9e2b1fa0",
   "metadata": {},
   "source": [
    "## Step 6: Create TF Records\n",
    "\n",
    "We clone and run the author's scripts to generate the TF records used in the next step."
   ]
  },
  {
   "cell_type": "code",
   "execution_count": 11,
   "id": "f1d44a8e",
   "metadata": {},
   "outputs": [
    {
     "name": "stdout",
     "output_type": "stream",
     "text": [
      "2022-12-13 02:38:35.670108: E tensorflow/stream_executor/cuda/cuda_blas.cc:2981] Unable to register cuBLAS factory: Attempting to register factory for plugin cuBLAS when one has already been registered\n",
      "/home/skat/doc/repos/cse168-final/tfod/lib/python3.10/site-packages/tensorflow_io/python/ops/__init__.py:98: UserWarning: unable to load libtensorflow_io_plugins.so: unable to open file: libtensorflow_io_plugins.so, from paths: ['/home/skat/doc/repos/cse168-final/tfod/lib/python3.10/site-packages/tensorflow_io/python/ops/libtensorflow_io_plugins.so']\n",
      "caused by: ['/home/skat/doc/repos/cse168-final/tfod/lib/python3.10/site-packages/tensorflow_io/python/ops/libtensorflow_io_plugins.so: undefined symbol: _ZN3tsl5mutexC1Ev']\n",
      "  warnings.warn(f\"unable to load libtensorflow_io_plugins.so: {e}\")\n",
      "/home/skat/doc/repos/cse168-final/tfod/lib/python3.10/site-packages/tensorflow_io/python/ops/__init__.py:104: UserWarning: file system plugins are not loaded: unable to open file: libtensorflow_io.so, from paths: ['/home/skat/doc/repos/cse168-final/tfod/lib/python3.10/site-packages/tensorflow_io/python/ops/libtensorflow_io.so']\n",
      "caused by: ['/home/skat/doc/repos/cse168-final/tfod/lib/python3.10/site-packages/tensorflow_io/python/ops/libtensorflow_io.so: undefined symbol: _ZNK10tensorflow4data11DatasetBase8FinalizeEPNS_15OpKernelContextESt8functionIFN3tsl8StatusOrISt10unique_ptrIS1_NS5_4core15RefCountDeleterEEEEvEE']\n",
      "  warnings.warn(f\"file system plugins are not loaded: {e}\")\n",
      "Successfully created the TFRecord file: ./tensorflow/workspace/annotations/train.record\n",
      "2022-12-13 02:38:38.319753: E tensorflow/stream_executor/cuda/cuda_blas.cc:2981] Unable to register cuBLAS factory: Attempting to register factory for plugin cuBLAS when one has already been registered\n",
      "/home/skat/doc/repos/cse168-final/tfod/lib/python3.10/site-packages/tensorflow_io/python/ops/__init__.py:98: UserWarning: unable to load libtensorflow_io_plugins.so: unable to open file: libtensorflow_io_plugins.so, from paths: ['/home/skat/doc/repos/cse168-final/tfod/lib/python3.10/site-packages/tensorflow_io/python/ops/libtensorflow_io_plugins.so']\n",
      "caused by: ['/home/skat/doc/repos/cse168-final/tfod/lib/python3.10/site-packages/tensorflow_io/python/ops/libtensorflow_io_plugins.so: undefined symbol: _ZN3tsl5mutexC1Ev']\n",
      "  warnings.warn(f\"unable to load libtensorflow_io_plugins.so: {e}\")\n",
      "/home/skat/doc/repos/cse168-final/tfod/lib/python3.10/site-packages/tensorflow_io/python/ops/__init__.py:104: UserWarning: file system plugins are not loaded: unable to open file: libtensorflow_io.so, from paths: ['/home/skat/doc/repos/cse168-final/tfod/lib/python3.10/site-packages/tensorflow_io/python/ops/libtensorflow_io.so']\n",
      "caused by: ['/home/skat/doc/repos/cse168-final/tfod/lib/python3.10/site-packages/tensorflow_io/python/ops/libtensorflow_io.so: undefined symbol: _ZNK10tensorflow4data11DatasetBase8FinalizeEPNS_15OpKernelContextESt8functionIFN3tsl8StatusOrISt10unique_ptrIS1_NS5_4core15RefCountDeleterEEEEvEE']\n",
      "  warnings.warn(f\"file system plugins are not loaded: {e}\")\n",
      "Successfully created the TFRecord file: ./tensorflow/workspace/annotations/test.record\n"
     ]
    }
   ],
   "source": [
    "if not os.path.exists(\"GenerateTFRecord\"):\n",
    "    !git clone https://github.com/nicknochnack/GenerateTFRecord\n",
    "\n",
    "!python GenerateTFRecord/generate_tfrecord.py -x \"./tensorflow/workspace/images/train\" \\\n",
    " -l \"./tensorflow/workspace/annotations/label_map.pbtxt\" -o \"./tensorflow/workspace/annotations/train.record\"\n",
    "!python GenerateTFRecord/generate_tfrecord.py -x \"./tensorflow/workspace/images/test\" \\\n",
    " -l \"./tensorflow/workspace/annotations/label_map.pbtxt\" -o \"./tensorflow/workspace/annotations/test.record\""
   ]
  },
  {
   "cell_type": "markdown",
   "id": "66fddbdb",
   "metadata": {},
   "source": [
    "## Step 7: Import Everything and Update the Config for Transfer Learning"
   ]
  },
  {
   "cell_type": "markdown",
   "id": "eee095ba",
   "metadata": {},
   "source": [
    "We should import everything needed for training and detection now. We can update the config for transfer learning with our training images. If you get warnings about CPU optimization, ignore them -- it has to do with your hardware."
   ]
  },
  {
   "cell_type": "code",
   "execution_count": 12,
   "id": "2cc2c2d9",
   "metadata": {},
   "outputs": [
    {
     "name": "stderr",
     "output_type": "stream",
     "text": [
      "2022-12-13 02:38:40.396455: I tensorflow/core/platform/cpu_feature_guard.cc:193] This TensorFlow binary is optimized with oneAPI Deep Neural Network Library (oneDNN) to use the following CPU instructions in performance-critical operations:  AVX2 FMA\n",
      "To enable them in other operations, rebuild TensorFlow with the appropriate compiler flags.\n",
      "2022-12-13 02:38:40.538846: W tensorflow/stream_executor/platform/default/dso_loader.cc:64] Could not load dynamic library 'libcudart.so.11.0'; dlerror: libcudart.so.11.0: cannot open shared object file: No such file or directory; LD_LIBRARY_PATH: /home/skat/doc/repos/cse168-final/tfod/lib/python3.10/site-packages/cv2/../../lib64:\n",
      "2022-12-13 02:38:40.538873: I tensorflow/stream_executor/cuda/cudart_stub.cc:29] Ignore above cudart dlerror if you do not have a GPU set up on your machine.\n",
      "2022-12-13 02:38:40.569198: E tensorflow/stream_executor/cuda/cuda_blas.cc:2981] Unable to register cuBLAS factory: Attempting to register factory for plugin cuBLAS when one has already been registered\n",
      "2022-12-13 02:38:41.321038: W tensorflow/stream_executor/platform/default/dso_loader.cc:64] Could not load dynamic library 'libnvinfer.so.7'; dlerror: libnvinfer.so.7: cannot open shared object file: No such file or directory; LD_LIBRARY_PATH: /home/skat/doc/repos/cse168-final/tfod/lib/python3.10/site-packages/cv2/../../lib64:\n",
      "2022-12-13 02:38:41.321114: W tensorflow/stream_executor/platform/default/dso_loader.cc:64] Could not load dynamic library 'libnvinfer_plugin.so.7'; dlerror: libnvinfer_plugin.so.7: cannot open shared object file: No such file or directory; LD_LIBRARY_PATH: /home/skat/doc/repos/cse168-final/tfod/lib/python3.10/site-packages/cv2/../../lib64:\n",
      "2022-12-13 02:38:41.321126: W tensorflow/compiler/tf2tensorrt/utils/py_utils.cc:38] TF-TRT Warning: Cannot dlopen some TensorRT libraries. If you would like to use Nvidia GPU with TensorRT, please make sure the missing libraries mentioned above are installed properly.\n",
      "/home/skat/doc/repos/cse168-final/tfod/lib/python3.10/site-packages/tensorflow_io/python/ops/__init__.py:98: UserWarning: unable to load libtensorflow_io_plugins.so: unable to open file: libtensorflow_io_plugins.so, from paths: ['/home/skat/doc/repos/cse168-final/tfod/lib/python3.10/site-packages/tensorflow_io/python/ops/libtensorflow_io_plugins.so']\n",
      "caused by: ['/home/skat/doc/repos/cse168-final/tfod/lib/python3.10/site-packages/tensorflow_io/python/ops/libtensorflow_io_plugins.so: undefined symbol: _ZN3tsl5mutexC1Ev']\n",
      "  warnings.warn(f\"unable to load libtensorflow_io_plugins.so: {e}\")\n",
      "/home/skat/doc/repos/cse168-final/tfod/lib/python3.10/site-packages/tensorflow_io/python/ops/__init__.py:104: UserWarning: file system plugins are not loaded: unable to open file: libtensorflow_io.so, from paths: ['/home/skat/doc/repos/cse168-final/tfod/lib/python3.10/site-packages/tensorflow_io/python/ops/libtensorflow_io.so']\n",
      "caused by: ['/home/skat/doc/repos/cse168-final/tfod/lib/python3.10/site-packages/tensorflow_io/python/ops/libtensorflow_io.so: undefined symbol: _ZNK10tensorflow4data11DatasetBase8FinalizeEPNS_15OpKernelContextESt8functionIFN3tsl8StatusOrISt10unique_ptrIS1_NS5_4core15RefCountDeleterEEEEvEE']\n",
      "  warnings.warn(f\"file system plugins are not loaded: {e}\")\n"
     ]
    }
   ],
   "source": [
    "import tensorflow as tf\n",
    "from object_detection.utils import config_util\n",
    "from object_detection.protos import pipeline_pb2\n",
    "from google.protobuf import text_format"
   ]
  },
  {
   "cell_type": "code",
   "execution_count": 13,
   "id": "06e38fef",
   "metadata": {},
   "outputs": [],
   "source": [
    "config = config_util.get_configs_from_pipeline_file(\"./tensorflow/workspace/models/model/pipeline.config\")\n",
    "pconfig = pipeline_pb2.TrainEvalPipelineConfig()\n",
    "\n",
    "with tf.io.gfile.GFile(\"./tensorflow/workspace/models/model/pipeline.config\", \"r\") as f:\n",
    "    pstr = f.read()\n",
    "    text_format.Merge(pstr, pconfig)\n",
    "    \n",
    "pconfig.model.ssd.num_classes = len(labels)\n",
    "pconfig.train_config.batch_size = 4\n",
    "pconfig.train_config.fine_tune_checkpoint = \"./tensorflow/workspace/pretrained_models/ssd_mobilenet_v2_fpnlite_320x320_coco17_tpu-8/checkpoint/ckpt-0\"\n",
    "pconfig.train_config.fine_tune_checkpoint_type = \"detection\"\n",
    "pconfig.train_input_reader.label_map_path= \"./tensorflow/workspace/annotations/label_map.pbtxt\"\n",
    "pconfig.train_input_reader.tf_record_input_reader.input_path[:] = [\"./tensorflow/workspace/annotations/train.record\"]\n",
    "pconfig.eval_input_reader[0].label_map_path = \"./tensorflow/workspace/annotations/label_map.pbtxt\"\n",
    "pconfig.eval_input_reader[0].tf_record_input_reader.input_path[:] = [\"./tensorflow/workspace/annotations/test.record\"]"
   ]
  }
 ],
 "metadata": {
  "kernelspec": {
   "display_name": "tfodj",
   "language": "python",
   "name": "tfodj"
  },
  "language_info": {
   "codemirror_mode": {
    "name": "ipython",
    "version": 3
   },
   "file_extension": ".py",
   "mimetype": "text/x-python",
   "name": "python",
   "nbconvert_exporter": "python",
   "pygments_lexer": "ipython3",
   "version": "3.9.13"
  }
 },
 "nbformat": 4,
 "nbformat_minor": 5
}
