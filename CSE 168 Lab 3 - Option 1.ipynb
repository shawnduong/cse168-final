{
  "cells": [
    {
      "cell_type": "markdown",
      "metadata": {
        "id": "51b79bdf"
      },
      "source": [
        "# CSE 168 Lab 3 - Option 1\n",
        "\n",
        "This notebook describes CSE 168 Lab 3 - Option 1 for students Shawn Duong, Chloe Engel, Charison Gill-Branion, and Isabella Montoya in the Fall semester of 2022.\n",
        "\n",
        "For this lab, we are training a model to detect 7 hand gestures. This is based on the tutorial given in the lab handout by Nicholas Renotte.\n",
        "\n",
        "Before running this notebook, one should set up the venv and install the dependencies as per the tutorial. You need not do this in Google Colab, though:\n",
        "\n",
        "```\n",
        "python -m venv tfod\n",
        "\n",
        "source tfod/bin/activate # Linux\n",
        ".\\tfod\\Scripts\\activate # Windows \n",
        "\n",
        "python -m pip install --upgrade pip\n",
        "pip install ipykernel\n",
        "python -m ipykernel install --user --name=tfodj\n",
        "```\n",
        "\n",
        "Make sure that the notebook's kernel is tfodj as well.\n",
        "\n",
        "We've also made this notebook to work via a native Jupyter Notebook or via Google Colab. Google Colab cannot access the webcam, however. To use the webcam on Colab, we refer to and thank the Google Colab documentation: https://colab.research.google.com/notebooks/snippets/advanced_outputs.ipynb#scrollTo=SucxddsPhOmj"
      ],
      "id": "51b79bdf"
    },
    {
      "cell_type": "markdown",
      "source": [
        "## Setup"
      ],
      "metadata": {
        "id": "UZILFc1P86D3"
      },
      "id": "UZILFc1P86D3"
    },
    {
      "cell_type": "code",
      "source": [
        "# Set this to True if you want to skip the collection phase, such as\n",
        "# for when you've already collected training images.\n",
        "skipCollection = True\n",
        "\n",
        "# Set this to True if you want to skip the training phase, such as for\n",
        "# when you've already trained the model.\n",
        "skipTraining = False\n",
        "\n",
        "# Set this to True if you're using Google Colab. This will trigger a\n",
        "# webcam workaround.\n",
        "usingColab = True"
      ],
      "metadata": {
        "id": "8co_42bx88RJ"
      },
      "id": "8co_42bx88RJ",
      "execution_count": 1,
      "outputs": []
    },
    {
      "cell_type": "markdown",
      "metadata": {
        "id": "9cb3c2a2"
      },
      "source": [
        "# Part 1: Collecting Training Images"
      ],
      "id": "9cb3c2a2"
    },
    {
      "cell_type": "markdown",
      "metadata": {
        "id": "b3865881"
      },
      "source": [
        "## Step 1: Install and Import Dependencies\n",
        "\n",
        "We must install and import the dependencies. We need opencv-python in order to use computer vision related functionalities."
      ],
      "id": "b3865881"
    },
    {
      "cell_type": "code",
      "execution_count": 2,
      "metadata": {
        "colab": {
          "base_uri": "https://localhost:8080/"
        },
        "id": "65b61c62",
        "outputId": "b6e16f24-53cb-4581-9112-3e7a4245a338"
      },
      "outputs": [
        {
          "output_type": "stream",
          "name": "stdout",
          "text": [
            "Looking in indexes: https://pypi.org/simple, https://us-python.pkg.dev/colab-wheels/public/simple/\n",
            "Requirement already satisfied: opencv-python in /usr/local/lib/python3.8/dist-packages (4.6.0.66)\n",
            "Requirement already satisfied: numpy>=1.14.5 in /usr/local/lib/python3.8/dist-packages (from opencv-python) (1.21.6)\n"
          ]
        }
      ],
      "source": [
        "!pip install opencv-python"
      ],
      "id": "65b61c62"
    },
    {
      "cell_type": "code",
      "execution_count": 5,
      "metadata": {
        "id": "ef1ab61e"
      },
      "outputs": [],
      "source": [
        "import cv2\n",
        "import os\n",
        "import time"
      ],
      "id": "ef1ab61e"
    },
    {
      "cell_type": "markdown",
      "metadata": {
        "id": "321fa6ba"
      },
      "source": [
        "## Step 2: Define the Images to Collect\n",
        "\n",
        "We are collecting the hand gestures that make up \"Hello World,\" and saving 5 images per gesture. We can collect more training images by just re-running the code in step 4, though."
      ],
      "id": "321fa6ba"
    },
    {
      "cell_type": "code",
      "execution_count": 6,
      "metadata": {
        "id": "97268182"
      },
      "outputs": [],
      "source": [
        "# The gestures we are training the model to detect.\n",
        "labels = [\"h\", \"e\", \"l\", \"o\", \"w\", \"r\", \"d\"]\n",
        "\n",
        "# The number of training images per gesture we will take.\n",
        "nImgs = 5"
      ],
      "id": "97268182"
    },
    {
      "cell_type": "markdown",
      "metadata": {
        "id": "f9486176"
      },
      "source": [
        "## Step 3: Set Up File Structure\n",
        "\n",
        "We are going to save everything in `./tensorflow/workspaces/images/training_images/`."
      ],
      "id": "f9486176"
    },
    {
      "cell_type": "code",
      "execution_count": 7,
      "metadata": {
        "id": "81e8298a"
      },
      "outputs": [],
      "source": [
        "# The path to store our training images in.\n",
        "path = \"./tensorflow/workspace/images/training_images/\"\n",
        "\n",
        "# Create the path if it does not exist.\n",
        "if not os.path.exists(path):\n",
        "    os.makedirs(path)"
      ],
      "id": "81e8298a"
    },
    {
      "cell_type": "markdown",
      "metadata": {
        "id": "651ca030"
      },
      "source": [
        "## Step 4: Capture Training Images From Webcam\n",
        "\n",
        "We capture 5 images per gesture from the webcam. We can press 'q' on our keyboard to quit early, or 'c' to capture an image when we're ready."
      ],
      "id": "651ca030"
    },
    {
      "cell_type": "code",
      "execution_count": 8,
      "metadata": {
        "id": "507d0ebc",
        "scrolled": true
      },
      "outputs": [],
      "source": [
        "if not skipCollection:\n",
        "\n",
        "    # Native Jupyter notebook can just access webcam directly.\n",
        "    if not usingColab:\n",
        "    \n",
        "        cap = cv2.VideoCapture(0)\n",
        "\n",
        "        # Loop for all gestures we want to train.\n",
        "        for label in labels:\n",
        "\n",
        "            print(f\"Capturing images for: {label}\")\n",
        "\n",
        "            completed = 0\n",
        "            earlyExit = False\n",
        "\n",
        "            # Loop for however many images we wish to capture per gesture.\n",
        "            while completed < nImgs:\n",
        "\n",
        "                # Read from the camera and show it to us.\n",
        "                _, frame = cap.read()\n",
        "\n",
        "                try:\n",
        "                    cv2.imshow(\"Frame\", frame)\n",
        "                except:\n",
        "                    continue\n",
        "\n",
        "                # Webcam refresh rate.\n",
        "                time.sleep(0.01)\n",
        "\n",
        "                # Press 'q' to quit.\n",
        "                key = cv2.waitKey(1) & 0xFF\n",
        "                if key == ord('q'):\n",
        "                    earlyExit = True\n",
        "                    break\n",
        "\n",
        "                # Press 'c' to capture.\n",
        "                elif key == ord('c'):\n",
        "                    # Capture and save the image.\n",
        "                    completed += 1\n",
        "                    print(f\"Capturing image {completed}/{nImgs}\")\n",
        "                    cv2.imwrite(path+f\"{label}_{int(time.time())}.jpg\", frame)\n",
        "\n",
        "            if earlyExit:\n",
        "                break\n",
        "\n",
        "        cap.release()\n",
        "        cv2.destroyAllWindows()\n",
        "\n",
        "    # Using Colab means that we can't access the webcam directly and must do a\n",
        "    # workaround.\n",
        "    else:\n",
        "\n",
        "        from IPython.display import display, Javascript\n",
        "        from google.colab.output import eval_js\n",
        "        from base64 import b64decode\n",
        "\n",
        "        def take_photo(filename='photo.jpg', quality=0.8):\n",
        "          js = Javascript('''\n",
        "            async function takePhoto(quality) {\n",
        "              const div = document.createElement('div');\n",
        "              const capture = document.createElement('button');\n",
        "              capture.textContent = 'Capture';\n",
        "              div.appendChild(capture);\n",
        "\n",
        "              const video = document.createElement('video');\n",
        "              video.style.display = 'block';\n",
        "              const stream = await navigator.mediaDevices.getUserMedia({video: true});\n",
        "\n",
        "              document.body.appendChild(div);\n",
        "              div.appendChild(video);\n",
        "              video.srcObject = stream;\n",
        "              await video.play();\n",
        "\n",
        "              // Resize the output to fit the video element.\n",
        "              google.colab.output.setIframeHeight(document.documentElement.scrollHeight, true);\n",
        "\n",
        "              // Wait for Capture to be clicked.\n",
        "              await new Promise((resolve) => capture.onclick = resolve);\n",
        "\n",
        "              const canvas = document.createElement('canvas');\n",
        "              canvas.width = video.videoWidth;\n",
        "              canvas.height = video.videoHeight;\n",
        "              canvas.getContext('2d').drawImage(video, 0, 0);\n",
        "              stream.getVideoTracks()[0].stop();\n",
        "              div.remove();\n",
        "              return canvas.toDataURL('image/jpeg', quality);\n",
        "            }\n",
        "            ''')\n",
        "          display(js)\n",
        "          data = eval_js('takePhoto({})'.format(quality))\n",
        "          binary = b64decode(data.split(',')[1])\n",
        "          with open(filename, 'wb') as f:\n",
        "            f.write(binary)\n",
        "          return binary, filename\n",
        "\n",
        "        from IPython.display import Image\n",
        "\n",
        "        # Loop for all gestures we want to train.\n",
        "        for label in labels:\n",
        "\n",
        "            print(f\"Capturing images for: {label}\")\n",
        "\n",
        "            completed = 0\n",
        "\n",
        "            # Loop for however many images we wish to capture per gesture.\n",
        "            while completed < nImgs:\n",
        "\n",
        "                # Read from the camera and show it to us.\n",
        "                binary, photo = take_photo()\n",
        "                display(Image(photo))\n",
        "\n",
        "                # Capture and save the image.\n",
        "                completed += 1\n",
        "                print(f\"Capturing image {completed}/{nImgs}\")\n",
        "                with open(path+f\"{label}_{int(time.time())}.jpg\", \"wb\") as f:\n",
        "                    f.write(binary)"
      ],
      "id": "507d0ebc"
    },
    {
      "cell_type": "markdown",
      "metadata": {
        "id": "e30934b0"
      },
      "source": [
        "## Step 5: Segment the Images Into Training and Testing\n",
        "\n",
        "Annotate the images with labelimg or Label Studio, and then move some into training and others into testing along with their annotations. To clarify: move a large number of images into `./tensorflow/workspaces/images/train/` and others into `./tensorflow/workspaces/images/test/`."
      ],
      "id": "e30934b0"
    },
    {
      "cell_type": "markdown",
      "metadata": {
        "id": "cc5206d7"
      },
      "source": [
        "# Part 2: Training and Detection"
      ],
      "id": "cc5206d7"
    },
    {
      "cell_type": "markdown",
      "metadata": {
        "id": "8d57237f"
      },
      "source": [
        "## Step 1: Download and Compile TFOD\n",
        "\n",
        "We must download and install TFOD from TensorFlow's GitHub. We must compile all the proto files to do so. This is different for Linux and Windows."
      ],
      "id": "8d57237f"
    },
    {
      "cell_type": "code",
      "execution_count": 9,
      "metadata": {
        "colab": {
          "base_uri": "https://localhost:8080/"
        },
        "id": "8a68cd9e",
        "outputId": "738ea224-203d-4e3c-e277-4d549fc280d2"
      },
      "outputs": [
        {
          "output_type": "stream",
          "name": "stdout",
          "text": [
            "Cloning into './models'...\n",
            "remote: Enumerating objects: 79704, done.\u001b[K\n",
            "remote: Counting objects: 100% (410/410), done.\u001b[K\n",
            "remote: Compressing objects: 100% (236/236), done.\u001b[K\n",
            "remote: Total 79704 (delta 224), reused 329 (delta 170), pack-reused 79294\u001b[K\n",
            "Receiving objects: 100% (79704/79704), 594.11 MiB | 17.31 MiB/s, done.\n",
            "Resolving deltas: 100% (56676/56676), done.\n",
            "Reading package lists... Done\n",
            "Building dependency tree       \n",
            "Reading state information... Done\n",
            "protobuf-compiler is already the newest version (3.0.0-9.1ubuntu1).\n",
            "The following package was automatically installed and is no longer required:\n",
            "  libnvidia-common-460\n",
            "Use 'apt autoremove' to remove it.\n",
            "0 upgraded, 0 newly installed, 0 to remove and 20 not upgraded.\n",
            "Looking in indexes: https://pypi.org/simple, https://us-python.pkg.dev/colab-wheels/public/simple/\n",
            "Processing /content/models/research\n",
            "\u001b[33m  DEPRECATION: A future pip version will change local packages to be built in-place without first copying to a temporary directory. We recommend you use --use-feature=in-tree-build to test your packages with this new behavior before it becomes the default.\n",
            "   pip 21.3 will remove support for this functionality. You can find discussion regarding this at https://github.com/pypa/pip/issues/7555.\u001b[0m\n",
            "Collecting avro-python3\n",
            "  Downloading avro-python3-1.10.2.tar.gz (38 kB)\n",
            "Collecting apache-beam\n",
            "  Downloading apache_beam-2.43.0-cp38-cp38-manylinux_2_17_x86_64.manylinux2014_x86_64.whl (14.5 MB)\n",
            "\u001b[K     |████████████████████████████████| 14.5 MB 42.7 MB/s \n",
            "\u001b[?25hRequirement already satisfied: pillow in /usr/local/lib/python3.8/dist-packages (from object-detection==0.1) (7.1.2)\n",
            "Requirement already satisfied: lxml in /usr/local/lib/python3.8/dist-packages (from object-detection==0.1) (4.9.1)\n",
            "Requirement already satisfied: matplotlib in /usr/local/lib/python3.8/dist-packages (from object-detection==0.1) (3.2.2)\n",
            "Requirement already satisfied: Cython in /usr/local/lib/python3.8/dist-packages (from object-detection==0.1) (0.29.32)\n",
            "Requirement already satisfied: contextlib2 in /usr/local/lib/python3.8/dist-packages (from object-detection==0.1) (0.5.5)\n",
            "Collecting tf-slim\n",
            "  Downloading tf_slim-1.1.0-py2.py3-none-any.whl (352 kB)\n",
            "\u001b[K     |████████████████████████████████| 352 kB 71.3 MB/s \n",
            "\u001b[?25hRequirement already satisfied: six in /usr/local/lib/python3.8/dist-packages (from object-detection==0.1) (1.15.0)\n",
            "Requirement already satisfied: pycocotools in /usr/local/lib/python3.8/dist-packages (from object-detection==0.1) (2.0.6)\n",
            "Collecting lvis\n",
            "  Downloading lvis-0.5.3-py3-none-any.whl (14 kB)\n",
            "Requirement already satisfied: scipy in /usr/local/lib/python3.8/dist-packages (from object-detection==0.1) (1.7.3)\n",
            "Requirement already satisfied: pandas in /usr/local/lib/python3.8/dist-packages (from object-detection==0.1) (1.3.5)\n",
            "Collecting tf-models-official>=2.5.1\n",
            "  Downloading tf_models_official-2.11.1-py2.py3-none-any.whl (2.4 MB)\n",
            "\u001b[K     |████████████████████████████████| 2.4 MB 68.4 MB/s \n",
            "\u001b[?25hCollecting tensorflow_io\n",
            "  Downloading tensorflow_io-0.28.0-cp38-cp38-manylinux_2_12_x86_64.manylinux2010_x86_64.whl (26.9 MB)\n",
            "\u001b[K     |████████████████████████████████| 26.9 MB 1.6 MB/s \n",
            "\u001b[?25hRequirement already satisfied: keras in /usr/local/lib/python3.8/dist-packages (from object-detection==0.1) (2.9.0)\n",
            "Collecting pyparsing==2.4.7\n",
            "  Downloading pyparsing-2.4.7-py2.py3-none-any.whl (67 kB)\n",
            "\u001b[K     |████████████████████████████████| 67 kB 6.5 MB/s \n",
            "\u001b[?25hCollecting sacrebleu<=2.2.0\n",
            "  Downloading sacrebleu-2.2.0-py3-none-any.whl (116 kB)\n",
            "\u001b[K     |████████████████████████████████| 116 kB 83.0 MB/s \n",
            "\u001b[?25hRequirement already satisfied: tabulate>=0.8.9 in /usr/local/lib/python3.8/dist-packages (from sacrebleu<=2.2.0->object-detection==0.1) (0.8.10)\n",
            "Requirement already satisfied: numpy>=1.17 in /usr/local/lib/python3.8/dist-packages (from sacrebleu<=2.2.0->object-detection==0.1) (1.21.6)\n",
            "Requirement already satisfied: regex in /usr/local/lib/python3.8/dist-packages (from sacrebleu<=2.2.0->object-detection==0.1) (2022.6.2)\n",
            "Collecting colorama\n",
            "  Downloading colorama-0.4.6-py2.py3-none-any.whl (25 kB)\n",
            "Collecting portalocker\n",
            "  Downloading portalocker-2.6.0-py2.py3-none-any.whl (15 kB)\n",
            "Requirement already satisfied: tensorflow-hub>=0.6.0 in /usr/local/lib/python3.8/dist-packages (from tf-models-official>=2.5.1->object-detection==0.1) (0.12.0)\n",
            "Collecting py-cpuinfo>=3.3.0\n",
            "  Downloading py_cpuinfo-9.0.0-py3-none-any.whl (22 kB)\n",
            "Requirement already satisfied: tensorflow-datasets in /usr/local/lib/python3.8/dist-packages (from tf-models-official>=2.5.1->object-detection==0.1) (4.6.0)\n",
            "Requirement already satisfied: google-api-python-client>=1.6.7 in /usr/local/lib/python3.8/dist-packages (from tf-models-official>=2.5.1->object-detection==0.1) (1.12.11)\n",
            "Collecting tf-models-official>=2.5.1\n",
            "  Downloading tf_models_official-2.11.0-py2.py3-none-any.whl (2.3 MB)\n",
            "\u001b[K     |████████████████████████████████| 2.3 MB 76.4 MB/s \n",
            "\u001b[?25hCollecting sentencepiece\n",
            "  Downloading sentencepiece-0.1.97-cp38-cp38-manylinux_2_17_x86_64.manylinux2014_x86_64.whl (1.3 MB)\n",
            "\u001b[K     |████████████████████████████████| 1.3 MB 75.4 MB/s \n",
            "\u001b[?25hRequirement already satisfied: oauth2client in /usr/local/lib/python3.8/dist-packages (from tf-models-official>=2.5.1->object-detection==0.1) (4.1.3)\n",
            "Requirement already satisfied: gin-config in /usr/local/lib/python3.8/dist-packages (from tf-models-official>=2.5.1->object-detection==0.1) (0.5.0)\n",
            "Collecting seqeval\n",
            "  Downloading seqeval-1.2.2.tar.gz (43 kB)\n",
            "\u001b[K     |████████████████████████████████| 43 kB 2.2 MB/s \n",
            "\u001b[?25hRequirement already satisfied: psutil>=5.4.3 in /usr/local/lib/python3.8/dist-packages (from tf-models-official>=2.5.1->object-detection==0.1) (5.4.8)\n",
            "Collecting immutabledict\n",
            "  Downloading immutabledict-2.2.3-py3-none-any.whl (4.0 kB)\n",
            "Collecting tensorflow-model-optimization>=0.4.1\n",
            "  Downloading tensorflow_model_optimization-0.7.3-py2.py3-none-any.whl (238 kB)\n",
            "\u001b[K     |████████████████████████████████| 238 kB 68.8 MB/s \n",
            "\u001b[?25hCollecting pyyaml<6.0,>=5.1\n",
            "  Downloading PyYAML-5.4.1-cp38-cp38-manylinux1_x86_64.whl (662 kB)\n",
            "\u001b[K     |████████████████████████████████| 662 kB 77.8 MB/s \n",
            "\u001b[?25hCollecting tensorflow~=2.11.0\n",
            "  Downloading tensorflow-2.11.0-cp38-cp38-manylinux_2_17_x86_64.manylinux2014_x86_64.whl (588.3 MB)\n",
            "\u001b[K     |████████████████████████████████| 588.3 MB 22 kB/s \n",
            "\u001b[?25hRequirement already satisfied: kaggle>=1.3.9 in /usr/local/lib/python3.8/dist-packages (from tf-models-official>=2.5.1->object-detection==0.1) (1.5.12)\n",
            "Collecting tensorflow-text~=2.11.0\n",
            "  Downloading tensorflow_text-2.11.0-cp38-cp38-manylinux_2_17_x86_64.manylinux2014_x86_64.whl (5.8 MB)\n",
            "\u001b[K     |████████████████████████████████| 5.8 MB 66.4 MB/s \n",
            "\u001b[?25hCollecting opencv-python-headless==4.5.2.52\n",
            "  Downloading opencv_python_headless-4.5.2.52-cp38-cp38-manylinux2014_x86_64.whl (38.2 MB)\n",
            "\u001b[K     |████████████████████████████████| 38.2 MB 314 kB/s \n",
            "\u001b[?25hCollecting tensorflow-addons\n",
            "  Downloading tensorflow_addons-0.19.0-cp38-cp38-manylinux_2_17_x86_64.manylinux2014_x86_64.whl (1.1 MB)\n",
            "\u001b[K     |████████████████████████████████| 1.1 MB 63.8 MB/s \n",
            "\u001b[?25hRequirement already satisfied: google-auth<3dev,>=1.16.0 in /usr/local/lib/python3.8/dist-packages (from google-api-python-client>=1.6.7->tf-models-official>=2.5.1->object-detection==0.1) (2.15.0)\n",
            "Requirement already satisfied: google-api-core<3dev,>=1.21.0 in /usr/local/lib/python3.8/dist-packages (from google-api-python-client>=1.6.7->tf-models-official>=2.5.1->object-detection==0.1) (2.8.2)\n",
            "Requirement already satisfied: uritemplate<4dev,>=3.0.0 in /usr/local/lib/python3.8/dist-packages (from google-api-python-client>=1.6.7->tf-models-official>=2.5.1->object-detection==0.1) (3.0.1)\n",
            "Requirement already satisfied: google-auth-httplib2>=0.0.3 in /usr/local/lib/python3.8/dist-packages (from google-api-python-client>=1.6.7->tf-models-official>=2.5.1->object-detection==0.1) (0.0.4)\n",
            "Requirement already satisfied: httplib2<1dev,>=0.15.0 in /usr/local/lib/python3.8/dist-packages (from google-api-python-client>=1.6.7->tf-models-official>=2.5.1->object-detection==0.1) (0.17.4)\n",
            "Requirement already satisfied: protobuf<5.0.0dev,>=3.15.0 in /usr/local/lib/python3.8/dist-packages (from google-api-core<3dev,>=1.21.0->google-api-python-client>=1.6.7->tf-models-official>=2.5.1->object-detection==0.1) (3.19.6)\n",
            "Requirement already satisfied: requests<3.0.0dev,>=2.18.0 in /usr/local/lib/python3.8/dist-packages (from google-api-core<3dev,>=1.21.0->google-api-python-client>=1.6.7->tf-models-official>=2.5.1->object-detection==0.1) (2.23.0)\n",
            "Requirement already satisfied: googleapis-common-protos<2.0dev,>=1.56.2 in /usr/local/lib/python3.8/dist-packages (from google-api-core<3dev,>=1.21.0->google-api-python-client>=1.6.7->tf-models-official>=2.5.1->object-detection==0.1) (1.57.0)\n",
            "Requirement already satisfied: pyasn1-modules>=0.2.1 in /usr/local/lib/python3.8/dist-packages (from google-auth<3dev,>=1.16.0->google-api-python-client>=1.6.7->tf-models-official>=2.5.1->object-detection==0.1) (0.2.8)\n",
            "Requirement already satisfied: cachetools<6.0,>=2.0.0 in /usr/local/lib/python3.8/dist-packages (from google-auth<3dev,>=1.16.0->google-api-python-client>=1.6.7->tf-models-official>=2.5.1->object-detection==0.1) (5.2.0)\n",
            "Requirement already satisfied: rsa<5,>=3.1.4 in /usr/local/lib/python3.8/dist-packages (from google-auth<3dev,>=1.16.0->google-api-python-client>=1.6.7->tf-models-official>=2.5.1->object-detection==0.1) (4.9)\n",
            "Requirement already satisfied: python-dateutil in /usr/local/lib/python3.8/dist-packages (from kaggle>=1.3.9->tf-models-official>=2.5.1->object-detection==0.1) (2.8.2)\n",
            "Requirement already satisfied: urllib3 in /usr/local/lib/python3.8/dist-packages (from kaggle>=1.3.9->tf-models-official>=2.5.1->object-detection==0.1) (1.24.3)\n",
            "Requirement already satisfied: certifi in /usr/local/lib/python3.8/dist-packages (from kaggle>=1.3.9->tf-models-official>=2.5.1->object-detection==0.1) (2022.9.24)\n",
            "Requirement already satisfied: python-slugify in /usr/local/lib/python3.8/dist-packages (from kaggle>=1.3.9->tf-models-official>=2.5.1->object-detection==0.1) (7.0.0)\n",
            "Requirement already satisfied: tqdm in /usr/local/lib/python3.8/dist-packages (from kaggle>=1.3.9->tf-models-official>=2.5.1->object-detection==0.1) (4.64.1)\n",
            "Requirement already satisfied: pytz>=2017.3 in /usr/local/lib/python3.8/dist-packages (from pandas->object-detection==0.1) (2022.6)\n",
            "Requirement already satisfied: pyasn1<0.5.0,>=0.4.6 in /usr/local/lib/python3.8/dist-packages (from pyasn1-modules>=0.2.1->google-auth<3dev,>=1.16.0->google-api-python-client>=1.6.7->tf-models-official>=2.5.1->object-detection==0.1) (0.4.8)\n",
            "Requirement already satisfied: chardet<4,>=3.0.2 in /usr/local/lib/python3.8/dist-packages (from requests<3.0.0dev,>=2.18.0->google-api-core<3dev,>=1.21.0->google-api-python-client>=1.6.7->tf-models-official>=2.5.1->object-detection==0.1) (3.0.4)\n",
            "Requirement already satisfied: idna<3,>=2.5 in /usr/local/lib/python3.8/dist-packages (from requests<3.0.0dev,>=2.18.0->google-api-core<3dev,>=1.21.0->google-api-python-client>=1.6.7->tf-models-official>=2.5.1->object-detection==0.1) (2.10)\n",
            "Requirement already satisfied: absl-py>=1.0.0 in /usr/local/lib/python3.8/dist-packages (from tensorflow~=2.11.0->tf-models-official>=2.5.1->object-detection==0.1) (1.3.0)\n",
            "Requirement already satisfied: opt-einsum>=2.3.2 in /usr/local/lib/python3.8/dist-packages (from tensorflow~=2.11.0->tf-models-official>=2.5.1->object-detection==0.1) (3.3.0)\n",
            "Requirement already satisfied: gast<=0.4.0,>=0.2.1 in /usr/local/lib/python3.8/dist-packages (from tensorflow~=2.11.0->tf-models-official>=2.5.1->object-detection==0.1) (0.4.0)\n",
            "Collecting tensorflow-estimator<2.12,>=2.11.0\n",
            "  Downloading tensorflow_estimator-2.11.0-py2.py3-none-any.whl (439 kB)\n",
            "\u001b[K     |████████████████████████████████| 439 kB 61.3 MB/s \n",
            "\u001b[?25hCollecting tensorboard<2.12,>=2.11\n",
            "  Downloading tensorboard-2.11.0-py3-none-any.whl (6.0 MB)\n",
            "\u001b[K     |████████████████████████████████| 6.0 MB 65.5 MB/s \n",
            "\u001b[?25hCollecting flatbuffers>=2.0\n",
            "  Downloading flatbuffers-22.12.6-py2.py3-none-any.whl (26 kB)\n",
            "Requirement already satisfied: astunparse>=1.6.0 in /usr/local/lib/python3.8/dist-packages (from tensorflow~=2.11.0->tf-models-official>=2.5.1->object-detection==0.1) (1.6.3)\n",
            "Requirement already satisfied: grpcio<2.0,>=1.24.3 in /usr/local/lib/python3.8/dist-packages (from tensorflow~=2.11.0->tf-models-official>=2.5.1->object-detection==0.1) (1.51.1)\n",
            "Collecting keras\n",
            "  Downloading keras-2.11.0-py2.py3-none-any.whl (1.7 MB)\n",
            "\u001b[K     |████████████████████████████████| 1.7 MB 62.7 MB/s \n",
            "\u001b[?25hRequirement already satisfied: libclang>=13.0.0 in /usr/local/lib/python3.8/dist-packages (from tensorflow~=2.11.0->tf-models-official>=2.5.1->object-detection==0.1) (14.0.6)\n",
            "Requirement already satisfied: wrapt>=1.11.0 in /usr/local/lib/python3.8/dist-packages (from tensorflow~=2.11.0->tf-models-official>=2.5.1->object-detection==0.1) (1.14.1)\n",
            "Requirement already satisfied: typing-extensions>=3.6.6 in /usr/local/lib/python3.8/dist-packages (from tensorflow~=2.11.0->tf-models-official>=2.5.1->object-detection==0.1) (4.4.0)\n",
            "Requirement already satisfied: google-pasta>=0.1.1 in /usr/local/lib/python3.8/dist-packages (from tensorflow~=2.11.0->tf-models-official>=2.5.1->object-detection==0.1) (0.2.0)\n",
            "Requirement already satisfied: tensorflow-io-gcs-filesystem>=0.23.1 in /usr/local/lib/python3.8/dist-packages (from tensorflow~=2.11.0->tf-models-official>=2.5.1->object-detection==0.1) (0.28.0)\n",
            "Requirement already satisfied: h5py>=2.9.0 in /usr/local/lib/python3.8/dist-packages (from tensorflow~=2.11.0->tf-models-official>=2.5.1->object-detection==0.1) (3.1.0)\n",
            "Requirement already satisfied: packaging in /usr/local/lib/python3.8/dist-packages (from tensorflow~=2.11.0->tf-models-official>=2.5.1->object-detection==0.1) (21.3)\n",
            "Requirement already satisfied: setuptools in /usr/local/lib/python3.8/dist-packages (from tensorflow~=2.11.0->tf-models-official>=2.5.1->object-detection==0.1) (57.4.0)\n",
            "Requirement already satisfied: termcolor>=1.1.0 in /usr/local/lib/python3.8/dist-packages (from tensorflow~=2.11.0->tf-models-official>=2.5.1->object-detection==0.1) (2.1.1)\n",
            "Requirement already satisfied: wheel<1.0,>=0.23.0 in /usr/local/lib/python3.8/dist-packages (from astunparse>=1.6.0->tensorflow~=2.11.0->tf-models-official>=2.5.1->object-detection==0.1) (0.38.4)\n",
            "Requirement already satisfied: markdown>=2.6.8 in /usr/local/lib/python3.8/dist-packages (from tensorboard<2.12,>=2.11->tensorflow~=2.11.0->tf-models-official>=2.5.1->object-detection==0.1) (3.4.1)\n",
            "Requirement already satisfied: werkzeug>=1.0.1 in /usr/local/lib/python3.8/dist-packages (from tensorboard<2.12,>=2.11->tensorflow~=2.11.0->tf-models-official>=2.5.1->object-detection==0.1) (1.0.1)\n",
            "Requirement already satisfied: google-auth-oauthlib<0.5,>=0.4.1 in /usr/local/lib/python3.8/dist-packages (from tensorboard<2.12,>=2.11->tensorflow~=2.11.0->tf-models-official>=2.5.1->object-detection==0.1) (0.4.6)\n",
            "Requirement already satisfied: tensorboard-data-server<0.7.0,>=0.6.0 in /usr/local/lib/python3.8/dist-packages (from tensorboard<2.12,>=2.11->tensorflow~=2.11.0->tf-models-official>=2.5.1->object-detection==0.1) (0.6.1)\n",
            "Requirement already satisfied: tensorboard-plugin-wit>=1.6.0 in /usr/local/lib/python3.8/dist-packages (from tensorboard<2.12,>=2.11->tensorflow~=2.11.0->tf-models-official>=2.5.1->object-detection==0.1) (1.8.1)\n",
            "Requirement already satisfied: requests-oauthlib>=0.7.0 in /usr/local/lib/python3.8/dist-packages (from google-auth-oauthlib<0.5,>=0.4.1->tensorboard<2.12,>=2.11->tensorflow~=2.11.0->tf-models-official>=2.5.1->object-detection==0.1) (1.3.1)\n",
            "Requirement already satisfied: importlib-metadata>=4.4 in /usr/local/lib/python3.8/dist-packages (from markdown>=2.6.8->tensorboard<2.12,>=2.11->tensorflow~=2.11.0->tf-models-official>=2.5.1->object-detection==0.1) (4.13.0)\n",
            "Requirement already satisfied: zipp>=0.5 in /usr/local/lib/python3.8/dist-packages (from importlib-metadata>=4.4->markdown>=2.6.8->tensorboard<2.12,>=2.11->tensorflow~=2.11.0->tf-models-official>=2.5.1->object-detection==0.1) (3.11.0)\n",
            "Requirement already satisfied: oauthlib>=3.0.0 in /usr/local/lib/python3.8/dist-packages (from requests-oauthlib>=0.7.0->google-auth-oauthlib<0.5,>=0.4.1->tensorboard<2.12,>=2.11->tensorflow~=2.11.0->tf-models-official>=2.5.1->object-detection==0.1) (3.2.2)\n",
            "Requirement already satisfied: dm-tree~=0.1.1 in /usr/local/lib/python3.8/dist-packages (from tensorflow-model-optimization>=0.4.1->tf-models-official>=2.5.1->object-detection==0.1) (0.1.7)\n",
            "Collecting dill<0.3.2,>=0.3.1.1\n",
            "  Downloading dill-0.3.1.1.tar.gz (151 kB)\n",
            "\u001b[K     |████████████████████████████████| 151 kB 79.7 MB/s \n",
            "\u001b[?25hCollecting zstandard<1,>=0.18.0\n",
            "  Downloading zstandard-0.19.0-cp38-cp38-manylinux_2_17_x86_64.manylinux2014_x86_64.whl (2.5 MB)\n",
            "\u001b[K     |████████████████████████████████| 2.5 MB 58.6 MB/s \n",
            "\u001b[?25hCollecting hdfs<3.0.0,>=2.1.0\n",
            "  Downloading hdfs-2.7.0-py3-none-any.whl (34 kB)\n",
            "Collecting cloudpickle~=2.2.0\n",
            "  Downloading cloudpickle-2.2.0-py3-none-any.whl (25 kB)\n",
            "Collecting pymongo<4.0.0,>=3.8.0\n",
            "  Downloading pymongo-3.13.0-cp38-cp38-manylinux_2_17_x86_64.manylinux2014_x86_64.whl (526 kB)\n",
            "\u001b[K     |████████████████████████████████| 526 kB 60.8 MB/s \n",
            "\u001b[?25hCollecting fastavro<2,>=0.23.6\n",
            "  Downloading fastavro-1.7.0-cp38-cp38-manylinux_2_17_x86_64.manylinux2014_x86_64.whl (2.7 MB)\n",
            "\u001b[K     |████████████████████████████████| 2.7 MB 69.6 MB/s \n",
            "\u001b[?25hCollecting fasteners<1.0,>=0.3\n",
            "  Downloading fasteners-0.18-py3-none-any.whl (18 kB)\n",
            "Collecting requests<3.0.0dev,>=2.18.0\n",
            "  Downloading requests-2.28.1-py3-none-any.whl (62 kB)\n",
            "\u001b[K     |████████████████████████████████| 62 kB 1.7 MB/s \n",
            "\u001b[?25hRequirement already satisfied: pyarrow<10.0.0,>=0.15.1 in /usr/local/lib/python3.8/dist-packages (from apache-beam->object-detection==0.1) (9.0.0)\n",
            "Collecting orjson<4.0\n",
            "  Downloading orjson-3.8.3-cp38-cp38-manylinux_2_17_x86_64.manylinux2014_x86_64.whl (278 kB)\n",
            "\u001b[K     |████████████████████████████████| 278 kB 77.8 MB/s \n",
            "\u001b[?25hRequirement already satisfied: crcmod<2.0,>=1.7 in /usr/local/lib/python3.8/dist-packages (from apache-beam->object-detection==0.1) (1.7)\n",
            "Requirement already satisfied: pydot<2,>=1.2.0 in /usr/local/lib/python3.8/dist-packages (from apache-beam->object-detection==0.1) (1.3.0)\n",
            "Collecting objsize<0.6.0,>=0.5.2\n",
            "  Downloading objsize-0.5.2-py3-none-any.whl (8.2 kB)\n",
            "Requirement already satisfied: proto-plus<2,>=1.7.1 in /usr/local/lib/python3.8/dist-packages (from apache-beam->object-detection==0.1) (1.22.1)\n",
            "Collecting docopt\n",
            "  Downloading docopt-0.6.2.tar.gz (25 kB)\n",
            "Requirement already satisfied: charset-normalizer<3,>=2 in /usr/local/lib/python3.8/dist-packages (from requests<3.0.0dev,>=2.18.0->google-api-core<3dev,>=1.21.0->google-api-python-client>=1.6.7->tf-models-official>=2.5.1->object-detection==0.1) (2.1.1)\n",
            "Requirement already satisfied: kiwisolver>=1.1.0 in /usr/local/lib/python3.8/dist-packages (from lvis->object-detection==0.1) (1.4.4)\n",
            "Requirement already satisfied: cycler>=0.10.0 in /usr/local/lib/python3.8/dist-packages (from lvis->object-detection==0.1) (0.11.0)\n",
            "Requirement already satisfied: opencv-python>=4.1.0.25 in /usr/local/lib/python3.8/dist-packages (from lvis->object-detection==0.1) (4.6.0.66)\n",
            "Requirement already satisfied: text-unidecode>=1.3 in /usr/local/lib/python3.8/dist-packages (from python-slugify->kaggle>=1.3.9->tf-models-official>=2.5.1->object-detection==0.1) (1.3)\n",
            "Requirement already satisfied: scikit-learn>=0.21.3 in /usr/local/lib/python3.8/dist-packages (from seqeval->tf-models-official>=2.5.1->object-detection==0.1) (1.0.2)\n",
            "Requirement already satisfied: threadpoolctl>=2.0.0 in /usr/local/lib/python3.8/dist-packages (from scikit-learn>=0.21.3->seqeval->tf-models-official>=2.5.1->object-detection==0.1) (3.1.0)\n",
            "Requirement already satisfied: joblib>=0.11 in /usr/local/lib/python3.8/dist-packages (from scikit-learn>=0.21.3->seqeval->tf-models-official>=2.5.1->object-detection==0.1) (1.2.0)\n",
            "Requirement already satisfied: typeguard>=2.7 in /usr/local/lib/python3.8/dist-packages (from tensorflow-addons->tf-models-official>=2.5.1->object-detection==0.1) (2.7.1)\n",
            "Requirement already satisfied: etils[epath] in /usr/local/lib/python3.8/dist-packages (from tensorflow-datasets->tf-models-official>=2.5.1->object-detection==0.1) (0.9.0)\n",
            "Requirement already satisfied: tensorflow-metadata in /usr/local/lib/python3.8/dist-packages (from tensorflow-datasets->tf-models-official>=2.5.1->object-detection==0.1) (1.11.0)\n",
            "Requirement already satisfied: importlib-resources in /usr/local/lib/python3.8/dist-packages (from tensorflow-datasets->tf-models-official>=2.5.1->object-detection==0.1) (5.10.0)\n",
            "Requirement already satisfied: promise in /usr/local/lib/python3.8/dist-packages (from tensorflow-datasets->tf-models-official>=2.5.1->object-detection==0.1) (2.3)\n",
            "Requirement already satisfied: toml in /usr/local/lib/python3.8/dist-packages (from tensorflow-datasets->tf-models-official>=2.5.1->object-detection==0.1) (0.10.2)\n",
            "Building wheels for collected packages: object-detection, dill, avro-python3, docopt, seqeval\n",
            "  Building wheel for object-detection (setup.py) ... \u001b[?25l\u001b[?25hdone\n",
            "  Created wheel for object-detection: filename=object_detection-0.1-py3-none-any.whl size=1696518 sha256=ec9f17b34b08f4701f4a96ec06dd4293e46881754bd3e7188efaafaf802012ac\n",
            "  Stored in directory: /tmp/pip-ephem-wheel-cache-zfawvk52/wheels/7d/96/c1/072a751379735e8dfdada1def1c62a89afb3cc45654fd6fd28\n",
            "  Building wheel for dill (setup.py) ... \u001b[?25l\u001b[?25hdone\n",
            "  Created wheel for dill: filename=dill-0.3.1.1-py3-none-any.whl size=78544 sha256=e62d372cbcb3756623a2d418cb28e3fac782c74af41041a1213e03e42d8814ae\n",
            "  Stored in directory: /root/.cache/pip/wheels/07/35/78/e9004fa30578734db7f10e7a211605f3f0778d2bdde38a239d\n",
            "  Building wheel for avro-python3 (setup.py) ... \u001b[?25l\u001b[?25hdone\n",
            "  Created wheel for avro-python3: filename=avro_python3-1.10.2-py3-none-any.whl size=44009 sha256=5dd0f24981077f245ac3daf5422af0b3d82e8b26b0be146dcd7446484be4f5d3\n",
            "  Stored in directory: /root/.cache/pip/wheels/bb/73/e9/d273421f5723c4bf544dcf9eb097bda94421ef8d3252699f0a\n",
            "  Building wheel for docopt (setup.py) ... \u001b[?25l\u001b[?25hdone\n",
            "  Created wheel for docopt: filename=docopt-0.6.2-py2.py3-none-any.whl size=13723 sha256=78c03a93470d312c02f69068a6c703974cdb1fb15f2804f5c5ab15d6e466e5d0\n",
            "  Stored in directory: /root/.cache/pip/wheels/56/ea/58/ead137b087d9e326852a851351d1debf4ada529b6ac0ec4e8c\n",
            "  Building wheel for seqeval (setup.py) ... \u001b[?25l\u001b[?25hdone\n",
            "  Created wheel for seqeval: filename=seqeval-1.2.2-py3-none-any.whl size=16179 sha256=cf016e9f83b182b1652ef65bf282624481159195f995c61b23775a1f7572d95a\n",
            "  Stored in directory: /root/.cache/pip/wheels/ad/5c/ba/05fa33fa5855777b7d686e843ec07452f22a66a138e290e732\n",
            "Successfully built object-detection dill avro-python3 docopt seqeval\n",
            "Installing collected packages: requests, pyparsing, tensorflow-estimator, tensorboard, keras, flatbuffers, tensorflow, portalocker, docopt, dill, colorama, zstandard, tf-slim, tensorflow-text, tensorflow-model-optimization, tensorflow-addons, seqeval, sentencepiece, sacrebleu, pyyaml, pymongo, py-cpuinfo, orjson, opencv-python-headless, objsize, immutabledict, hdfs, fasteners, fastavro, cloudpickle, tf-models-official, tensorflow-io, lvis, avro-python3, apache-beam, object-detection\n",
            "  Attempting uninstall: requests\n",
            "    Found existing installation: requests 2.23.0\n",
            "    Uninstalling requests-2.23.0:\n",
            "      Successfully uninstalled requests-2.23.0\n",
            "  Attempting uninstall: pyparsing\n",
            "    Found existing installation: pyparsing 3.0.9\n",
            "    Uninstalling pyparsing-3.0.9:\n",
            "      Successfully uninstalled pyparsing-3.0.9\n",
            "  Attempting uninstall: tensorflow-estimator\n",
            "    Found existing installation: tensorflow-estimator 2.9.0\n",
            "    Uninstalling tensorflow-estimator-2.9.0:\n",
            "      Successfully uninstalled tensorflow-estimator-2.9.0\n",
            "  Attempting uninstall: tensorboard\n",
            "    Found existing installation: tensorboard 2.9.1\n",
            "    Uninstalling tensorboard-2.9.1:\n",
            "      Successfully uninstalled tensorboard-2.9.1\n",
            "  Attempting uninstall: keras\n",
            "    Found existing installation: keras 2.9.0\n",
            "    Uninstalling keras-2.9.0:\n",
            "      Successfully uninstalled keras-2.9.0\n",
            "  Attempting uninstall: flatbuffers\n",
            "    Found existing installation: flatbuffers 1.12\n",
            "    Uninstalling flatbuffers-1.12:\n",
            "      Successfully uninstalled flatbuffers-1.12\n",
            "  Attempting uninstall: tensorflow\n",
            "    Found existing installation: tensorflow 2.9.2\n",
            "    Uninstalling tensorflow-2.9.2:\n",
            "      Successfully uninstalled tensorflow-2.9.2\n",
            "  Attempting uninstall: dill\n",
            "    Found existing installation: dill 0.3.6\n",
            "    Uninstalling dill-0.3.6:\n",
            "      Successfully uninstalled dill-0.3.6\n",
            "  Attempting uninstall: pyyaml\n",
            "    Found existing installation: PyYAML 6.0\n",
            "    Uninstalling PyYAML-6.0:\n",
            "      Successfully uninstalled PyYAML-6.0\n",
            "  Attempting uninstall: pymongo\n",
            "    Found existing installation: pymongo 4.3.3\n",
            "    Uninstalling pymongo-4.3.3:\n",
            "      Successfully uninstalled pymongo-4.3.3\n",
            "  Attempting uninstall: opencv-python-headless\n",
            "    Found existing installation: opencv-python-headless 4.6.0.66\n",
            "    Uninstalling opencv-python-headless-4.6.0.66:\n",
            "      Successfully uninstalled opencv-python-headless-4.6.0.66\n",
            "  Attempting uninstall: cloudpickle\n",
            "    Found existing installation: cloudpickle 1.5.0\n",
            "    Uninstalling cloudpickle-1.5.0:\n",
            "      Successfully uninstalled cloudpickle-1.5.0\n",
            "Successfully installed apache-beam-2.43.0 avro-python3-1.10.2 cloudpickle-2.2.0 colorama-0.4.6 dill-0.3.1.1 docopt-0.6.2 fastavro-1.7.0 fasteners-0.18 flatbuffers-22.12.6 hdfs-2.7.0 immutabledict-2.2.3 keras-2.11.0 lvis-0.5.3 object-detection-0.1 objsize-0.5.2 opencv-python-headless-4.5.2.52 orjson-3.8.3 portalocker-2.6.0 py-cpuinfo-9.0.0 pymongo-3.13.0 pyparsing-2.4.7 pyyaml-5.4.1 requests-2.28.1 sacrebleu-2.2.0 sentencepiece-0.1.97 seqeval-1.2.2 tensorboard-2.11.0 tensorflow-2.11.0 tensorflow-addons-0.19.0 tensorflow-estimator-2.11.0 tensorflow-io-0.28.0 tensorflow-model-optimization-0.7.3 tensorflow-text-2.11.0 tf-models-official-2.11.0 tf-slim-1.1.0 zstandard-0.19.0\n"
          ]
        }
      ],
      "source": [
        "# Make the repository where we will clone the TensorFlow models repo.\n",
        "if not os.path.exists(\"./models/\"):\n",
        "    os.makedirs(\"./models/\")\n",
        "    !git clone https://github.com/tensorflow/models ./models/\n",
        "    \n",
        "# For Linux.\n",
        "if os.name == \"posix\":\n",
        "    \n",
        "    # For Arch Linux.\n",
        "    if \"arch\" in os.uname().release:\n",
        "        !pacman -Syu protobuf\n",
        "        \n",
        "    # If you're not using Arch, you're probably on Ubuntu or some\n",
        "    # other Debian derivative and use apt.\n",
        "    else:\n",
        "        !apt-get install protobuf-compiler\n",
        "        \n",
        "    # Compile the proto files.\n",
        "    !cd ./models/research && protoc object_detection/protos/*.proto --python_out=. \\\n",
        "     && cp object_detection/packages/tf2/setup.py . && python -m pip install .\n",
        "\n",
        "# For Windows.\n",
        "else:\n",
        "    \n",
        "    # TODO.\n",
        "    pass"
      ],
      "id": "8a68cd9e"
    },
    {
      "cell_type": "markdown",
      "metadata": {
        "id": "ab977451"
      },
      "source": [
        "## Step 2: Install TensorFlow and Upgrade Protobuf\n",
        "\n",
        "We will be using TensorFlow, so we should make sure it is installed before proceeding. We should also upgrade protobuf, since older versions may lead to an error about `builder.py`."
      ],
      "id": "ab977451"
    },
    {
      "cell_type": "code",
      "execution_count": 10,
      "metadata": {
        "colab": {
          "base_uri": "https://localhost:8080/",
          "height": 1000
        },
        "id": "0539e99e",
        "outputId": "54e3bfdb-0b9b-4881-89b6-37637aec23fb"
      },
      "outputs": [
        {
          "output_type": "stream",
          "name": "stdout",
          "text": [
            "Looking in indexes: https://pypi.org/simple, https://us-python.pkg.dev/colab-wheels/public/simple/\n",
            "Requirement already satisfied: tensorflow in /usr/local/lib/python3.8/dist-packages (2.11.0)\n",
            "Requirement already satisfied: tensorflow-estimator<2.12,>=2.11.0 in /usr/local/lib/python3.8/dist-packages (from tensorflow) (2.11.0)\n",
            "Requirement already satisfied: h5py>=2.9.0 in /usr/local/lib/python3.8/dist-packages (from tensorflow) (3.1.0)\n",
            "Requirement already satisfied: termcolor>=1.1.0 in /usr/local/lib/python3.8/dist-packages (from tensorflow) (2.1.1)\n",
            "Requirement already satisfied: keras<2.12,>=2.11.0 in /usr/local/lib/python3.8/dist-packages (from tensorflow) (2.11.0)\n",
            "Requirement already satisfied: libclang>=13.0.0 in /usr/local/lib/python3.8/dist-packages (from tensorflow) (14.0.6)\n",
            "Requirement already satisfied: gast<=0.4.0,>=0.2.1 in /usr/local/lib/python3.8/dist-packages (from tensorflow) (0.4.0)\n",
            "Requirement already satisfied: flatbuffers>=2.0 in /usr/local/lib/python3.8/dist-packages (from tensorflow) (22.12.6)\n",
            "Requirement already satisfied: google-pasta>=0.1.1 in /usr/local/lib/python3.8/dist-packages (from tensorflow) (0.2.0)\n",
            "Requirement already satisfied: typing-extensions>=3.6.6 in /usr/local/lib/python3.8/dist-packages (from tensorflow) (4.4.0)\n",
            "Requirement already satisfied: six>=1.12.0 in /usr/local/lib/python3.8/dist-packages (from tensorflow) (1.15.0)\n",
            "Requirement already satisfied: wrapt>=1.11.0 in /usr/local/lib/python3.8/dist-packages (from tensorflow) (1.14.1)\n",
            "Requirement already satisfied: packaging in /usr/local/lib/python3.8/dist-packages (from tensorflow) (21.3)\n",
            "Requirement already satisfied: opt-einsum>=2.3.2 in /usr/local/lib/python3.8/dist-packages (from tensorflow) (3.3.0)\n",
            "Requirement already satisfied: absl-py>=1.0.0 in /usr/local/lib/python3.8/dist-packages (from tensorflow) (1.3.0)\n",
            "Requirement already satisfied: protobuf<3.20,>=3.9.2 in /usr/local/lib/python3.8/dist-packages (from tensorflow) (3.19.6)\n",
            "Requirement already satisfied: astunparse>=1.6.0 in /usr/local/lib/python3.8/dist-packages (from tensorflow) (1.6.3)\n",
            "Requirement already satisfied: numpy>=1.20 in /usr/local/lib/python3.8/dist-packages (from tensorflow) (1.21.6)\n",
            "Requirement already satisfied: grpcio<2.0,>=1.24.3 in /usr/local/lib/python3.8/dist-packages (from tensorflow) (1.51.1)\n",
            "Requirement already satisfied: tensorboard<2.12,>=2.11 in /usr/local/lib/python3.8/dist-packages (from tensorflow) (2.11.0)\n",
            "Requirement already satisfied: tensorflow-io-gcs-filesystem>=0.23.1 in /usr/local/lib/python3.8/dist-packages (from tensorflow) (0.28.0)\n",
            "Requirement already satisfied: setuptools in /usr/local/lib/python3.8/dist-packages (from tensorflow) (57.4.0)\n",
            "Requirement already satisfied: wheel<1.0,>=0.23.0 in /usr/local/lib/python3.8/dist-packages (from astunparse>=1.6.0->tensorflow) (0.38.4)\n",
            "Requirement already satisfied: markdown>=2.6.8 in /usr/local/lib/python3.8/dist-packages (from tensorboard<2.12,>=2.11->tensorflow) (3.4.1)\n",
            "Requirement already satisfied: tensorboard-plugin-wit>=1.6.0 in /usr/local/lib/python3.8/dist-packages (from tensorboard<2.12,>=2.11->tensorflow) (1.8.1)\n",
            "Requirement already satisfied: google-auth-oauthlib<0.5,>=0.4.1 in /usr/local/lib/python3.8/dist-packages (from tensorboard<2.12,>=2.11->tensorflow) (0.4.6)\n",
            "Requirement already satisfied: tensorboard-data-server<0.7.0,>=0.6.0 in /usr/local/lib/python3.8/dist-packages (from tensorboard<2.12,>=2.11->tensorflow) (0.6.1)\n",
            "Requirement already satisfied: werkzeug>=1.0.1 in /usr/local/lib/python3.8/dist-packages (from tensorboard<2.12,>=2.11->tensorflow) (1.0.1)\n",
            "Requirement already satisfied: requests<3,>=2.21.0 in /usr/local/lib/python3.8/dist-packages (from tensorboard<2.12,>=2.11->tensorflow) (2.28.1)\n",
            "Requirement already satisfied: google-auth<3,>=1.6.3 in /usr/local/lib/python3.8/dist-packages (from tensorboard<2.12,>=2.11->tensorflow) (2.15.0)\n",
            "Requirement already satisfied: rsa<5,>=3.1.4 in /usr/local/lib/python3.8/dist-packages (from google-auth<3,>=1.6.3->tensorboard<2.12,>=2.11->tensorflow) (4.9)\n",
            "Requirement already satisfied: pyasn1-modules>=0.2.1 in /usr/local/lib/python3.8/dist-packages (from google-auth<3,>=1.6.3->tensorboard<2.12,>=2.11->tensorflow) (0.2.8)\n",
            "Requirement already satisfied: cachetools<6.0,>=2.0.0 in /usr/local/lib/python3.8/dist-packages (from google-auth<3,>=1.6.3->tensorboard<2.12,>=2.11->tensorflow) (5.2.0)\n",
            "Requirement already satisfied: requests-oauthlib>=0.7.0 in /usr/local/lib/python3.8/dist-packages (from google-auth-oauthlib<0.5,>=0.4.1->tensorboard<2.12,>=2.11->tensorflow) (1.3.1)\n",
            "Requirement already satisfied: importlib-metadata>=4.4 in /usr/local/lib/python3.8/dist-packages (from markdown>=2.6.8->tensorboard<2.12,>=2.11->tensorflow) (4.13.0)\n",
            "Requirement already satisfied: zipp>=0.5 in /usr/local/lib/python3.8/dist-packages (from importlib-metadata>=4.4->markdown>=2.6.8->tensorboard<2.12,>=2.11->tensorflow) (3.11.0)\n",
            "Requirement already satisfied: pyasn1<0.5.0,>=0.4.6 in /usr/local/lib/python3.8/dist-packages (from pyasn1-modules>=0.2.1->google-auth<3,>=1.6.3->tensorboard<2.12,>=2.11->tensorflow) (0.4.8)\n",
            "Requirement already satisfied: idna<4,>=2.5 in /usr/local/lib/python3.8/dist-packages (from requests<3,>=2.21.0->tensorboard<2.12,>=2.11->tensorflow) (2.10)\n",
            "Requirement already satisfied: certifi>=2017.4.17 in /usr/local/lib/python3.8/dist-packages (from requests<3,>=2.21.0->tensorboard<2.12,>=2.11->tensorflow) (2022.9.24)\n",
            "Requirement already satisfied: charset-normalizer<3,>=2 in /usr/local/lib/python3.8/dist-packages (from requests<3,>=2.21.0->tensorboard<2.12,>=2.11->tensorflow) (2.1.1)\n",
            "Requirement already satisfied: urllib3<1.27,>=1.21.1 in /usr/local/lib/python3.8/dist-packages (from requests<3,>=2.21.0->tensorboard<2.12,>=2.11->tensorflow) (1.24.3)\n",
            "Requirement already satisfied: oauthlib>=3.0.0 in /usr/local/lib/python3.8/dist-packages (from requests-oauthlib>=0.7.0->google-auth-oauthlib<0.5,>=0.4.1->tensorboard<2.12,>=2.11->tensorflow) (3.2.2)\n",
            "Requirement already satisfied: pyparsing!=3.0.5,>=2.0.2 in /usr/local/lib/python3.8/dist-packages (from packaging->tensorflow) (2.4.7)\n",
            "Looking in indexes: https://pypi.org/simple, https://us-python.pkg.dev/colab-wheels/public/simple/\n",
            "Collecting protobuf==3.20\n",
            "  Downloading protobuf-3.20.0-cp38-cp38-manylinux_2_5_x86_64.manylinux1_x86_64.whl (1.0 MB)\n",
            "\u001b[K     |████████████████████████████████| 1.0 MB 23.8 MB/s \n",
            "\u001b[?25hInstalling collected packages: protobuf\n",
            "  Attempting uninstall: protobuf\n",
            "    Found existing installation: protobuf 3.19.6\n",
            "    Uninstalling protobuf-3.19.6:\n",
            "      Successfully uninstalled protobuf-3.19.6\n",
            "\u001b[31mERROR: pip's dependency resolver does not currently take into account all the packages that are installed. This behaviour is the source of the following dependency conflicts.\n",
            "tensorflow 2.11.0 requires protobuf<3.20,>=3.9.2, but you have protobuf 3.20.0 which is incompatible.\n",
            "googleapis-common-protos 1.57.0 requires protobuf!=3.20.0,!=3.20.1,!=4.21.1,!=4.21.2,!=4.21.3,!=4.21.4,!=4.21.5,<5.0.0dev,>=3.19.5, but you have protobuf 3.20.0 which is incompatible.\n",
            "google-cloud-translate 3.8.4 requires protobuf!=3.20.0,!=3.20.1,!=4.21.0,!=4.21.1,!=4.21.2,!=4.21.3,!=4.21.4,!=4.21.5,<5.0.0dev,>=3.19.5, but you have protobuf 3.20.0 which is incompatible.\n",
            "google-cloud-language 2.6.1 requires protobuf!=3.20.0,!=3.20.1,!=4.21.0,!=4.21.1,!=4.21.2,!=4.21.3,!=4.21.4,!=4.21.5,<5.0.0dev,>=3.19.5, but you have protobuf 3.20.0 which is incompatible.\n",
            "google-cloud-firestore 2.7.2 requires protobuf!=3.20.0,!=3.20.1,!=4.21.0,!=4.21.1,!=4.21.2,!=4.21.3,!=4.21.4,!=4.21.5,<5.0.0dev,>=3.19.5, but you have protobuf 3.20.0 which is incompatible.\n",
            "google-cloud-datastore 2.9.0 requires protobuf!=3.20.0,!=3.20.1,!=4.21.0,!=4.21.1,!=4.21.2,!=4.21.3,!=4.21.4,!=4.21.5,<5.0.0dev,>=3.19.5, but you have protobuf 3.20.0 which is incompatible.\n",
            "google-cloud-bigquery 3.3.6 requires protobuf!=3.20.0,!=3.20.1,!=4.21.0,!=4.21.1,!=4.21.2,!=4.21.3,!=4.21.4,!=4.21.5,<5.0.0dev,>=3.19.5, but you have protobuf 3.20.0 which is incompatible.\n",
            "google-cloud-bigquery-storage 2.16.2 requires protobuf!=3.20.0,!=3.20.1,!=4.21.0,!=4.21.1,!=4.21.2,!=4.21.3,!=4.21.4,!=4.21.5,<5.0.0dev,>=3.19.5, but you have protobuf 3.20.0 which is incompatible.\u001b[0m\n",
            "Successfully installed protobuf-3.20.0\n"
          ]
        },
        {
          "output_type": "display_data",
          "data": {
            "application/vnd.colab-display-data+json": {
              "pip_warning": {
                "packages": [
                  "google"
                ]
              }
            }
          },
          "metadata": {}
        }
      ],
      "source": [
        "# You probably already have this installed, but just in case.\n",
        "!pip install tensorflow\n",
        "!pip install protobuf==3.20"
      ],
      "id": "0539e99e"
    },
    {
      "cell_type": "markdown",
      "metadata": {
        "id": "e98fd919"
      },
      "source": [
        "## Step 3: Get The Pretrained Model\n",
        "\n",
        "A pretrained model is available online. We just need to get it and extract it now before we can use it with our object detection: http://download.tensorflow.org/models/object_detection/tf2/20200711/ssd_mobilenet_v2_fpnlite_320x320_coco17_tpu-8.tar.gz"
      ],
      "id": "e98fd919"
    },
    {
      "cell_type": "code",
      "execution_count": 11,
      "metadata": {
        "colab": {
          "base_uri": "https://localhost:8080/"
        },
        "id": "af797fbc",
        "outputId": "275d5e39-dd35-4d76-ce7f-c2d78dffdb42"
      },
      "outputs": [
        {
          "output_type": "stream",
          "name": "stdout",
          "text": [
            "--2022-12-14 05:36:37--  http://download.tensorflow.org/models/object_detection/tf2/20200711/ssd_mobilenet_v2_fpnlite_320x320_coco17_tpu-8.tar.gz\n",
            "Resolving download.tensorflow.org (download.tensorflow.org)... 172.217.194.128, 2404:6800:4003:c02::80\n",
            "Connecting to download.tensorflow.org (download.tensorflow.org)|172.217.194.128|:80... connected.\n",
            "HTTP request sent, awaiting response... 200 OK\n",
            "Length: 20515344 (20M) [application/x-tar]\n",
            "Saving to: ‘ssd_mobilenet_v2_fpnlite_320x320_coco17_tpu-8.tar.gz’\n",
            "\n",
            "ssd_mobilenet_v2_fp 100%[===================>]  19.56M  --.-KB/s    in 0.1s    \n",
            "\n",
            "2022-12-14 05:36:37 (196 MB/s) - ‘ssd_mobilenet_v2_fpnlite_320x320_coco17_tpu-8.tar.gz’ saved [20515344/20515344]\n",
            "\n",
            "ssd_mobilenet_v2_fpnlite_320x320_coco17_tpu-8/\n",
            "ssd_mobilenet_v2_fpnlite_320x320_coco17_tpu-8/checkpoint/\n",
            "ssd_mobilenet_v2_fpnlite_320x320_coco17_tpu-8/checkpoint/ckpt-0.data-00000-of-00001\n",
            "ssd_mobilenet_v2_fpnlite_320x320_coco17_tpu-8/checkpoint/checkpoint\n",
            "ssd_mobilenet_v2_fpnlite_320x320_coco17_tpu-8/checkpoint/ckpt-0.index\n",
            "ssd_mobilenet_v2_fpnlite_320x320_coco17_tpu-8/pipeline.config\n",
            "ssd_mobilenet_v2_fpnlite_320x320_coco17_tpu-8/saved_model/\n",
            "ssd_mobilenet_v2_fpnlite_320x320_coco17_tpu-8/saved_model/saved_model.pb\n",
            "ssd_mobilenet_v2_fpnlite_320x320_coco17_tpu-8/saved_model/variables/\n",
            "ssd_mobilenet_v2_fpnlite_320x320_coco17_tpu-8/saved_model/variables/variables.data-00000-of-00001\n",
            "ssd_mobilenet_v2_fpnlite_320x320_coco17_tpu-8/saved_model/variables/variables.index\n"
          ]
        }
      ],
      "source": [
        "url = \"http://download.tensorflow.org/models/object_detection/tf2/20200711/ssd_mobilenet_v2_fpnlite_320x320_coco17_tpu-8.tar.gz\"\n",
        "\n",
        "# Make the directory.\n",
        "if not os.path.exists(\"./tensorflow/workspace/pretrained_models/\"):\n",
        "    os.makedirs(\"./tensorflow/workspace/pretrained_models/\")\n",
        "\n",
        "# For Linux.\n",
        "if os.name == \"posix\":\n",
        "    !wget {url}\n",
        "    !mv ssd_mobilenet_v2_fpnlite_320x320_coco17_tpu-8.tar.gz ./tensorflow/workspace/pretrained_models/\n",
        "    !cd ./tensorflow/workspace/pretrained_models/ && tar xzvf ssd_mobilenet_v2_fpnlite_320x320_coco17_tpu-8.tar.gz\n",
        "    \n",
        "# For Windows.\n",
        "else:\n",
        "    # TODO.\n",
        "    pass"
      ],
      "id": "af797fbc"
    },
    {
      "cell_type": "markdown",
      "metadata": {
        "id": "d2583876"
      },
      "source": [
        "## Step 4: Create the Label Map\n",
        "\n",
        "We create a file `./tensorflow/workspace/annotations/label_map.pbtxt` containing our labels."
      ],
      "id": "d2583876"
    },
    {
      "cell_type": "code",
      "execution_count": 12,
      "metadata": {
        "id": "94960110"
      },
      "outputs": [],
      "source": [
        "labels = [\n",
        "    {\"name\": \"h\", \"id\": 1},\n",
        "    {\"name\": \"e\", \"id\": 2},\n",
        "    {\"name\": \"l\", \"id\": 3},\n",
        "    {\"name\": \"o\", \"id\": 4},\n",
        "    {\"name\": \"w\", \"id\": 5},\n",
        "    {\"name\": \"r\", \"id\": 6},\n",
        "    {\"name\": \"d\", \"id\": 7},\n",
        "]\n",
        "\n",
        "data = \"\"\n",
        "\n",
        "for label in labels:\n",
        "    \n",
        "    name = label[\"name\"]\n",
        "    idno = label[\"id\"]\n",
        "    \n",
        "    data += \"item {\\n\"\n",
        "    data += f\"\\tname: '{name}'\\n\"\n",
        "    data += f\"\\tid: {idno}\\n\"\n",
        "    data += \"}\\n\"\n",
        "\n",
        "if not os.path.exists(\"./tensorflow/workspace/annotations/\"):\n",
        "    os.makedirs(\"./tensorflow/workspace/annotations/\")\n",
        "    \n",
        "with open(\"./tensorflow/workspace/annotations/label_map.pbtxt\", \"w\") as f:\n",
        "    f.write(data)"
      ],
      "id": "94960110"
    },
    {
      "cell_type": "markdown",
      "metadata": {
        "id": "7b6260b4"
      },
      "source": [
        "## Step 5: Copy the Model Config to the Training Folder\n",
        "\n",
        "We need to create a training folder and copy the model config over to it before we begin training."
      ],
      "id": "7b6260b4"
    },
    {
      "cell_type": "code",
      "execution_count": 13,
      "metadata": {
        "id": "936e0dad"
      },
      "outputs": [],
      "source": [
        "if not os.path.exists(\"./tensorflow/workspace/models/model/\"):\n",
        "    os.makedirs(\"./tensorflow/workspace/models/model/\")\n",
        "\n",
        "# Linux.\n",
        "if os.name == \"posix\":\n",
        "    !cp ./tensorflow/workspace/pretrained_models/ssd_mobilenet_v2_fpnlite_320x320_coco17_tpu-8/pipeline.config \\\n",
        "     ./tensorflow/workspace/models/model/\n",
        "    \n",
        "# Windows.\n",
        "else:\n",
        "    # TODO.\n",
        "    pass"
      ],
      "id": "936e0dad"
    },
    {
      "cell_type": "markdown",
      "metadata": {
        "id": "9e2b1fa0"
      },
      "source": [
        "## Step 6: Create TF Records\n",
        "\n",
        "We clone and run the author's scripts to generate the TF records used in the next step."
      ],
      "id": "9e2b1fa0"
    },
    {
      "cell_type": "code",
      "execution_count": 14,
      "metadata": {
        "colab": {
          "base_uri": "https://localhost:8080/"
        },
        "id": "f1d44a8e",
        "outputId": "8c38290a-9352-47a8-a324-9675040b9d33"
      },
      "outputs": [
        {
          "output_type": "stream",
          "name": "stdout",
          "text": [
            "Cloning into 'GenerateTFRecord'...\n",
            "remote: Enumerating objects: 3, done.\u001b[K\n",
            "remote: Counting objects: 100% (3/3), done.\u001b[K\n",
            "remote: Compressing objects: 100% (2/2), done.\u001b[K\n",
            "remote: Total 3 (delta 0), reused 1 (delta 0), pack-reused 0\u001b[K\n",
            "Unpacking objects: 100% (3/3), done.\n",
            "Successfully created the TFRecord file: ./tensorflow/workspace/annotations/train.record\n",
            "Successfully created the TFRecord file: ./tensorflow/workspace/annotations/test.record\n"
          ]
        }
      ],
      "source": [
        "if not os.path.exists(\"GenerateTFRecord\"):\n",
        "    !git clone https://github.com/nicknochnack/GenerateTFRecord\n",
        "\n",
        "!python GenerateTFRecord/generate_tfrecord.py -x \"./tensorflow/workspace/images/train\" \\\n",
        " -l \"./tensorflow/workspace/annotations/label_map.pbtxt\" -o \"./tensorflow/workspace/annotations/train.record\"\n",
        "!python GenerateTFRecord/generate_tfrecord.py -x \"./tensorflow/workspace/images/test\" \\\n",
        " -l \"./tensorflow/workspace/annotations/label_map.pbtxt\" -o \"./tensorflow/workspace/annotations/test.record\""
      ],
      "id": "f1d44a8e"
    },
    {
      "cell_type": "markdown",
      "metadata": {
        "id": "66fddbdb"
      },
      "source": [
        "## Step 7: Import Everything and Update the Config for Transfer Learning"
      ],
      "id": "66fddbdb"
    },
    {
      "cell_type": "markdown",
      "metadata": {
        "id": "eee095ba"
      },
      "source": [
        "We should import everything needed for training and detection now. We can update the config for transfer learning with our training images. If you get warnings about CPU optimization, ignore them -- it has to do with your hardware."
      ],
      "id": "eee095ba"
    },
    {
      "cell_type": "code",
      "execution_count": 15,
      "metadata": {
        "id": "2cc2c2d9"
      },
      "outputs": [],
      "source": [
        "import tensorflow as tf\n",
        "from object_detection.utils import config_util\n",
        "from object_detection.builders import model_builder\n",
        "from object_detection.protos import pipeline_pb2\n",
        "from google.protobuf import text_format"
      ],
      "id": "2cc2c2d9"
    },
    {
      "cell_type": "code",
      "execution_count": 16,
      "metadata": {
        "id": "06e38fef"
      },
      "outputs": [],
      "source": [
        "config = config_util.get_configs_from_pipeline_file(\"./tensorflow/workspace/models/model/pipeline.config\")\n",
        "pconfig = pipeline_pb2.TrainEvalPipelineConfig()\n",
        "\n",
        "with tf.io.gfile.GFile(\"./tensorflow/workspace/models/model/pipeline.config\", \"r\") as f:\n",
        "    pstr = f.read()\n",
        "    text_format.Merge(pstr, pconfig)\n",
        "    \n",
        "pconfig.model.ssd.num_classes = len(labels)\n",
        "pconfig.train_config.batch_size = 4\n",
        "pconfig.train_config.fine_tune_checkpoint = \"./tensorflow/workspace/pretrained_models/ssd_mobilenet_v2_fpnlite_320x320_coco17_tpu-8/checkpoint/ckpt-0\"\n",
        "pconfig.train_config.fine_tune_checkpoint_type = \"detection\"\n",
        "pconfig.train_input_reader.label_map_path= \"./tensorflow/workspace/annotations/label_map.pbtxt\"\n",
        "pconfig.train_input_reader.tf_record_input_reader.input_path[:] = [\"./tensorflow/workspace/annotations/train.record\"]\n",
        "pconfig.eval_input_reader[0].label_map_path = \"./tensorflow/workspace/annotations/label_map.pbtxt\"\n",
        "pconfig.eval_input_reader[0].tf_record_input_reader.input_path[:] = [\"./tensorflow/workspace/annotations/test.record\"]\n",
        "\n",
        "config = text_format.MessageToString(pconfig)\n",
        "\n",
        "with tf.io.gfile.GFile(\"./tensorflow/workspace/models/model/pipeline.config\", \"wb\") as f:\n",
        "    f.write(config)"
      ],
      "id": "06e38fef"
    },
    {
      "cell_type": "markdown",
      "metadata": {
        "id": "9bde7497"
      },
      "source": [
        "## Step 8: Train!\n",
        "\n",
        "It's finally time to run the training program."
      ],
      "id": "9bde7497"
    },
    {
      "cell_type": "code",
      "execution_count": 17,
      "metadata": {
        "id": "bd538311",
        "colab": {
          "base_uri": "https://localhost:8080/"
        },
        "outputId": "7c4d49b9-5f8e-4792-a456-222aa22706c1"
      },
      "outputs": [
        {
          "output_type": "stream",
          "name": "stdout",
          "text": [
            "It's training time!\n",
            "2022-12-14 05:37:15.979543: W tensorflow/compiler/xla/stream_executor/platform/default/dso_loader.cc:64] Could not load dynamic library 'libnvinfer.so.7'; dlerror: libnvinfer.so.7: cannot open shared object file: No such file or directory; LD_LIBRARY_PATH: /usr/local/lib/python3.8/dist-packages/cv2/../../lib64:/usr/lib64-nvidia\n",
            "2022-12-14 05:37:15.979653: W tensorflow/compiler/xla/stream_executor/platform/default/dso_loader.cc:64] Could not load dynamic library 'libnvinfer_plugin.so.7'; dlerror: libnvinfer_plugin.so.7: cannot open shared object file: No such file or directory; LD_LIBRARY_PATH: /usr/local/lib/python3.8/dist-packages/cv2/../../lib64:/usr/lib64-nvidia\n",
            "2022-12-14 05:37:15.979674: W tensorflow/compiler/tf2tensorrt/utils/py_utils.cc:38] TF-TRT Warning: Cannot dlopen some TensorRT libraries. If you would like to use Nvidia GPU with TensorRT, please make sure the missing libraries mentioned above are installed properly.\n",
            "2022-12-14 05:37:19.903940: W tensorflow/core/common_runtime/gpu/gpu_bfc_allocator.cc:42] Overriding orig_value setting because the TF_FORCE_GPU_ALLOW_GROWTH environment variable is set. Original config value was 0.\n",
            "INFO:tensorflow:Using MirroredStrategy with devices ('/job:localhost/replica:0/task:0/device:GPU:0',)\n",
            "I1214 05:37:19.927363 139981677918080 mirrored_strategy.py:374] Using MirroredStrategy with devices ('/job:localhost/replica:0/task:0/device:GPU:0',)\n",
            "INFO:tensorflow:Maybe overwriting train_steps: 2000\n",
            "I1214 05:37:19.933507 139981677918080 config_util.py:552] Maybe overwriting train_steps: 2000\n",
            "INFO:tensorflow:Maybe overwriting use_bfloat16: False\n",
            "I1214 05:37:19.933716 139981677918080 config_util.py:552] Maybe overwriting use_bfloat16: False\n",
            "WARNING:tensorflow:From /usr/local/lib/python3.8/dist-packages/object_detection/model_lib_v2.py:563: StrategyBase.experimental_distribute_datasets_from_function (from tensorflow.python.distribute.distribute_lib) is deprecated and will be removed in a future version.\n",
            "Instructions for updating:\n",
            "rename to distribute_datasets_from_function\n",
            "W1214 05:37:19.972088 139981677918080 deprecation.py:350] From /usr/local/lib/python3.8/dist-packages/object_detection/model_lib_v2.py:563: StrategyBase.experimental_distribute_datasets_from_function (from tensorflow.python.distribute.distribute_lib) is deprecated and will be removed in a future version.\n",
            "Instructions for updating:\n",
            "rename to distribute_datasets_from_function\n",
            "INFO:tensorflow:Reading unweighted datasets: ['./tensorflow/workspace/annotations/train.record']\n",
            "I1214 05:37:19.982960 139981677918080 dataset_builder.py:162] Reading unweighted datasets: ['./tensorflow/workspace/annotations/train.record']\n",
            "INFO:tensorflow:Reading record datasets for input file: ['./tensorflow/workspace/annotations/train.record']\n",
            "I1214 05:37:19.983150 139981677918080 dataset_builder.py:79] Reading record datasets for input file: ['./tensorflow/workspace/annotations/train.record']\n",
            "INFO:tensorflow:Number of filenames to read: 1\n",
            "I1214 05:37:19.983232 139981677918080 dataset_builder.py:80] Number of filenames to read: 1\n",
            "WARNING:tensorflow:num_readers has been reduced to 1 to match input file shards.\n",
            "W1214 05:37:19.983301 139981677918080 dataset_builder.py:86] num_readers has been reduced to 1 to match input file shards.\n",
            "WARNING:tensorflow:From /usr/local/lib/python3.8/dist-packages/object_detection/builders/dataset_builder.py:100: parallel_interleave (from tensorflow.python.data.experimental.ops.interleave_ops) is deprecated and will be removed in a future version.\n",
            "Instructions for updating:\n",
            "Use `tf.data.Dataset.interleave(map_func, cycle_length, block_length, num_parallel_calls=tf.data.AUTOTUNE)` instead. If sloppy execution is desired, use `tf.data.Options.deterministic`.\n",
            "W1214 05:37:19.996694 139981677918080 deprecation.py:350] From /usr/local/lib/python3.8/dist-packages/object_detection/builders/dataset_builder.py:100: parallel_interleave (from tensorflow.python.data.experimental.ops.interleave_ops) is deprecated and will be removed in a future version.\n",
            "Instructions for updating:\n",
            "Use `tf.data.Dataset.interleave(map_func, cycle_length, block_length, num_parallel_calls=tf.data.AUTOTUNE)` instead. If sloppy execution is desired, use `tf.data.Options.deterministic`.\n",
            "WARNING:tensorflow:From /usr/local/lib/python3.8/dist-packages/object_detection/builders/dataset_builder.py:235: DatasetV1.map_with_legacy_function (from tensorflow.python.data.ops.dataset_ops) is deprecated and will be removed in a future version.\n",
            "Instructions for updating:\n",
            "Use `tf.data.Dataset.map()\n",
            "W1214 05:37:20.019621 139981677918080 deprecation.py:350] From /usr/local/lib/python3.8/dist-packages/object_detection/builders/dataset_builder.py:235: DatasetV1.map_with_legacy_function (from tensorflow.python.data.ops.dataset_ops) is deprecated and will be removed in a future version.\n",
            "Instructions for updating:\n",
            "Use `tf.data.Dataset.map()\n",
            "WARNING:tensorflow:From /usr/local/lib/python3.8/dist-packages/tensorflow/python/autograph/pyct/static_analysis/liveness.py:83: Analyzer.lamba_check (from tensorflow.python.autograph.pyct.static_analysis.liveness) is deprecated and will be removed after 2023-09-23.\n",
            "Instructions for updating:\n",
            "Lambda fuctions will be no more assumed to be used in the statement where they are used, or at least in the same block. https://github.com/tensorflow/tensorflow/issues/56089\n",
            "W1214 05:37:20.982280 139981677918080 deprecation.py:350] From /usr/local/lib/python3.8/dist-packages/tensorflow/python/autograph/pyct/static_analysis/liveness.py:83: Analyzer.lamba_check (from tensorflow.python.autograph.pyct.static_analysis.liveness) is deprecated and will be removed after 2023-09-23.\n",
            "Instructions for updating:\n",
            "Lambda fuctions will be no more assumed to be used in the statement where they are used, or at least in the same block. https://github.com/tensorflow/tensorflow/issues/56089\n",
            "WARNING:tensorflow:From /usr/local/lib/python3.8/dist-packages/tensorflow/python/util/dispatch.py:1176: sparse_to_dense (from tensorflow.python.ops.sparse_ops) is deprecated and will be removed in a future version.\n",
            "Instructions for updating:\n",
            "Create a `tf.sparse.SparseTensor` and use `tf.sparse.to_dense` instead.\n",
            "W1214 05:37:29.274002 139981677918080 deprecation.py:350] From /usr/local/lib/python3.8/dist-packages/tensorflow/python/util/dispatch.py:1176: sparse_to_dense (from tensorflow.python.ops.sparse_ops) is deprecated and will be removed in a future version.\n",
            "Instructions for updating:\n",
            "Create a `tf.sparse.SparseTensor` and use `tf.sparse.to_dense` instead.\n",
            "WARNING:tensorflow:From /usr/local/lib/python3.8/dist-packages/tensorflow/python/util/dispatch.py:1176: sample_distorted_bounding_box (from tensorflow.python.ops.image_ops_impl) is deprecated and will be removed in a future version.\n",
            "Instructions for updating:\n",
            "`seed2` arg is deprecated.Use sample_distorted_bounding_box_v2 instead.\n",
            "W1214 05:37:31.847168 139981677918080 deprecation.py:350] From /usr/local/lib/python3.8/dist-packages/tensorflow/python/util/dispatch.py:1176: sample_distorted_bounding_box (from tensorflow.python.ops.image_ops_impl) is deprecated and will be removed in a future version.\n",
            "Instructions for updating:\n",
            "`seed2` arg is deprecated.Use sample_distorted_bounding_box_v2 instead.\n",
            "WARNING:tensorflow:From /usr/local/lib/python3.8/dist-packages/tensorflow/python/util/dispatch.py:1176: to_float (from tensorflow.python.ops.math_ops) is deprecated and will be removed in a future version.\n",
            "Instructions for updating:\n",
            "Use `tf.cast` instead.\n",
            "W1214 05:37:34.029502 139981677918080 deprecation.py:350] From /usr/local/lib/python3.8/dist-packages/tensorflow/python/util/dispatch.py:1176: to_float (from tensorflow.python.ops.math_ops) is deprecated and will be removed in a future version.\n",
            "Instructions for updating:\n",
            "Use `tf.cast` instead.\n",
            "/usr/local/lib/python3.8/dist-packages/keras/backend.py:451: UserWarning: `tf.keras.backend.set_learning_phase` is deprecated and will be removed after 2020-10-11. To update it, simply pass a True/False value to the `training` argument of the `__call__` method of your layer or model.\n",
            "  warnings.warn(\n",
            "INFO:tensorflow:Reduce to /job:localhost/replica:0/task:0/device:CPU:0 then broadcast to ('/job:localhost/replica:0/task:0/device:CPU:0',).\n",
            "I1214 05:38:02.081847 139981677918080 cross_device_ops.py:616] Reduce to /job:localhost/replica:0/task:0/device:CPU:0 then broadcast to ('/job:localhost/replica:0/task:0/device:CPU:0',).\n",
            "INFO:tensorflow:Reduce to /job:localhost/replica:0/task:0/device:CPU:0 then broadcast to ('/job:localhost/replica:0/task:0/device:CPU:0',).\n",
            "I1214 05:38:02.084539 139981677918080 cross_device_ops.py:616] Reduce to /job:localhost/replica:0/task:0/device:CPU:0 then broadcast to ('/job:localhost/replica:0/task:0/device:CPU:0',).\n",
            "INFO:tensorflow:Reduce to /job:localhost/replica:0/task:0/device:CPU:0 then broadcast to ('/job:localhost/replica:0/task:0/device:CPU:0',).\n",
            "I1214 05:38:02.085679 139981677918080 cross_device_ops.py:616] Reduce to /job:localhost/replica:0/task:0/device:CPU:0 then broadcast to ('/job:localhost/replica:0/task:0/device:CPU:0',).\n",
            "INFO:tensorflow:Reduce to /job:localhost/replica:0/task:0/device:CPU:0 then broadcast to ('/job:localhost/replica:0/task:0/device:CPU:0',).\n",
            "I1214 05:38:02.086798 139981677918080 cross_device_ops.py:616] Reduce to /job:localhost/replica:0/task:0/device:CPU:0 then broadcast to ('/job:localhost/replica:0/task:0/device:CPU:0',).\n",
            "INFO:tensorflow:Reduce to /job:localhost/replica:0/task:0/device:CPU:0 then broadcast to ('/job:localhost/replica:0/task:0/device:CPU:0',).\n",
            "I1214 05:38:02.090219 139981677918080 cross_device_ops.py:616] Reduce to /job:localhost/replica:0/task:0/device:CPU:0 then broadcast to ('/job:localhost/replica:0/task:0/device:CPU:0',).\n",
            "INFO:tensorflow:Reduce to /job:localhost/replica:0/task:0/device:CPU:0 then broadcast to ('/job:localhost/replica:0/task:0/device:CPU:0',).\n",
            "I1214 05:38:02.091159 139981677918080 cross_device_ops.py:616] Reduce to /job:localhost/replica:0/task:0/device:CPU:0 then broadcast to ('/job:localhost/replica:0/task:0/device:CPU:0',).\n",
            "INFO:tensorflow:Reduce to /job:localhost/replica:0/task:0/device:CPU:0 then broadcast to ('/job:localhost/replica:0/task:0/device:CPU:0',).\n",
            "I1214 05:38:02.092155 139981677918080 cross_device_ops.py:616] Reduce to /job:localhost/replica:0/task:0/device:CPU:0 then broadcast to ('/job:localhost/replica:0/task:0/device:CPU:0',).\n",
            "INFO:tensorflow:Reduce to /job:localhost/replica:0/task:0/device:CPU:0 then broadcast to ('/job:localhost/replica:0/task:0/device:CPU:0',).\n",
            "I1214 05:38:02.093097 139981677918080 cross_device_ops.py:616] Reduce to /job:localhost/replica:0/task:0/device:CPU:0 then broadcast to ('/job:localhost/replica:0/task:0/device:CPU:0',).\n",
            "INFO:tensorflow:Reduce to /job:localhost/replica:0/task:0/device:CPU:0 then broadcast to ('/job:localhost/replica:0/task:0/device:CPU:0',).\n",
            "I1214 05:38:02.097147 139981677918080 cross_device_ops.py:616] Reduce to /job:localhost/replica:0/task:0/device:CPU:0 then broadcast to ('/job:localhost/replica:0/task:0/device:CPU:0',).\n",
            "INFO:tensorflow:Reduce to /job:localhost/replica:0/task:0/device:CPU:0 then broadcast to ('/job:localhost/replica:0/task:0/device:CPU:0',).\n",
            "I1214 05:38:02.098097 139981677918080 cross_device_ops.py:616] Reduce to /job:localhost/replica:0/task:0/device:CPU:0 then broadcast to ('/job:localhost/replica:0/task:0/device:CPU:0',).\n",
            "WARNING:tensorflow:From /usr/local/lib/python3.8/dist-packages/tensorflow/python/util/deprecation.py:629: calling map_fn_v2 (from tensorflow.python.ops.map_fn) with dtype is deprecated and will be removed in a future version.\n",
            "Instructions for updating:\n",
            "Use fn_output_signature instead\n",
            "W1214 05:38:03.454062 139977329448704 deprecation.py:554] From /usr/local/lib/python3.8/dist-packages/tensorflow/python/util/deprecation.py:629: calling map_fn_v2 (from tensorflow.python.ops.map_fn) with dtype is deprecated and will be removed in a future version.\n",
            "Instructions for updating:\n",
            "Use fn_output_signature instead\n",
            "INFO:tensorflow:Step 100 per-step time 0.385s\n",
            "I1214 05:38:41.617330 139981677918080 model_lib_v2.py:705] Step 100 per-step time 0.385s\n",
            "INFO:tensorflow:{'Loss/classification_loss': 0.35617092,\n",
            " 'Loss/localization_loss': 0.34203348,\n",
            " 'Loss/regularization_loss': 0.15416414,\n",
            " 'Loss/total_loss': 0.85236853,\n",
            " 'learning_rate': 0.0319994}\n",
            "I1214 05:38:41.617655 139981677918080 model_lib_v2.py:708] {'Loss/classification_loss': 0.35617092,\n",
            " 'Loss/localization_loss': 0.34203348,\n",
            " 'Loss/regularization_loss': 0.15416414,\n",
            " 'Loss/total_loss': 0.85236853,\n",
            " 'learning_rate': 0.0319994}\n",
            "INFO:tensorflow:Step 200 per-step time 0.062s\n",
            "I1214 05:38:47.851151 139981677918080 model_lib_v2.py:705] Step 200 per-step time 0.062s\n",
            "INFO:tensorflow:{'Loss/classification_loss': 0.39241007,\n",
            " 'Loss/localization_loss': 0.3119336,\n",
            " 'Loss/regularization_loss': 0.15461951,\n",
            " 'Loss/total_loss': 0.8589632,\n",
            " 'learning_rate': 0.0373328}\n",
            "I1214 05:38:47.851455 139981677918080 model_lib_v2.py:708] {'Loss/classification_loss': 0.39241007,\n",
            " 'Loss/localization_loss': 0.3119336,\n",
            " 'Loss/regularization_loss': 0.15461951,\n",
            " 'Loss/total_loss': 0.8589632,\n",
            " 'learning_rate': 0.0373328}\n",
            "INFO:tensorflow:Step 300 per-step time 0.063s\n",
            "I1214 05:38:54.119419 139981677918080 model_lib_v2.py:705] Step 300 per-step time 0.063s\n",
            "INFO:tensorflow:{'Loss/classification_loss': 0.31567082,\n",
            " 'Loss/localization_loss': 0.13844284,\n",
            " 'Loss/regularization_loss': 0.15467525,\n",
            " 'Loss/total_loss': 0.6087889,\n",
            " 'learning_rate': 0.0426662}\n",
            "I1214 05:38:54.119740 139981677918080 model_lib_v2.py:708] {'Loss/classification_loss': 0.31567082,\n",
            " 'Loss/localization_loss': 0.13844284,\n",
            " 'Loss/regularization_loss': 0.15467525,\n",
            " 'Loss/total_loss': 0.6087889,\n",
            " 'learning_rate': 0.0426662}\n",
            "INFO:tensorflow:Step 400 per-step time 0.063s\n",
            "I1214 05:39:00.467084 139981677918080 model_lib_v2.py:705] Step 400 per-step time 0.063s\n",
            "INFO:tensorflow:{'Loss/classification_loss': 0.29768074,\n",
            " 'Loss/localization_loss': 0.21889515,\n",
            " 'Loss/regularization_loss': 0.15457234,\n",
            " 'Loss/total_loss': 0.6711482,\n",
            " 'learning_rate': 0.047999598}\n",
            "I1214 05:39:00.467392 139981677918080 model_lib_v2.py:708] {'Loss/classification_loss': 0.29768074,\n",
            " 'Loss/localization_loss': 0.21889515,\n",
            " 'Loss/regularization_loss': 0.15457234,\n",
            " 'Loss/total_loss': 0.6711482,\n",
            " 'learning_rate': 0.047999598}\n",
            "INFO:tensorflow:Step 500 per-step time 0.064s\n",
            "I1214 05:39:06.825884 139981677918080 model_lib_v2.py:705] Step 500 per-step time 0.064s\n",
            "INFO:tensorflow:{'Loss/classification_loss': 0.48670167,\n",
            " 'Loss/localization_loss': 0.11517152,\n",
            " 'Loss/regularization_loss': 0.15449278,\n",
            " 'Loss/total_loss': 0.75636595,\n",
            " 'learning_rate': 0.053333}\n",
            "I1214 05:39:06.826184 139981677918080 model_lib_v2.py:708] {'Loss/classification_loss': 0.48670167,\n",
            " 'Loss/localization_loss': 0.11517152,\n",
            " 'Loss/regularization_loss': 0.15449278,\n",
            " 'Loss/total_loss': 0.75636595,\n",
            " 'learning_rate': 0.053333}\n",
            "INFO:tensorflow:Step 600 per-step time 0.064s\n",
            "I1214 05:39:13.219278 139981677918080 model_lib_v2.py:705] Step 600 per-step time 0.064s\n",
            "INFO:tensorflow:{'Loss/classification_loss': 0.26443747,\n",
            " 'Loss/localization_loss': 0.122267194,\n",
            " 'Loss/regularization_loss': 0.15436126,\n",
            " 'Loss/total_loss': 0.54106593,\n",
            " 'learning_rate': 0.0586664}\n",
            "I1214 05:39:13.219579 139981677918080 model_lib_v2.py:708] {'Loss/classification_loss': 0.26443747,\n",
            " 'Loss/localization_loss': 0.122267194,\n",
            " 'Loss/regularization_loss': 0.15436126,\n",
            " 'Loss/total_loss': 0.54106593,\n",
            " 'learning_rate': 0.0586664}\n",
            "INFO:tensorflow:Step 700 per-step time 0.063s\n",
            "I1214 05:39:19.554353 139981677918080 model_lib_v2.py:705] Step 700 per-step time 0.063s\n",
            "INFO:tensorflow:{'Loss/classification_loss': 0.23476374,\n",
            " 'Loss/localization_loss': 0.15344195,\n",
            " 'Loss/regularization_loss': 0.15418316,\n",
            " 'Loss/total_loss': 0.54238886,\n",
            " 'learning_rate': 0.0639998}\n",
            "I1214 05:39:19.554658 139981677918080 model_lib_v2.py:708] {'Loss/classification_loss': 0.23476374,\n",
            " 'Loss/localization_loss': 0.15344195,\n",
            " 'Loss/regularization_loss': 0.15418316,\n",
            " 'Loss/total_loss': 0.54238886,\n",
            " 'learning_rate': 0.0639998}\n",
            "INFO:tensorflow:Step 800 per-step time 0.063s\n",
            "I1214 05:39:25.890346 139981677918080 model_lib_v2.py:705] Step 800 per-step time 0.063s\n",
            "INFO:tensorflow:{'Loss/classification_loss': 0.3830891,\n",
            " 'Loss/localization_loss': 0.18260428,\n",
            " 'Loss/regularization_loss': 0.15411803,\n",
            " 'Loss/total_loss': 0.71981144,\n",
            " 'learning_rate': 0.069333196}\n",
            "I1214 05:39:25.890652 139981677918080 model_lib_v2.py:708] {'Loss/classification_loss': 0.3830891,\n",
            " 'Loss/localization_loss': 0.18260428,\n",
            " 'Loss/regularization_loss': 0.15411803,\n",
            " 'Loss/total_loss': 0.71981144,\n",
            " 'learning_rate': 0.069333196}\n",
            "INFO:tensorflow:Step 900 per-step time 0.065s\n",
            "I1214 05:39:32.366311 139981677918080 model_lib_v2.py:705] Step 900 per-step time 0.065s\n",
            "INFO:tensorflow:{'Loss/classification_loss': 0.22204073,\n",
            " 'Loss/localization_loss': 0.13660687,\n",
            " 'Loss/regularization_loss': 0.153985,\n",
            " 'Loss/total_loss': 0.5126326,\n",
            " 'learning_rate': 0.074666604}\n",
            "I1214 05:39:32.366642 139981677918080 model_lib_v2.py:708] {'Loss/classification_loss': 0.22204073,\n",
            " 'Loss/localization_loss': 0.13660687,\n",
            " 'Loss/regularization_loss': 0.153985,\n",
            " 'Loss/total_loss': 0.5126326,\n",
            " 'learning_rate': 0.074666604}\n",
            "INFO:tensorflow:Step 1000 per-step time 0.064s\n",
            "I1214 05:39:38.792758 139981677918080 model_lib_v2.py:705] Step 1000 per-step time 0.064s\n",
            "INFO:tensorflow:{'Loss/classification_loss': 0.31625652,\n",
            " 'Loss/localization_loss': 0.14043207,\n",
            " 'Loss/regularization_loss': 0.15378234,\n",
            " 'Loss/total_loss': 0.6104709,\n",
            " 'learning_rate': 0.08}\n",
            "I1214 05:39:38.793059 139981677918080 model_lib_v2.py:708] {'Loss/classification_loss': 0.31625652,\n",
            " 'Loss/localization_loss': 0.14043207,\n",
            " 'Loss/regularization_loss': 0.15378234,\n",
            " 'Loss/total_loss': 0.6104709,\n",
            " 'learning_rate': 0.08}\n",
            "INFO:tensorflow:Step 1100 per-step time 0.075s\n",
            "I1214 05:39:46.333259 139981677918080 model_lib_v2.py:705] Step 1100 per-step time 0.075s\n",
            "INFO:tensorflow:{'Loss/classification_loss': 0.23645577,\n",
            " 'Loss/localization_loss': 0.14984229,\n",
            " 'Loss/regularization_loss': 0.15467648,\n",
            " 'Loss/total_loss': 0.54097456,\n",
            " 'learning_rate': 0.07999918}\n",
            "I1214 05:39:46.333550 139981677918080 model_lib_v2.py:708] {'Loss/classification_loss': 0.23645577,\n",
            " 'Loss/localization_loss': 0.14984229,\n",
            " 'Loss/regularization_loss': 0.15467648,\n",
            " 'Loss/total_loss': 0.54097456,\n",
            " 'learning_rate': 0.07999918}\n",
            "INFO:tensorflow:Step 1200 per-step time 0.064s\n",
            "I1214 05:39:52.724248 139981677918080 model_lib_v2.py:705] Step 1200 per-step time 0.064s\n",
            "INFO:tensorflow:{'Loss/classification_loss': 0.16786867,\n",
            " 'Loss/localization_loss': 0.101791434,\n",
            " 'Loss/regularization_loss': 0.1545173,\n",
            " 'Loss/total_loss': 0.4241774,\n",
            " 'learning_rate': 0.079996705}\n",
            "I1214 05:39:52.724573 139981677918080 model_lib_v2.py:708] {'Loss/classification_loss': 0.16786867,\n",
            " 'Loss/localization_loss': 0.101791434,\n",
            " 'Loss/regularization_loss': 0.1545173,\n",
            " 'Loss/total_loss': 0.4241774,\n",
            " 'learning_rate': 0.079996705}\n",
            "INFO:tensorflow:Step 1300 per-step time 0.063s\n",
            "I1214 05:39:59.054839 139981677918080 model_lib_v2.py:705] Step 1300 per-step time 0.063s\n",
            "INFO:tensorflow:{'Loss/classification_loss': 0.12594491,\n",
            " 'Loss/localization_loss': 0.06920152,\n",
            " 'Loss/regularization_loss': 0.15427254,\n",
            " 'Loss/total_loss': 0.349419,\n",
            " 'learning_rate': 0.0799926}\n",
            "I1214 05:39:59.055127 139981677918080 model_lib_v2.py:708] {'Loss/classification_loss': 0.12594491,\n",
            " 'Loss/localization_loss': 0.06920152,\n",
            " 'Loss/regularization_loss': 0.15427254,\n",
            " 'Loss/total_loss': 0.349419,\n",
            " 'learning_rate': 0.0799926}\n",
            "INFO:tensorflow:Step 1400 per-step time 0.063s\n",
            "I1214 05:40:05.393447 139981677918080 model_lib_v2.py:705] Step 1400 per-step time 0.063s\n",
            "INFO:tensorflow:{'Loss/classification_loss': 0.21331255,\n",
            " 'Loss/localization_loss': 0.07449067,\n",
            " 'Loss/regularization_loss': 0.15395108,\n",
            " 'Loss/total_loss': 0.4417543,\n",
            " 'learning_rate': 0.07998685}\n",
            "I1214 05:40:05.393764 139981677918080 model_lib_v2.py:708] {'Loss/classification_loss': 0.21331255,\n",
            " 'Loss/localization_loss': 0.07449067,\n",
            " 'Loss/regularization_loss': 0.15395108,\n",
            " 'Loss/total_loss': 0.4417543,\n",
            " 'learning_rate': 0.07998685}\n",
            "INFO:tensorflow:Step 1500 per-step time 0.064s\n",
            "I1214 05:40:11.767217 139981677918080 model_lib_v2.py:705] Step 1500 per-step time 0.064s\n",
            "INFO:tensorflow:{'Loss/classification_loss': 0.11538843,\n",
            " 'Loss/localization_loss': 0.07300609,\n",
            " 'Loss/regularization_loss': 0.15383977,\n",
            " 'Loss/total_loss': 0.34223428,\n",
            " 'learning_rate': 0.07997945}\n",
            "I1214 05:40:11.767507 139981677918080 model_lib_v2.py:708] {'Loss/classification_loss': 0.11538843,\n",
            " 'Loss/localization_loss': 0.07300609,\n",
            " 'Loss/regularization_loss': 0.15383977,\n",
            " 'Loss/total_loss': 0.34223428,\n",
            " 'learning_rate': 0.07997945}\n",
            "INFO:tensorflow:Step 1600 per-step time 0.064s\n",
            "I1214 05:40:18.145129 139981677918080 model_lib_v2.py:705] Step 1600 per-step time 0.064s\n",
            "INFO:tensorflow:{'Loss/classification_loss': 0.1028553,\n",
            " 'Loss/localization_loss': 0.050396625,\n",
            " 'Loss/regularization_loss': 0.15361318,\n",
            " 'Loss/total_loss': 0.3068651,\n",
            " 'learning_rate': 0.079970405}\n",
            "I1214 05:40:18.145459 139981677918080 model_lib_v2.py:708] {'Loss/classification_loss': 0.1028553,\n",
            " 'Loss/localization_loss': 0.050396625,\n",
            " 'Loss/regularization_loss': 0.15361318,\n",
            " 'Loss/total_loss': 0.3068651,\n",
            " 'learning_rate': 0.079970405}\n",
            "INFO:tensorflow:Step 1700 per-step time 0.063s\n",
            "I1214 05:40:24.473499 139981677918080 model_lib_v2.py:705] Step 1700 per-step time 0.063s\n",
            "INFO:tensorflow:{'Loss/classification_loss': 0.12022967,\n",
            " 'Loss/localization_loss': 0.045340504,\n",
            " 'Loss/regularization_loss': 0.15304554,\n",
            " 'Loss/total_loss': 0.3186157,\n",
            " 'learning_rate': 0.07995972}\n",
            "I1214 05:40:24.473811 139981677918080 model_lib_v2.py:708] {'Loss/classification_loss': 0.12022967,\n",
            " 'Loss/localization_loss': 0.045340504,\n",
            " 'Loss/regularization_loss': 0.15304554,\n",
            " 'Loss/total_loss': 0.3186157,\n",
            " 'learning_rate': 0.07995972}\n",
            "INFO:tensorflow:Step 1800 per-step time 0.064s\n",
            "I1214 05:40:30.867345 139981677918080 model_lib_v2.py:705] Step 1800 per-step time 0.064s\n",
            "INFO:tensorflow:{'Loss/classification_loss': 0.07547598,\n",
            " 'Loss/localization_loss': 0.02957694,\n",
            " 'Loss/regularization_loss': 0.15265432,\n",
            " 'Loss/total_loss': 0.25770724,\n",
            " 'learning_rate': 0.0799474}\n",
            "I1214 05:40:30.867665 139981677918080 model_lib_v2.py:708] {'Loss/classification_loss': 0.07547598,\n",
            " 'Loss/localization_loss': 0.02957694,\n",
            " 'Loss/regularization_loss': 0.15265432,\n",
            " 'Loss/total_loss': 0.25770724,\n",
            " 'learning_rate': 0.0799474}\n",
            "INFO:tensorflow:Step 1900 per-step time 0.064s\n",
            "I1214 05:40:37.297143 139981677918080 model_lib_v2.py:705] Step 1900 per-step time 0.064s\n",
            "INFO:tensorflow:{'Loss/classification_loss': 0.08203883,\n",
            " 'Loss/localization_loss': 0.058720652,\n",
            " 'Loss/regularization_loss': 0.15207335,\n",
            " 'Loss/total_loss': 0.29283285,\n",
            " 'learning_rate': 0.07993342}\n",
            "I1214 05:40:37.297435 139981677918080 model_lib_v2.py:708] {'Loss/classification_loss': 0.08203883,\n",
            " 'Loss/localization_loss': 0.058720652,\n",
            " 'Loss/regularization_loss': 0.15207335,\n",
            " 'Loss/total_loss': 0.29283285,\n",
            " 'learning_rate': 0.07993342}\n",
            "INFO:tensorflow:Step 2000 per-step time 0.087s\n",
            "I1214 05:40:46.004227 139981677918080 model_lib_v2.py:705] Step 2000 per-step time 0.087s\n",
            "INFO:tensorflow:{'Loss/classification_loss': 0.06679067,\n",
            " 'Loss/localization_loss': 0.027251836,\n",
            " 'Loss/regularization_loss': 0.15141083,\n",
            " 'Loss/total_loss': 0.24545334,\n",
            " 'learning_rate': 0.07991781}\n",
            "I1214 05:40:46.004576 139981677918080 model_lib_v2.py:708] {'Loss/classification_loss': 0.06679067,\n",
            " 'Loss/localization_loss': 0.027251836,\n",
            " 'Loss/regularization_loss': 0.15141083,\n",
            " 'Loss/total_loss': 0.24545334,\n",
            " 'learning_rate': 0.07991781}\n",
            "Done training.\n"
          ]
        }
      ],
      "source": [
        "if not skipTraining:\n",
        "    !echo \"It's training time!\"\n",
        "    !python ./models/research/object_detection/model_main_tf2.py                 \\\n",
        "     --model_dir=./tensorflow/workspace/models/model/                            \\\n",
        "     --pipeline_config_path=./tensorflow/workspace/models/model/pipeline.config  \\\n",
        "     --num_train_steps=2000\n",
        "    !echo \"Done training.\""
      ],
      "id": "bd538311"
    },
    {
      "cell_type": "markdown",
      "metadata": {
        "id": "BhNFQNIqCbwa"
      },
      "source": [
        "## Step 9: Evaluate the Model\n",
        "\n",
        "Now that the model is trained, let us evaluate it. If you just want to run the model, you can skip this."
      ],
      "id": "BhNFQNIqCbwa"
    },
    {
      "cell_type": "code",
      "execution_count": null,
      "metadata": {
        "id": "yGNqvQCrCiIP"
      },
      "outputs": [],
      "source": [
        "!python ./models/research/object_detection/model_main_tf2.py                 \\\n",
        " --model_dir=./tensorflow/workspace/models/model/                            \\\n",
        " --pipeline_config_path=./tensorflow/workspace/models/model/pipeline.config  \\\n",
        " --checkpoint_dir=./tensorflow/workspace/models/model/"
      ],
      "id": "yGNqvQCrCiIP"
    },
    {
      "cell_type": "markdown",
      "metadata": {
        "id": "ANC1-6-UWh2G"
      },
      "source": [
        "## Step 10: Load and Use the Model\n",
        "\n",
        "We can now load the trained model and use it to detect and classify images in our test directory from earlier."
      ],
      "id": "ANC1-6-UWh2G"
    },
    {
      "cell_type": "code",
      "execution_count": 18,
      "metadata": {
        "id": "v8hmzLK2WxfI"
      },
      "outputs": [],
      "source": [
        "# Build our detection model.\n",
        "config = config_util.get_configs_from_pipeline_file(\"./tensorflow/workspace/models/model/pipeline.config\")\n",
        "model = model_builder.build(model_config=config[\"model\"], is_training=False)\n",
        "\n",
        "# Restore the checkpoint.\n",
        "ckpt = tf.compat.v2.train.Checkpoint(model=model)\n",
        "ckpt.restore(\"./tensorflow/workspace/models/model/ckpt-3\").expect_partial()\n",
        "\n",
        "@tf.function\n",
        "def detect(img):\n",
        "    \"\"\"\n",
        "    Detection function.\n",
        "    \"\"\"\n",
        "    \n",
        "    img, shapes = model.preprocess(img)\n",
        "    predictDict = model.predict(img, shapes)\n",
        "    detections = model.postprocess(predictDict, shapes)\n",
        "    return detections"
      ],
      "id": "v8hmzLK2WxfI"
    },
    {
      "cell_type": "markdown",
      "source": [
        "For visualization, we need to import some libraries."
      ],
      "metadata": {
        "id": "a3u6NwDjeS_A"
      },
      "id": "a3u6NwDjeS_A"
    },
    {
      "cell_type": "code",
      "source": [
        "import cv2\n",
        "import numpy as np\n",
        "import matplotlib.pyplot as plt\n",
        "from object_detection.utils import label_map_util\n",
        "from object_detection.utils import visualization_utils as vis\n",
        "\n",
        "# Makes matplotlib nice and large.\n",
        "%matplotlib inline\n",
        "plt.rcParams['figure.figsize'] = [20, 10]"
      ],
      "metadata": {
        "id": "Du1WYmXPeZNB"
      },
      "id": "Du1WYmXPeZNB",
      "execution_count": 19,
      "outputs": []
    },
    {
      "cell_type": "code",
      "source": [
        "# Category indices.\n",
        "catIndices = label_map_util.create_category_index_from_labelmap(\"./tensorflow/workspace/annotations/label_map.pbtxt\")\n",
        "\n",
        "# Some sample images we can test our model on.\n",
        "#testImg = \"./tensorflow/workspace/images/test/ea672329-r_1670919841.jpg\"\n",
        "#testImg = \"./tensorflow/workspace/images/test/2a3f0288-e_1670919504.jpg\"\n",
        "#testImg = \"./tensorflow/workspace/images/test/951c110e-d_1670922929.jpg\"\n",
        "#testImg = \"./tensorflow/workspace/images/test/9592cffa-w_1670919951.jpg\"\n",
        "#testImg = \"./tensorflow/workspace/images/test/b9fdffc3-o_1670918234.jpg\"\n",
        "testImg = \"./tensorflow/workspace/images/test/c502e0ea-h_1670919424.jpg\"\n",
        "#testImg = \"./tensorflow/workspace/images/test/f7bc5a1c-l_1670922700.jpg\"\n",
        "img = cv2.imread(testImg)\n",
        "matrix = np.array(img)\n",
        "\n",
        "# Convert to a tensor and extract detections.\n",
        "tensor = tf.convert_to_tensor(np.expand_dims(matrix, 0), dtype=tf.float32)\n",
        "detections = detect(tensor)\n",
        "\n",
        "n = int(detections.pop(\"num_detections\"))\n",
        "detections = {k:v[0, :n].numpy() for k, v in detections.items()}\n",
        "detections[\"num_detections\"] = n\n",
        "detections[\"detection_classes\"] = detections[\"detection_classes\"].astype(np.int64)\n",
        "\n",
        "offset = 1\n",
        "matrixDetections = matrix.copy()\n",
        "\n",
        "vis.visualize_boxes_and_labels_on_image_array(\n",
        "    matrixDetections,\n",
        "    detections[\"detection_boxes\"],\n",
        "    detections[\"detection_classes\"]+offset,\n",
        "    detections[\"detection_scores\"],\n",
        "    catIndices,\n",
        "    use_normalized_coordinates=True,\n",
        "    max_boxes_to_draw=5,\n",
        "    min_score_thresh=0.67,\n",
        "    agnostic_mode=False\n",
        ")\n",
        "\n",
        "plt.imshow(cv2.cvtColor(matrixDetections, cv2.COLOR_BGR2RGB))\n",
        "plt.show()"
      ],
      "metadata": {
        "colab": {
          "base_uri": "https://localhost:8080/",
          "height": 595
        },
        "id": "ITWkL_VcewoM",
        "outputId": "3ab617aa-a218-4110-d7bc-b27aafc9fcc9"
      },
      "id": "ITWkL_VcewoM",
      "execution_count": 22,
      "outputs": [
        {
          "output_type": "display_data",
          "data": {
            "text/plain": [
              "<Figure size 1440x720 with 1 Axes>"
            ],
            "image/png": "[encoded data removed]"
          },
          "metadata": {
            "needs_background": "light"
          }
        }
      ]
    },
    {
      "cell_type": "markdown",
      "source": [
        "## Step 11: Live Detection via Webcam\n",
        "\n",
        "We can now use the webcam to detect gestures live using our trained model."
      ],
      "metadata": {
        "id": "UDSLVqWbBQyf"
      },
      "id": "UDSLVqWbBQyf"
    },
    {
      "cell_type": "code",
      "source": [
        "if not usingColab:\n",
        "\n",
        "    cap = cv2.VideoCapture(0)\n",
        "\n",
        "    # Loop for all gestures we want to train.\n",
        "    while cap.isOpened():\n",
        "\n",
        "        # Read from the camera.\n",
        "        _, frame = cap.read()\n",
        "        matrix = np.array(frame)\n",
        "\n",
        "        # Convert to a tensor and extract detections.\n",
        "        tensor = tf.convert_to_tensor(np.expand_dims(matrix, 0), dtype=tf.float32)\n",
        "        detections = detect(tensor)\n",
        "\n",
        "        n = int(detections.pop(\"num_detections\"))\n",
        "        detections = {k:v[0, :n].numpy() for k, v in detections.items()}\n",
        "        detections[\"num_detections\"] = n\n",
        "        detections[\"detection_classes\"] = detections[\"detection_classes\"].astype(np.int64)\n",
        "\n",
        "        offset = 1\n",
        "        matrixDetections = matrix.copy()\n",
        "\n",
        "        vis.visualize_boxes_and_labels_on_image_array(\n",
        "            matrixDetections,\n",
        "            detections[\"detection_boxes\"],\n",
        "            detections[\"detection_classes\"]+offset,\n",
        "            detections[\"detection_scores\"],\n",
        "            catIndices,\n",
        "            use_normalized_coordinates=True,\n",
        "            max_boxes_to_draw=5,\n",
        "            min_score_thresh=0.80,\n",
        "            agnostic_mode=False\n",
        "        )\n",
        "\n",
        "        cv2.imshow(\"Frame\", matrixDetections)\n",
        "\n",
        "        # Press 'q' to quit.\n",
        "        if cv2.waitKey(10) & 0xFF == ord('q'):\n",
        "            cap.release()\n",
        "            cv2.destroyAllWindows()\n",
        "            break\n",
        "\n",
        "# Credits to https://colab.research.google.com/github/isnamdnazim/YOLO-V4-Object-Detection/blob/main/Real_time_YOLOv4_Object_Detection_on_Webcam_in_Google_Colab_%7C_Images_and_Video.ipynb#scrollTo=YjOa8bVj3mwV\n",
        "# Google Colab needs a webcam workaround.\n",
        "else:\n",
        "\n",
        "    from IPython.display import display, Javascript, clear_output\n",
        "    from google.colab.output import eval_js\n",
        "    from base64 import b64decode, b64encode\n",
        "\n",
        "    # JavaScript to properly create our live video stream using our webcam as input\n",
        "    def video_stream():\n",
        "      js = Javascript('''\n",
        "        var video;\n",
        "        var div = null;\n",
        "        var stream;\n",
        "        var captureCanvas;\n",
        "        var imgElement;\n",
        "        var labelElement;\n",
        "        \n",
        "        var pendingResolve = null;\n",
        "        var shutdown = false;\n",
        "        \n",
        "        function removeDom() {\n",
        "          stream.getVideoTracks()[0].stop();\n",
        "          video.remove();\n",
        "          div.remove();\n",
        "          video = null;\n",
        "          div = null;\n",
        "          stream = null;\n",
        "          imgElement = null;\n",
        "          captureCanvas = null;\n",
        "          labelElement = null;\n",
        "        }\n",
        "        \n",
        "        function onAnimationFrame() {\n",
        "          if (!shutdown) {\n",
        "            window.requestAnimationFrame(onAnimationFrame);\n",
        "          }\n",
        "          if (pendingResolve) {\n",
        "            var result = \"\";\n",
        "            if (!shutdown) {\n",
        "              captureCanvas.getContext('2d').drawImage(video, 0, 0, 640, 480);\n",
        "              result = captureCanvas.toDataURL('image/jpeg', 0.8)\n",
        "            }\n",
        "            var lp = pendingResolve;\n",
        "            pendingResolve = null;\n",
        "            lp(result);\n",
        "          }\n",
        "        }\n",
        "        \n",
        "        async function createDom() {\n",
        "          if (div !== null) {\n",
        "            return stream;\n",
        "          }\n",
        "\n",
        "          div = document.createElement('div');\n",
        "          div.style.border = '2px solid black';\n",
        "          div.style.padding = '3px';\n",
        "          div.style.width = '100%';\n",
        "          div.style.maxWidth = '600px';\n",
        "          document.body.appendChild(div);\n",
        "          \n",
        "          const modelOut = document.createElement('div');\n",
        "          modelOut.innerHTML = \"<span>Status:</span>\";\n",
        "          labelElement = document.createElement('span');\n",
        "          labelElement.innerText = 'No data';\n",
        "          labelElement.style.fontWeight = 'bold';\n",
        "          modelOut.appendChild(labelElement);\n",
        "          div.appendChild(modelOut);\n",
        "              \n",
        "          video = document.createElement('video');\n",
        "          video.style.display = 'block';\n",
        "          video.width = div.clientWidth - 6;\n",
        "          video.setAttribute('playsinline', '');\n",
        "          video.onclick = () => { shutdown = true; };\n",
        "          stream = await navigator.mediaDevices.getUserMedia(\n",
        "              {video: { facingMode: \"environment\"}});\n",
        "          div.appendChild(video);\n",
        "\n",
        "          imgElement = document.createElement('img');\n",
        "          imgElement.style.position = 'absolute';\n",
        "          imgElement.style.zIndex = 1;\n",
        "          imgElement.onclick = () => { shutdown = true; };\n",
        "          div.appendChild(imgElement);\n",
        "          \n",
        "          const instruction = document.createElement('div');\n",
        "          instruction.innerHTML = \n",
        "              '<span style=\"color: red; font-weight: bold;\">' +\n",
        "              'When finished, click here or on the video to stop this demo</span>';\n",
        "          div.appendChild(instruction);\n",
        "          instruction.onclick = () => { shutdown = true; };\n",
        "          \n",
        "          video.srcObject = stream;\n",
        "          await video.play();\n",
        "\n",
        "          captureCanvas = document.createElement('canvas');\n",
        "          captureCanvas.width = 640; //video.videoWidth;\n",
        "          captureCanvas.height = 480; //video.videoHeight;\n",
        "          window.requestAnimationFrame(onAnimationFrame);\n",
        "          \n",
        "          return stream;\n",
        "        }\n",
        "        async function stream_frame(label, imgData) {\n",
        "          if (shutdown) {\n",
        "            removeDom();\n",
        "            shutdown = false;\n",
        "            return '';\n",
        "          }\n",
        "\n",
        "          var preCreate = Date.now();\n",
        "          stream = await createDom();\n",
        "          \n",
        "          var preShow = Date.now();\n",
        "          if (label != \"\") {\n",
        "            labelElement.innerHTML = label;\n",
        "          }\n",
        "                \n",
        "          if (imgData != \"\") {\n",
        "            var videoRect = video.getClientRects()[0];\n",
        "            imgElement.style.top = videoRect.top + \"px\";\n",
        "            imgElement.style.left = videoRect.left + \"px\";\n",
        "            imgElement.style.width = videoRect.width + \"px\";\n",
        "            imgElement.style.height = videoRect.height + \"px\";\n",
        "            imgElement.src = imgData;\n",
        "          }\n",
        "          \n",
        "          var preCapture = Date.now();\n",
        "          var result = await new Promise(function(resolve, reject) {\n",
        "            pendingResolve = resolve;\n",
        "          });\n",
        "          shutdown = false;\n",
        "          \n",
        "          return {'create': preShow - preCreate, \n",
        "                  'show': preCapture - preShow, \n",
        "                  'capture': Date.now() - preCapture,\n",
        "                  'img': result};\n",
        "        }\n",
        "        ''')\n",
        "\n",
        "      display(js)\n",
        "      \n",
        "    def video_frame(label, bbox):\n",
        "      data = eval_js('stream_frame(\"{}\", \"{}\")'.format(label, bbox))\n",
        "      return data\n",
        "\n",
        "    # function to convert the JavaScript object into an OpenCV image\n",
        "    def js_to_image(js_reply):\n",
        "      \"\"\"\n",
        "      Params:\n",
        "              js_reply: JavaScript object containing image from webcam\n",
        "      Returns:\n",
        "              img: OpenCV BGR image\n",
        "      \"\"\"\n",
        "      # decode base64 image\n",
        "      image_bytes = b64decode(js_reply.split(',')[1])\n",
        "      # convert bytes to numpy array\n",
        "      jpg_as_np = np.frombuffer(image_bytes, dtype=np.uint8)\n",
        "      # decode numpy array into OpenCV BGR image\n",
        "      img = cv2.imdecode(jpg_as_np, flags=1)\n",
        "\n",
        "      return img\n",
        "\n",
        "    # Credits to https://stackoverflow.com/questions/72312920/display-a-stream-images-in-google-colab-using-opencv\n",
        "    # for this workaround again in Google Colab. Again, this is just because Colab\n",
        "    # needs some kind of workaround for webcams and output. This isn't needed\n",
        "    # in the native Jupyter case, but we're including support for Colab in case\n",
        "    # you may be running this and not have the hardware to train the model.\n",
        "    def imshow(name, img):\n",
        "      \"\"\"Put frame as <img src=\"data:image/jpg;base64,....\"> \"\"\"\n",
        "\n",
        "      js = Javascript('''\n",
        "      async function showImage(name, image, width, height) {\n",
        "        img = document.getElementById(name);\n",
        "        if(img == null) {\n",
        "          img = document.createElement('img');\n",
        "          img.id = name;\n",
        "          document.body.appendChild(img);\n",
        "        }\n",
        "        img.src = image;\n",
        "        img.width = width;\n",
        "        img.height = height;\n",
        "      }\n",
        "      ''')\n",
        "\n",
        "      height, width = img.shape[:2]\n",
        "\n",
        "      ret, data = cv2.imencode('.jpg', img)   # compress array of pixels to JPG data\n",
        "      data = b64encode(data)                  # encode base64\n",
        "      data = data.decode()                    # convert bytes to string\n",
        "      data = 'data:image/jpg;base64,' + data  # join header (\"data:image/jpg;base64,\") and base64 data (JPG)\n",
        "\n",
        "      display(js)\n",
        "      eval_js(f'showImage(\"{name}\", \"{data}\", {width}, {height})')  # run JavaScript code to put image (JPG as string base64) in <img>\n",
        "                                              # `name` and `data` in needs `\" \"` to send it as text, not as name of variabe.\n",
        "\n",
        "    # With those workarounds out of the way, finally back to our code.\n",
        "\n",
        "    %matplotlib inline\n",
        "    video_stream()\n",
        "\n",
        "    while True:\n",
        "\n",
        "        jsr = video_frame(\"Stream\", \"\")\n",
        "        if not jsr:\n",
        "            break\n",
        "        frame = js_to_image(jsr[\"img\"])\n",
        "        matrix = np.array(frame)\n",
        "\n",
        "        # Convert to a tensor and extract detections.\n",
        "        tensor = tf.convert_to_tensor(np.expand_dims(matrix, 0), dtype=tf.float32)\n",
        "        detections = detect(tensor)\n",
        "\n",
        "        n = int(detections.pop(\"num_detections\"))\n",
        "        detections = {k:v[0, :n].numpy() for k, v in detections.items()}\n",
        "        detections[\"num_detections\"] = n\n",
        "        detections[\"detection_classes\"] = detections[\"detection_classes\"].astype(np.int64)\n",
        "\n",
        "        offset = 1\n",
        "        matrixDetections = matrix.copy()\n",
        "\n",
        "        vis.visualize_boxes_and_labels_on_image_array(\n",
        "            matrixDetections,\n",
        "            detections[\"detection_boxes\"],\n",
        "            detections[\"detection_classes\"]+offset,\n",
        "            detections[\"detection_scores\"],\n",
        "            catIndices,\n",
        "            use_normalized_coordinates=True,\n",
        "            max_boxes_to_draw=5,\n",
        "            min_score_thresh=0.80,\n",
        "            agnostic_mode=False\n",
        "        )\n",
        "\n",
        "        imshow(\"Frame\", cv2.cvtColor(matrixDetections, cv2.COLOR_BGR2RGB))"
      ],
      "metadata": {
        "colab": {
          "base_uri": "https://localhost:8080/",
          "height": 1000
        },
        "id": "lE_lpB09BdKA",
        "outputId": "0b2e9814-ae82-4218-c103-0d3086906347"
      },
      "id": "lE_lpB09BdKA",
      "execution_count": 46,
      "outputs": [
        {
          "output_type": "display_data",
          "data": {
            "text/plain": [
              "<IPython.core.display.Javascript object>"
            ],
            "application/javascript": [
              "\n",
              "        var video;\n",
              "        var div = null;\n",
              "        var stream;\n",
              "        var captureCanvas;\n",
              "        var imgElement;\n",
              "        var labelElement;\n",
              "        \n",
              "        var pendingResolve = null;\n",
              "        var shutdown = false;\n",
              "        \n",
              "        function removeDom() {\n",
              "          stream.getVideoTracks()[0].stop();\n",
              "          video.remove();\n",
              "          div.remove();\n",
              "          video = null;\n",
              "          div = null;\n",
              "          stream = null;\n",
              "          imgElement = null;\n",
              "          captureCanvas = null;\n",
              "          labelElement = null;\n",
              "        }\n",
              "        \n",
              "        function onAnimationFrame() {\n",
              "          if (!shutdown) {\n",
              "            window.requestAnimationFrame(onAnimationFrame);\n",
              "          }\n",
              "          if (pendingResolve) {\n",
              "            var result = \"\";\n",
              "            if (!shutdown) {\n",
              "              captureCanvas.getContext('2d').drawImage(video, 0, 0, 640, 480);\n",
              "              result = captureCanvas.toDataURL('image/jpeg', 0.8)\n",
              "            }\n",
              "            var lp = pendingResolve;\n",
              "            pendingResolve = null;\n",
              "            lp(result);\n",
              "          }\n",
              "        }\n",
              "        \n",
              "        async function createDom() {\n",
              "          if (div !== null) {\n",
              "            return stream;\n",
              "          }\n",
              "\n",
              "          div = document.createElement('div');\n",
              "          div.style.border = '2px solid black';\n",
              "          div.style.padding = '3px';\n",
              "          div.style.width = '100%';\n",
              "          div.style.maxWidth = '600px';\n",
              "          document.body.appendChild(div);\n",
              "          \n",
              "          const modelOut = document.createElement('div');\n",
              "          modelOut.innerHTML = \"<span>Status:</span>\";\n",
              "          labelElement = document.createElement('span');\n",
              "          labelElement.innerText = 'No data';\n",
              "          labelElement.style.fontWeight = 'bold';\n",
              "          modelOut.appendChild(labelElement);\n",
              "          div.appendChild(modelOut);\n",
              "              \n",
              "          video = document.createElement('video');\n",
              "          video.style.display = 'block';\n",
              "          video.width = div.clientWidth - 6;\n",
              "          video.setAttribute('playsinline', '');\n",
              "          video.onclick = () => { shutdown = true; };\n",
              "          stream = await navigator.mediaDevices.getUserMedia(\n",
              "              {video: { facingMode: \"environment\"}});\n",
              "          div.appendChild(video);\n",
              "\n",
              "          imgElement = document.createElement('img');\n",
              "          imgElement.style.position = 'absolute';\n",
              "          imgElement.style.zIndex = 1;\n",
              "          imgElement.onclick = () => { shutdown = true; };\n",
              "          div.appendChild(imgElement);\n",
              "          \n",
              "          const instruction = document.createElement('div');\n",
              "          instruction.innerHTML = \n",
              "              '<span style=\"color: red; font-weight: bold;\">' +\n",
              "              'When finished, click here or on the video to stop this demo</span>';\n",
              "          div.appendChild(instruction);\n",
              "          instruction.onclick = () => { shutdown = true; };\n",
              "          \n",
              "          video.srcObject = stream;\n",
              "          await video.play();\n",
              "\n",
              "          captureCanvas = document.createElement('canvas');\n",
              "          captureCanvas.width = 640; //video.videoWidth;\n",
              "          captureCanvas.height = 480; //video.videoHeight;\n",
              "          window.requestAnimationFrame(onAnimationFrame);\n",
              "          \n",
              "          return stream;\n",
              "        }\n",
              "        async function stream_frame(label, imgData) {\n",
              "          if (shutdown) {\n",
              "            removeDom();\n",
              "            shutdown = false;\n",
              "            return '';\n",
              "          }\n",
              "\n",
              "          var preCreate = Date.now();\n",
              "          stream = await createDom();\n",
              "          \n",
              "          var preShow = Date.now();\n",
              "          if (label != \"\") {\n",
              "            labelElement.innerHTML = label;\n",
              "          }\n",
              "                \n",
              "          if (imgData != \"\") {\n",
              "            var videoRect = video.getClientRects()[0];\n",
              "            imgElement.style.top = videoRect.top + \"px\";\n",
              "            imgElement.style.left = videoRect.left + \"px\";\n",
              "            imgElement.style.width = videoRect.width + \"px\";\n",
              "            imgElement.style.height = videoRect.height + \"px\";\n",
              "            imgElement.src = imgData;\n",
              "          }\n",
              "          \n",
              "          var preCapture = Date.now();\n",
              "          var result = await new Promise(function(resolve, reject) {\n",
              "            pendingResolve = resolve;\n",
              "          });\n",
              "          shutdown = false;\n",
              "          \n",
              "          return {'create': preShow - preCreate, \n",
              "                  'show': preCapture - preShow, \n",
              "                  'capture': Date.now() - preCapture,\n",
              "                  'img': result};\n",
              "        }\n",
              "        "
            ]
          },
          "metadata": {}
        },
        {
          "output_type": "display_data",
          "data": {
            "text/plain": [
              "<IPython.core.display.Javascript object>"
            ],
            "application/javascript": [
              "\n",
              "      async function showImage(name, image, width, height) {\n",
              "        img = document.getElementById(name);\n",
              "        if(img == null) {\n",
              "          img = document.createElement('img');\n",
              "          img.id = name;\n",
              "          document.body.appendChild(img);\n",
              "        }\n",
              "        img.src = image;\n",
              "        img.width = width;\n",
              "        img.height = height;\n",
              "      }\n",
              "      "
            ]
          },
          "metadata": {}
        },
        {
          "output_type": "display_data",
          "data": {
            "text/plain": [
              "<IPython.core.display.Javascript object>"
            ],
            "application/javascript": [
              "\n",
              "      async function showImage(name, image, width, height) {\n",
              "        img = document.getElementById(name);\n",
              "        if(img == null) {\n",
              "          img = document.createElement('img');\n",
              "          img.id = name;\n",
              "          document.body.appendChild(img);\n",
              "        }\n",
              "        img.src = image;\n",
              "        img.width = width;\n",
              "        img.height = height;\n",
              "      }\n",
              "      "
            ]
          },
          "metadata": {}
        },
        {
          "output_type": "display_data",
          "data": {
            "text/plain": [
              "<IPython.core.display.Javascript object>"
            ],
            "application/javascript": [
              "\n",
              "      async function showImage(name, image, width, height) {\n",
              "        img = document.getElementById(name);\n",
              "        if(img == null) {\n",
              "          img = document.createElement('img');\n",
              "          img.id = name;\n",
              "          document.body.appendChild(img);\n",
              "        }\n",
              "        img.src = image;\n",
              "        img.width = width;\n",
              "        img.height = height;\n",
              "      }\n",
              "      "
            ]
          },
          "metadata": {}
        },
        {
          "output_type": "display_data",
          "data": {
            "text/plain": [
              "<IPython.core.display.Javascript object>"
            ],
            "application/javascript": [
              "\n",
              "      async function showImage(name, image, width, height) {\n",
              "        img = document.getElementById(name);\n",
              "        if(img == null) {\n",
              "          img = document.createElement('img');\n",
              "          img.id = name;\n",
              "          document.body.appendChild(img);\n",
              "        }\n",
              "        img.src = image;\n",
              "        img.width = width;\n",
              "        img.height = height;\n",
              "      }\n",
              "      "
            ]
          },
          "metadata": {}
        },
        {
          "output_type": "display_data",
          "data": {
            "text/plain": [
              "<IPython.core.display.Javascript object>"
            ],
            "application/javascript": [
              "\n",
              "      async function showImage(name, image, width, height) {\n",
              "        img = document.getElementById(name);\n",
              "        if(img == null) {\n",
              "          img = document.createElement('img');\n",
              "          img.id = name;\n",
              "          document.body.appendChild(img);\n",
              "        }\n",
              "        img.src = image;\n",
              "        img.width = width;\n",
              "        img.height = height;\n",
              "      }\n",
              "      "
            ]
          },
          "metadata": {}
        },
        {
          "output_type": "display_data",
          "data": {
            "text/plain": [
              "<IPython.core.display.Javascript object>"
            ],
            "application/javascript": [
              "\n",
              "      async function showImage(name, image, width, height) {\n",
              "        img = document.getElementById(name);\n",
              "        if(img == null) {\n",
              "          img = document.createElement('img');\n",
              "          img.id = name;\n",
              "          document.body.appendChild(img);\n",
              "        }\n",
              "        img.src = image;\n",
              "        img.width = width;\n",
              "        img.height = height;\n",
              "      }\n",
              "      "
            ]
          },
          "metadata": {}
        },
        {
          "output_type": "display_data",
          "data": {
            "text/plain": [
              "<IPython.core.display.Javascript object>"
            ],
            "application/javascript": [
              "\n",
              "      async function showImage(name, image, width, height) {\n",
              "        img = document.getElementById(name);\n",
              "        if(img == null) {\n",
              "          img = document.createElement('img');\n",
              "          img.id = name;\n",
              "          document.body.appendChild(img);\n",
              "        }\n",
              "        img.src = image;\n",
              "        img.width = width;\n",
              "        img.height = height;\n",
              "      }\n",
              "      "
            ]
          },
          "metadata": {}
        },
        {
          "output_type": "display_data",
          "data": {
            "text/plain": [
              "<IPython.core.display.Javascript object>"
            ],
            "application/javascript": [
              "\n",
              "      async function showImage(name, image, width, height) {\n",
              "        img = document.getElementById(name);\n",
              "        if(img == null) {\n",
              "          img = document.createElement('img');\n",
              "          img.id = name;\n",
              "          document.body.appendChild(img);\n",
              "        }\n",
              "        img.src = image;\n",
              "        img.width = width;\n",
              "        img.height = height;\n",
              "      }\n",
              "      "
            ]
          },
          "metadata": {}
        },
        {
          "output_type": "display_data",
          "data": {
            "text/plain": [
              "<IPython.core.display.Javascript object>"
            ],
            "application/javascript": [
              "\n",
              "      async function showImage(name, image, width, height) {\n",
              "        img = document.getElementById(name);\n",
              "        if(img == null) {\n",
              "          img = document.createElement('img');\n",
              "          img.id = name;\n",
              "          document.body.appendChild(img);\n",
              "        }\n",
              "        img.src = image;\n",
              "        img.width = width;\n",
              "        img.height = height;\n",
              "      }\n",
              "      "
            ]
          },
          "metadata": {}
        },
        {
          "output_type": "display_data",
          "data": {
            "text/plain": [
              "<IPython.core.display.Javascript object>"
            ],
            "application/javascript": [
              "\n",
              "      async function showImage(name, image, width, height) {\n",
              "        img = document.getElementById(name);\n",
              "        if(img == null) {\n",
              "          img = document.createElement('img');\n",
              "          img.id = name;\n",
              "          document.body.appendChild(img);\n",
              "        }\n",
              "        img.src = image;\n",
              "        img.width = width;\n",
              "        img.height = height;\n",
              "      }\n",
              "      "
            ]
          },
          "metadata": {}
        },
        {
          "output_type": "display_data",
          "data": {
            "text/plain": [
              "<IPython.core.display.Javascript object>"
            ],
            "application/javascript": [
              "\n",
              "      async function showImage(name, image, width, height) {\n",
              "        img = document.getElementById(name);\n",
              "        if(img == null) {\n",
              "          img = document.createElement('img');\n",
              "          img.id = name;\n",
              "          document.body.appendChild(img);\n",
              "        }\n",
              "        img.src = image;\n",
              "        img.width = width;\n",
              "        img.height = height;\n",
              "      }\n",
              "      "
            ]
          },
          "metadata": {}
        },
        {
          "output_type": "display_data",
          "data": {
            "text/plain": [
              "<IPython.core.display.Javascript object>"
            ],
            "application/javascript": [
              "\n",
              "      async function showImage(name, image, width, height) {\n",
              "        img = document.getElementById(name);\n",
              "        if(img == null) {\n",
              "          img = document.createElement('img');\n",
              "          img.id = name;\n",
              "          document.body.appendChild(img);\n",
              "        }\n",
              "        img.src = image;\n",
              "        img.width = width;\n",
              "        img.height = height;\n",
              "      }\n",
              "      "
            ]
          },
          "metadata": {}
        },
        {
          "output_type": "display_data",
          "data": {
            "text/plain": [
              "<IPython.core.display.Javascript object>"
            ],
            "application/javascript": [
              "\n",
              "      async function showImage(name, image, width, height) {\n",
              "        img = document.getElementById(name);\n",
              "        if(img == null) {\n",
              "          img = document.createElement('img');\n",
              "          img.id = name;\n",
              "          document.body.appendChild(img);\n",
              "        }\n",
              "        img.src = image;\n",
              "        img.width = width;\n",
              "        img.height = height;\n",
              "      }\n",
              "      "
            ]
          },
          "metadata": {}
        },
        {
          "output_type": "display_data",
          "data": {
            "text/plain": [
              "<IPython.core.display.Javascript object>"
            ],
            "application/javascript": [
              "\n",
              "      async function showImage(name, image, width, height) {\n",
              "        img = document.getElementById(name);\n",
              "        if(img == null) {\n",
              "          img = document.createElement('img');\n",
              "          img.id = name;\n",
              "          document.body.appendChild(img);\n",
              "        }\n",
              "        img.src = image;\n",
              "        img.width = width;\n",
              "        img.height = height;\n",
              "      }\n",
              "      "
            ]
          },
          "metadata": {}
        },
        {
          "output_type": "display_data",
          "data": {
            "text/plain": [
              "<IPython.core.display.Javascript object>"
            ],
            "application/javascript": [
              "\n",
              "      async function showImage(name, image, width, height) {\n",
              "        img = document.getElementById(name);\n",
              "        if(img == null) {\n",
              "          img = document.createElement('img');\n",
              "          img.id = name;\n",
              "          document.body.appendChild(img);\n",
              "        }\n",
              "        img.src = image;\n",
              "        img.width = width;\n",
              "        img.height = height;\n",
              "      }\n",
              "      "
            ]
          },
          "metadata": {}
        },
        {
          "output_type": "display_data",
          "data": {
            "text/plain": [
              "<IPython.core.display.Javascript object>"
            ],
            "application/javascript": [
              "\n",
              "      async function showImage(name, image, width, height) {\n",
              "        img = document.getElementById(name);\n",
              "        if(img == null) {\n",
              "          img = document.createElement('img');\n",
              "          img.id = name;\n",
              "          document.body.appendChild(img);\n",
              "        }\n",
              "        img.src = image;\n",
              "        img.width = width;\n",
              "        img.height = height;\n",
              "      }\n",
              "      "
            ]
          },
          "metadata": {}
        },
        {
          "output_type": "display_data",
          "data": {
            "text/plain": [
              "<IPython.core.display.Javascript object>"
            ],
            "application/javascript": [
              "\n",
              "      async function showImage(name, image, width, height) {\n",
              "        img = document.getElementById(name);\n",
              "        if(img == null) {\n",
              "          img = document.createElement('img');\n",
              "          img.id = name;\n",
              "          document.body.appendChild(img);\n",
              "        }\n",
              "        img.src = image;\n",
              "        img.width = width;\n",
              "        img.height = height;\n",
              "      }\n",
              "      "
            ]
          },
          "metadata": {}
        },
        {
          "output_type": "display_data",
          "data": {
            "text/plain": [
              "<IPython.core.display.Javascript object>"
            ],
            "application/javascript": [
              "\n",
              "      async function showImage(name, image, width, height) {\n",
              "        img = document.getElementById(name);\n",
              "        if(img == null) {\n",
              "          img = document.createElement('img');\n",
              "          img.id = name;\n",
              "          document.body.appendChild(img);\n",
              "        }\n",
              "        img.src = image;\n",
              "        img.width = width;\n",
              "        img.height = height;\n",
              "      }\n",
              "      "
            ]
          },
          "metadata": {}
        },
        {
          "output_type": "display_data",
          "data": {
            "text/plain": [
              "<IPython.core.display.Javascript object>"
            ],
            "application/javascript": [
              "\n",
              "      async function showImage(name, image, width, height) {\n",
              "        img = document.getElementById(name);\n",
              "        if(img == null) {\n",
              "          img = document.createElement('img');\n",
              "          img.id = name;\n",
              "          document.body.appendChild(img);\n",
              "        }\n",
              "        img.src = image;\n",
              "        img.width = width;\n",
              "        img.height = height;\n",
              "      }\n",
              "      "
            ]
          },
          "metadata": {}
        },
        {
          "output_type": "display_data",
          "data": {
            "text/plain": [
              "<IPython.core.display.Javascript object>"
            ],
            "application/javascript": [
              "\n",
              "      async function showImage(name, image, width, height) {\n",
              "        img = document.getElementById(name);\n",
              "        if(img == null) {\n",
              "          img = document.createElement('img');\n",
              "          img.id = name;\n",
              "          document.body.appendChild(img);\n",
              "        }\n",
              "        img.src = image;\n",
              "        img.width = width;\n",
              "        img.height = height;\n",
              "      }\n",
              "      "
            ]
          },
          "metadata": {}
        },
        {
          "output_type": "display_data",
          "data": {
            "text/plain": [
              "<IPython.core.display.Javascript object>"
            ],
            "application/javascript": [
              "\n",
              "      async function showImage(name, image, width, height) {\n",
              "        img = document.getElementById(name);\n",
              "        if(img == null) {\n",
              "          img = document.createElement('img');\n",
              "          img.id = name;\n",
              "          document.body.appendChild(img);\n",
              "        }\n",
              "        img.src = image;\n",
              "        img.width = width;\n",
              "        img.height = height;\n",
              "      }\n",
              "      "
            ]
          },
          "metadata": {}
        },
        {
          "output_type": "display_data",
          "data": {
            "text/plain": [
              "<IPython.core.display.Javascript object>"
            ],
            "application/javascript": [
              "\n",
              "      async function showImage(name, image, width, height) {\n",
              "        img = document.getElementById(name);\n",
              "        if(img == null) {\n",
              "          img = document.createElement('img');\n",
              "          img.id = name;\n",
              "          document.body.appendChild(img);\n",
              "        }\n",
              "        img.src = image;\n",
              "        img.width = width;\n",
              "        img.height = height;\n",
              "      }\n",
              "      "
            ]
          },
          "metadata": {}
        },
        {
          "output_type": "display_data",
          "data": {
            "text/plain": [
              "<IPython.core.display.Javascript object>"
            ],
            "application/javascript": [
              "\n",
              "      async function showImage(name, image, width, height) {\n",
              "        img = document.getElementById(name);\n",
              "        if(img == null) {\n",
              "          img = document.createElement('img');\n",
              "          img.id = name;\n",
              "          document.body.appendChild(img);\n",
              "        }\n",
              "        img.src = image;\n",
              "        img.width = width;\n",
              "        img.height = height;\n",
              "      }\n",
              "      "
            ]
          },
          "metadata": {}
        },
        {
          "output_type": "display_data",
          "data": {
            "text/plain": [
              "<IPython.core.display.Javascript object>"
            ],
            "application/javascript": [
              "\n",
              "      async function showImage(name, image, width, height) {\n",
              "        img = document.getElementById(name);\n",
              "        if(img == null) {\n",
              "          img = document.createElement('img');\n",
              "          img.id = name;\n",
              "          document.body.appendChild(img);\n",
              "        }\n",
              "        img.src = image;\n",
              "        img.width = width;\n",
              "        img.height = height;\n",
              "      }\n",
              "      "
            ]
          },
          "metadata": {}
        },
        {
          "output_type": "display_data",
          "data": {
            "text/plain": [
              "<IPython.core.display.Javascript object>"
            ],
            "application/javascript": [
              "\n",
              "      async function showImage(name, image, width, height) {\n",
              "        img = document.getElementById(name);\n",
              "        if(img == null) {\n",
              "          img = document.createElement('img');\n",
              "          img.id = name;\n",
              "          document.body.appendChild(img);\n",
              "        }\n",
              "        img.src = image;\n",
              "        img.width = width;\n",
              "        img.height = height;\n",
              "      }\n",
              "      "
            ]
          },
          "metadata": {}
        },
        {
          "output_type": "display_data",
          "data": {
            "text/plain": [
              "<IPython.core.display.Javascript object>"
            ],
            "application/javascript": [
              "\n",
              "      async function showImage(name, image, width, height) {\n",
              "        img = document.getElementById(name);\n",
              "        if(img == null) {\n",
              "          img = document.createElement('img');\n",
              "          img.id = name;\n",
              "          document.body.appendChild(img);\n",
              "        }\n",
              "        img.src = image;\n",
              "        img.width = width;\n",
              "        img.height = height;\n",
              "      }\n",
              "      "
            ]
          },
          "metadata": {}
        },
        {
          "output_type": "display_data",
          "data": {
            "text/plain": [
              "<IPython.core.display.Javascript object>"
            ],
            "application/javascript": [
              "\n",
              "      async function showImage(name, image, width, height) {\n",
              "        img = document.getElementById(name);\n",
              "        if(img == null) {\n",
              "          img = document.createElement('img');\n",
              "          img.id = name;\n",
              "          document.body.appendChild(img);\n",
              "        }\n",
              "        img.src = image;\n",
              "        img.width = width;\n",
              "        img.height = height;\n",
              "      }\n",
              "      "
            ]
          },
          "metadata": {}
        },
        {
          "output_type": "display_data",
          "data": {
            "text/plain": [
              "<IPython.core.display.Javascript object>"
            ],
            "application/javascript": [
              "\n",
              "      async function showImage(name, image, width, height) {\n",
              "        img = document.getElementById(name);\n",
              "        if(img == null) {\n",
              "          img = document.createElement('img');\n",
              "          img.id = name;\n",
              "          document.body.appendChild(img);\n",
              "        }\n",
              "        img.src = image;\n",
              "        img.width = width;\n",
              "        img.height = height;\n",
              "      }\n",
              "      "
            ]
          },
          "metadata": {}
        },
        {
          "output_type": "display_data",
          "data": {
            "text/plain": [
              "<IPython.core.display.Javascript object>"
            ],
            "application/javascript": [
              "\n",
              "      async function showImage(name, image, width, height) {\n",
              "        img = document.getElementById(name);\n",
              "        if(img == null) {\n",
              "          img = document.createElement('img');\n",
              "          img.id = name;\n",
              "          document.body.appendChild(img);\n",
              "        }\n",
              "        img.src = image;\n",
              "        img.width = width;\n",
              "        img.height = height;\n",
              "      }\n",
              "      "
            ]
          },
          "metadata": {}
        },
        {
          "output_type": "display_data",
          "data": {
            "text/plain": [
              "<IPython.core.display.Javascript object>"
            ],
            "application/javascript": [
              "\n",
              "      async function showImage(name, image, width, height) {\n",
              "        img = document.getElementById(name);\n",
              "        if(img == null) {\n",
              "          img = document.createElement('img');\n",
              "          img.id = name;\n",
              "          document.body.appendChild(img);\n",
              "        }\n",
              "        img.src = image;\n",
              "        img.width = width;\n",
              "        img.height = height;\n",
              "      }\n",
              "      "
            ]
          },
          "metadata": {}
        },
        {
          "output_type": "display_data",
          "data": {
            "text/plain": [
              "<IPython.core.display.Javascript object>"
            ],
            "application/javascript": [
              "\n",
              "      async function showImage(name, image, width, height) {\n",
              "        img = document.getElementById(name);\n",
              "        if(img == null) {\n",
              "          img = document.createElement('img');\n",
              "          img.id = name;\n",
              "          document.body.appendChild(img);\n",
              "        }\n",
              "        img.src = image;\n",
              "        img.width = width;\n",
              "        img.height = height;\n",
              "      }\n",
              "      "
            ]
          },
          "metadata": {}
        },
        {
          "output_type": "display_data",
          "data": {
            "text/plain": [
              "<IPython.core.display.Javascript object>"
            ],
            "application/javascript": [
              "\n",
              "      async function showImage(name, image, width, height) {\n",
              "        img = document.getElementById(name);\n",
              "        if(img == null) {\n",
              "          img = document.createElement('img');\n",
              "          img.id = name;\n",
              "          document.body.appendChild(img);\n",
              "        }\n",
              "        img.src = image;\n",
              "        img.width = width;\n",
              "        img.height = height;\n",
              "      }\n",
              "      "
            ]
          },
          "metadata": {}
        },
        {
          "output_type": "display_data",
          "data": {
            "text/plain": [
              "<IPython.core.display.Javascript object>"
            ],
            "application/javascript": [
              "\n",
              "      async function showImage(name, image, width, height) {\n",
              "        img = document.getElementById(name);\n",
              "        if(img == null) {\n",
              "          img = document.createElement('img');\n",
              "          img.id = name;\n",
              "          document.body.appendChild(img);\n",
              "        }\n",
              "        img.src = image;\n",
              "        img.width = width;\n",
              "        img.height = height;\n",
              "      }\n",
              "      "
            ]
          },
          "metadata": {}
        },
        {
          "output_type": "display_data",
          "data": {
            "text/plain": [
              "<IPython.core.display.Javascript object>"
            ],
            "application/javascript": [
              "\n",
              "      async function showImage(name, image, width, height) {\n",
              "        img = document.getElementById(name);\n",
              "        if(img == null) {\n",
              "          img = document.createElement('img');\n",
              "          img.id = name;\n",
              "          document.body.appendChild(img);\n",
              "        }\n",
              "        img.src = image;\n",
              "        img.width = width;\n",
              "        img.height = height;\n",
              "      }\n",
              "      "
            ]
          },
          "metadata": {}
        },
        {
          "output_type": "display_data",
          "data": {
            "text/plain": [
              "<IPython.core.display.Javascript object>"
            ],
            "application/javascript": [
              "\n",
              "      async function showImage(name, image, width, height) {\n",
              "        img = document.getElementById(name);\n",
              "        if(img == null) {\n",
              "          img = document.createElement('img');\n",
              "          img.id = name;\n",
              "          document.body.appendChild(img);\n",
              "        }\n",
              "        img.src = image;\n",
              "        img.width = width;\n",
              "        img.height = height;\n",
              "      }\n",
              "      "
            ]
          },
          "metadata": {}
        },
        {
          "output_type": "display_data",
          "data": {
            "text/plain": [
              "<IPython.core.display.Javascript object>"
            ],
            "application/javascript": [
              "\n",
              "      async function showImage(name, image, width, height) {\n",
              "        img = document.getElementById(name);\n",
              "        if(img == null) {\n",
              "          img = document.createElement('img');\n",
              "          img.id = name;\n",
              "          document.body.appendChild(img);\n",
              "        }\n",
              "        img.src = image;\n",
              "        img.width = width;\n",
              "        img.height = height;\n",
              "      }\n",
              "      "
            ]
          },
          "metadata": {}
        },
        {
          "output_type": "display_data",
          "data": {
            "text/plain": [
              "<IPython.core.display.Javascript object>"
            ],
            "application/javascript": [
              "\n",
              "      async function showImage(name, image, width, height) {\n",
              "        img = document.getElementById(name);\n",
              "        if(img == null) {\n",
              "          img = document.createElement('img');\n",
              "          img.id = name;\n",
              "          document.body.appendChild(img);\n",
              "        }\n",
              "        img.src = image;\n",
              "        img.width = width;\n",
              "        img.height = height;\n",
              "      }\n",
              "      "
            ]
          },
          "metadata": {}
        },
        {
          "output_type": "display_data",
          "data": {
            "text/plain": [
              "<IPython.core.display.Javascript object>"
            ],
            "application/javascript": [
              "\n",
              "      async function showImage(name, image, width, height) {\n",
              "        img = document.getElementById(name);\n",
              "        if(img == null) {\n",
              "          img = document.createElement('img');\n",
              "          img.id = name;\n",
              "          document.body.appendChild(img);\n",
              "        }\n",
              "        img.src = image;\n",
              "        img.width = width;\n",
              "        img.height = height;\n",
              "      }\n",
              "      "
            ]
          },
          "metadata": {}
        },
        {
          "output_type": "display_data",
          "data": {
            "text/plain": [
              "<IPython.core.display.Javascript object>"
            ],
            "application/javascript": [
              "\n",
              "      async function showImage(name, image, width, height) {\n",
              "        img = document.getElementById(name);\n",
              "        if(img == null) {\n",
              "          img = document.createElement('img');\n",
              "          img.id = name;\n",
              "          document.body.appendChild(img);\n",
              "        }\n",
              "        img.src = image;\n",
              "        img.width = width;\n",
              "        img.height = height;\n",
              "      }\n",
              "      "
            ]
          },
          "metadata": {}
        },
        {
          "output_type": "display_data",
          "data": {
            "text/plain": [
              "<IPython.core.display.Javascript object>"
            ],
            "application/javascript": [
              "\n",
              "      async function showImage(name, image, width, height) {\n",
              "        img = document.getElementById(name);\n",
              "        if(img == null) {\n",
              "          img = document.createElement('img');\n",
              "          img.id = name;\n",
              "          document.body.appendChild(img);\n",
              "        }\n",
              "        img.src = image;\n",
              "        img.width = width;\n",
              "        img.height = height;\n",
              "      }\n",
              "      "
            ]
          },
          "metadata": {}
        },
        {
          "output_type": "display_data",
          "data": {
            "text/plain": [
              "<IPython.core.display.Javascript object>"
            ],
            "application/javascript": [
              "\n",
              "      async function showImage(name, image, width, height) {\n",
              "        img = document.getElementById(name);\n",
              "        if(img == null) {\n",
              "          img = document.createElement('img');\n",
              "          img.id = name;\n",
              "          document.body.appendChild(img);\n",
              "        }\n",
              "        img.src = image;\n",
              "        img.width = width;\n",
              "        img.height = height;\n",
              "      }\n",
              "      "
            ]
          },
          "metadata": {}
        },
        {
          "output_type": "display_data",
          "data": {
            "text/plain": [
              "<IPython.core.display.Javascript object>"
            ],
            "application/javascript": [
              "\n",
              "      async function showImage(name, image, width, height) {\n",
              "        img = document.getElementById(name);\n",
              "        if(img == null) {\n",
              "          img = document.createElement('img');\n",
              "          img.id = name;\n",
              "          document.body.appendChild(img);\n",
              "        }\n",
              "        img.src = image;\n",
              "        img.width = width;\n",
              "        img.height = height;\n",
              "      }\n",
              "      "
            ]
          },
          "metadata": {}
        },
        {
          "output_type": "display_data",
          "data": {
            "text/plain": [
              "<IPython.core.display.Javascript object>"
            ],
            "application/javascript": [
              "\n",
              "      async function showImage(name, image, width, height) {\n",
              "        img = document.getElementById(name);\n",
              "        if(img == null) {\n",
              "          img = document.createElement('img');\n",
              "          img.id = name;\n",
              "          document.body.appendChild(img);\n",
              "        }\n",
              "        img.src = image;\n",
              "        img.width = width;\n",
              "        img.height = height;\n",
              "      }\n",
              "      "
            ]
          },
          "metadata": {}
        },
        {
          "output_type": "display_data",
          "data": {
            "text/plain": [
              "<IPython.core.display.Javascript object>"
            ],
            "application/javascript": [
              "\n",
              "      async function showImage(name, image, width, height) {\n",
              "        img = document.getElementById(name);\n",
              "        if(img == null) {\n",
              "          img = document.createElement('img');\n",
              "          img.id = name;\n",
              "          document.body.appendChild(img);\n",
              "        }\n",
              "        img.src = image;\n",
              "        img.width = width;\n",
              "        img.height = height;\n",
              "      }\n",
              "      "
            ]
          },
          "metadata": {}
        },
        {
          "output_type": "display_data",
          "data": {
            "text/plain": [
              "<IPython.core.display.Javascript object>"
            ],
            "application/javascript": [
              "\n",
              "      async function showImage(name, image, width, height) {\n",
              "        img = document.getElementById(name);\n",
              "        if(img == null) {\n",
              "          img = document.createElement('img');\n",
              "          img.id = name;\n",
              "          document.body.appendChild(img);\n",
              "        }\n",
              "        img.src = image;\n",
              "        img.width = width;\n",
              "        img.height = height;\n",
              "      }\n",
              "      "
            ]
          },
          "metadata": {}
        },
        {
          "output_type": "display_data",
          "data": {
            "text/plain": [
              "<IPython.core.display.Javascript object>"
            ],
            "application/javascript": [
              "\n",
              "      async function showImage(name, image, width, height) {\n",
              "        img = document.getElementById(name);\n",
              "        if(img == null) {\n",
              "          img = document.createElement('img');\n",
              "          img.id = name;\n",
              "          document.body.appendChild(img);\n",
              "        }\n",
              "        img.src = image;\n",
              "        img.width = width;\n",
              "        img.height = height;\n",
              "      }\n",
              "      "
            ]
          },
          "metadata": {}
        },
        {
          "output_type": "display_data",
          "data": {
            "text/plain": [
              "<IPython.core.display.Javascript object>"
            ],
            "application/javascript": [
              "\n",
              "      async function showImage(name, image, width, height) {\n",
              "        img = document.getElementById(name);\n",
              "        if(img == null) {\n",
              "          img = document.createElement('img');\n",
              "          img.id = name;\n",
              "          document.body.appendChild(img);\n",
              "        }\n",
              "        img.src = image;\n",
              "        img.width = width;\n",
              "        img.height = height;\n",
              "      }\n",
              "      "
            ]
          },
          "metadata": {}
        },
        {
          "output_type": "display_data",
          "data": {
            "text/plain": [
              "<IPython.core.display.Javascript object>"
            ],
            "application/javascript": [
              "\n",
              "      async function showImage(name, image, width, height) {\n",
              "        img = document.getElementById(name);\n",
              "        if(img == null) {\n",
              "          img = document.createElement('img');\n",
              "          img.id = name;\n",
              "          document.body.appendChild(img);\n",
              "        }\n",
              "        img.src = image;\n",
              "        img.width = width;\n",
              "        img.height = height;\n",
              "      }\n",
              "      "
            ]
          },
          "metadata": {}
        },
        {
          "output_type": "display_data",
          "data": {
            "text/plain": [
              "<IPython.core.display.Javascript object>"
            ],
            "application/javascript": [
              "\n",
              "      async function showImage(name, image, width, height) {\n",
              "        img = document.getElementById(name);\n",
              "        if(img == null) {\n",
              "          img = document.createElement('img');\n",
              "          img.id = name;\n",
              "          document.body.appendChild(img);\n",
              "        }\n",
              "        img.src = image;\n",
              "        img.width = width;\n",
              "        img.height = height;\n",
              "      }\n",
              "      "
            ]
          },
          "metadata": {}
        },
        {
          "output_type": "display_data",
          "data": {
            "text/plain": [
              "<IPython.core.display.Javascript object>"
            ],
            "application/javascript": [
              "\n",
              "      async function showImage(name, image, width, height) {\n",
              "        img = document.getElementById(name);\n",
              "        if(img == null) {\n",
              "          img = document.createElement('img');\n",
              "          img.id = name;\n",
              "          document.body.appendChild(img);\n",
              "        }\n",
              "        img.src = image;\n",
              "        img.width = width;\n",
              "        img.height = height;\n",
              "      }\n",
              "      "
            ]
          },
          "metadata": {}
        },
        {
          "output_type": "display_data",
          "data": {
            "text/plain": [
              "<IPython.core.display.Javascript object>"
            ],
            "application/javascript": [
              "\n",
              "      async function showImage(name, image, width, height) {\n",
              "        img = document.getElementById(name);\n",
              "        if(img == null) {\n",
              "          img = document.createElement('img');\n",
              "          img.id = name;\n",
              "          document.body.appendChild(img);\n",
              "        }\n",
              "        img.src = image;\n",
              "        img.width = width;\n",
              "        img.height = height;\n",
              "      }\n",
              "      "
            ]
          },
          "metadata": {}
        },
        {
          "output_type": "display_data",
          "data": {
            "text/plain": [
              "<IPython.core.display.Javascript object>"
            ],
            "application/javascript": [
              "\n",
              "      async function showImage(name, image, width, height) {\n",
              "        img = document.getElementById(name);\n",
              "        if(img == null) {\n",
              "          img = document.createElement('img');\n",
              "          img.id = name;\n",
              "          document.body.appendChild(img);\n",
              "        }\n",
              "        img.src = image;\n",
              "        img.width = width;\n",
              "        img.height = height;\n",
              "      }\n",
              "      "
            ]
          },
          "metadata": {}
        },
        {
          "output_type": "display_data",
          "data": {
            "text/plain": [
              "<IPython.core.display.Javascript object>"
            ],
            "application/javascript": [
              "\n",
              "      async function showImage(name, image, width, height) {\n",
              "        img = document.getElementById(name);\n",
              "        if(img == null) {\n",
              "          img = document.createElement('img');\n",
              "          img.id = name;\n",
              "          document.body.appendChild(img);\n",
              "        }\n",
              "        img.src = image;\n",
              "        img.width = width;\n",
              "        img.height = height;\n",
              "      }\n",
              "      "
            ]
          },
          "metadata": {}
        },
        {
          "output_type": "display_data",
          "data": {
            "text/plain": [
              "<IPython.core.display.Javascript object>"
            ],
            "application/javascript": [
              "\n",
              "      async function showImage(name, image, width, height) {\n",
              "        img = document.getElementById(name);\n",
              "        if(img == null) {\n",
              "          img = document.createElement('img');\n",
              "          img.id = name;\n",
              "          document.body.appendChild(img);\n",
              "        }\n",
              "        img.src = image;\n",
              "        img.width = width;\n",
              "        img.height = height;\n",
              "      }\n",
              "      "
            ]
          },
          "metadata": {}
        },
        {
          "output_type": "display_data",
          "data": {
            "text/plain": [
              "<IPython.core.display.Javascript object>"
            ],
            "application/javascript": [
              "\n",
              "      async function showImage(name, image, width, height) {\n",
              "        img = document.getElementById(name);\n",
              "        if(img == null) {\n",
              "          img = document.createElement('img');\n",
              "          img.id = name;\n",
              "          document.body.appendChild(img);\n",
              "        }\n",
              "        img.src = image;\n",
              "        img.width = width;\n",
              "        img.height = height;\n",
              "      }\n",
              "      "
            ]
          },
          "metadata": {}
        },
        {
          "output_type": "display_data",
          "data": {
            "text/plain": [
              "<IPython.core.display.Javascript object>"
            ],
            "application/javascript": [
              "\n",
              "      async function showImage(name, image, width, height) {\n",
              "        img = document.getElementById(name);\n",
              "        if(img == null) {\n",
              "          img = document.createElement('img');\n",
              "          img.id = name;\n",
              "          document.body.appendChild(img);\n",
              "        }\n",
              "        img.src = image;\n",
              "        img.width = width;\n",
              "        img.height = height;\n",
              "      }\n",
              "      "
            ]
          },
          "metadata": {}
        },
        {
          "output_type": "display_data",
          "data": {
            "text/plain": [
              "<IPython.core.display.Javascript object>"
            ],
            "application/javascript": [
              "\n",
              "      async function showImage(name, image, width, height) {\n",
              "        img = document.getElementById(name);\n",
              "        if(img == null) {\n",
              "          img = document.createElement('img');\n",
              "          img.id = name;\n",
              "          document.body.appendChild(img);\n",
              "        }\n",
              "        img.src = image;\n",
              "        img.width = width;\n",
              "        img.height = height;\n",
              "      }\n",
              "      "
            ]
          },
          "metadata": {}
        },
        {
          "output_type": "display_data",
          "data": {
            "text/plain": [
              "<IPython.core.display.Javascript object>"
            ],
            "application/javascript": [
              "\n",
              "      async function showImage(name, image, width, height) {\n",
              "        img = document.getElementById(name);\n",
              "        if(img == null) {\n",
              "          img = document.createElement('img');\n",
              "          img.id = name;\n",
              "          document.body.appendChild(img);\n",
              "        }\n",
              "        img.src = image;\n",
              "        img.width = width;\n",
              "        img.height = height;\n",
              "      }\n",
              "      "
            ]
          },
          "metadata": {}
        },
        {
          "output_type": "display_data",
          "data": {
            "text/plain": [
              "<IPython.core.display.Javascript object>"
            ],
            "application/javascript": [
              "\n",
              "      async function showImage(name, image, width, height) {\n",
              "        img = document.getElementById(name);\n",
              "        if(img == null) {\n",
              "          img = document.createElement('img');\n",
              "          img.id = name;\n",
              "          document.body.appendChild(img);\n",
              "        }\n",
              "        img.src = image;\n",
              "        img.width = width;\n",
              "        img.height = height;\n",
              "      }\n",
              "      "
            ]
          },
          "metadata": {}
        },
        {
          "output_type": "display_data",
          "data": {
            "text/plain": [
              "<IPython.core.display.Javascript object>"
            ],
            "application/javascript": [
              "\n",
              "      async function showImage(name, image, width, height) {\n",
              "        img = document.getElementById(name);\n",
              "        if(img == null) {\n",
              "          img = document.createElement('img');\n",
              "          img.id = name;\n",
              "          document.body.appendChild(img);\n",
              "        }\n",
              "        img.src = image;\n",
              "        img.width = width;\n",
              "        img.height = height;\n",
              "      }\n",
              "      "
            ]
          },
          "metadata": {}
        },
        {
          "output_type": "display_data",
          "data": {
            "text/plain": [
              "<IPython.core.display.Javascript object>"
            ],
            "application/javascript": [
              "\n",
              "      async function showImage(name, image, width, height) {\n",
              "        img = document.getElementById(name);\n",
              "        if(img == null) {\n",
              "          img = document.createElement('img');\n",
              "          img.id = name;\n",
              "          document.body.appendChild(img);\n",
              "        }\n",
              "        img.src = image;\n",
              "        img.width = width;\n",
              "        img.height = height;\n",
              "      }\n",
              "      "
            ]
          },
          "metadata": {}
        },
        {
          "output_type": "display_data",
          "data": {
            "text/plain": [
              "<IPython.core.display.Javascript object>"
            ],
            "application/javascript": [
              "\n",
              "      async function showImage(name, image, width, height) {\n",
              "        img = document.getElementById(name);\n",
              "        if(img == null) {\n",
              "          img = document.createElement('img');\n",
              "          img.id = name;\n",
              "          document.body.appendChild(img);\n",
              "        }\n",
              "        img.src = image;\n",
              "        img.width = width;\n",
              "        img.height = height;\n",
              "      }\n",
              "      "
            ]
          },
          "metadata": {}
        },
        {
          "output_type": "display_data",
          "data": {
            "text/plain": [
              "<IPython.core.display.Javascript object>"
            ],
            "application/javascript": [
              "\n",
              "      async function showImage(name, image, width, height) {\n",
              "        img = document.getElementById(name);\n",
              "        if(img == null) {\n",
              "          img = document.createElement('img');\n",
              "          img.id = name;\n",
              "          document.body.appendChild(img);\n",
              "        }\n",
              "        img.src = image;\n",
              "        img.width = width;\n",
              "        img.height = height;\n",
              "      }\n",
              "      "
            ]
          },
          "metadata": {}
        },
        {
          "output_type": "display_data",
          "data": {
            "text/plain": [
              "<IPython.core.display.Javascript object>"
            ],
            "application/javascript": [
              "\n",
              "      async function showImage(name, image, width, height) {\n",
              "        img = document.getElementById(name);\n",
              "        if(img == null) {\n",
              "          img = document.createElement('img');\n",
              "          img.id = name;\n",
              "          document.body.appendChild(img);\n",
              "        }\n",
              "        img.src = image;\n",
              "        img.width = width;\n",
              "        img.height = height;\n",
              "      }\n",
              "      "
            ]
          },
          "metadata": {}
        },
        {
          "output_type": "display_data",
          "data": {
            "text/plain": [
              "<IPython.core.display.Javascript object>"
            ],
            "application/javascript": [
              "\n",
              "      async function showImage(name, image, width, height) {\n",
              "        img = document.getElementById(name);\n",
              "        if(img == null) {\n",
              "          img = document.createElement('img');\n",
              "          img.id = name;\n",
              "          document.body.appendChild(img);\n",
              "        }\n",
              "        img.src = image;\n",
              "        img.width = width;\n",
              "        img.height = height;\n",
              "      }\n",
              "      "
            ]
          },
          "metadata": {}
        },
        {
          "output_type": "display_data",
          "data": {
            "text/plain": [
              "<IPython.core.display.Javascript object>"
            ],
            "application/javascript": [
              "\n",
              "      async function showImage(name, image, width, height) {\n",
              "        img = document.getElementById(name);\n",
              "        if(img == null) {\n",
              "          img = document.createElement('img');\n",
              "          img.id = name;\n",
              "          document.body.appendChild(img);\n",
              "        }\n",
              "        img.src = image;\n",
              "        img.width = width;\n",
              "        img.height = height;\n",
              "      }\n",
              "      "
            ]
          },
          "metadata": {}
        },
        {
          "output_type": "display_data",
          "data": {
            "text/plain": [
              "<IPython.core.display.Javascript object>"
            ],
            "application/javascript": [
              "\n",
              "      async function showImage(name, image, width, height) {\n",
              "        img = document.getElementById(name);\n",
              "        if(img == null) {\n",
              "          img = document.createElement('img');\n",
              "          img.id = name;\n",
              "          document.body.appendChild(img);\n",
              "        }\n",
              "        img.src = image;\n",
              "        img.width = width;\n",
              "        img.height = height;\n",
              "      }\n",
              "      "
            ]
          },
          "metadata": {}
        },
        {
          "output_type": "display_data",
          "data": {
            "text/plain": [
              "<IPython.core.display.Javascript object>"
            ],
            "application/javascript": [
              "\n",
              "      async function showImage(name, image, width, height) {\n",
              "        img = document.getElementById(name);\n",
              "        if(img == null) {\n",
              "          img = document.createElement('img');\n",
              "          img.id = name;\n",
              "          document.body.appendChild(img);\n",
              "        }\n",
              "        img.src = image;\n",
              "        img.width = width;\n",
              "        img.height = height;\n",
              "      }\n",
              "      "
            ]
          },
          "metadata": {}
        },
        {
          "output_type": "display_data",
          "data": {
            "text/plain": [
              "<IPython.core.display.Javascript object>"
            ],
            "application/javascript": [
              "\n",
              "      async function showImage(name, image, width, height) {\n",
              "        img = document.getElementById(name);\n",
              "        if(img == null) {\n",
              "          img = document.createElement('img');\n",
              "          img.id = name;\n",
              "          document.body.appendChild(img);\n",
              "        }\n",
              "        img.src = image;\n",
              "        img.width = width;\n",
              "        img.height = height;\n",
              "      }\n",
              "      "
            ]
          },
          "metadata": {}
        },
        {
          "output_type": "display_data",
          "data": {
            "text/plain": [
              "<IPython.core.display.Javascript object>"
            ],
            "application/javascript": [
              "\n",
              "      async function showImage(name, image, width, height) {\n",
              "        img = document.getElementById(name);\n",
              "        if(img == null) {\n",
              "          img = document.createElement('img');\n",
              "          img.id = name;\n",
              "          document.body.appendChild(img);\n",
              "        }\n",
              "        img.src = image;\n",
              "        img.width = width;\n",
              "        img.height = height;\n",
              "      }\n",
              "      "
            ]
          },
          "metadata": {}
        },
        {
          "output_type": "display_data",
          "data": {
            "text/plain": [
              "<IPython.core.display.Javascript object>"
            ],
            "application/javascript": [
              "\n",
              "      async function showImage(name, image, width, height) {\n",
              "        img = document.getElementById(name);\n",
              "        if(img == null) {\n",
              "          img = document.createElement('img');\n",
              "          img.id = name;\n",
              "          document.body.appendChild(img);\n",
              "        }\n",
              "        img.src = image;\n",
              "        img.width = width;\n",
              "        img.height = height;\n",
              "      }\n",
              "      "
            ]
          },
          "metadata": {}
        },
        {
          "output_type": "display_data",
          "data": {
            "text/plain": [
              "<IPython.core.display.Javascript object>"
            ],
            "application/javascript": [
              "\n",
              "      async function showImage(name, image, width, height) {\n",
              "        img = document.getElementById(name);\n",
              "        if(img == null) {\n",
              "          img = document.createElement('img');\n",
              "          img.id = name;\n",
              "          document.body.appendChild(img);\n",
              "        }\n",
              "        img.src = image;\n",
              "        img.width = width;\n",
              "        img.height = height;\n",
              "      }\n",
              "      "
            ]
          },
          "metadata": {}
        },
        {
          "output_type": "display_data",
          "data": {
            "text/plain": [
              "<IPython.core.display.Javascript object>"
            ],
            "application/javascript": [
              "\n",
              "      async function showImage(name, image, width, height) {\n",
              "        img = document.getElementById(name);\n",
              "        if(img == null) {\n",
              "          img = document.createElement('img');\n",
              "          img.id = name;\n",
              "          document.body.appendChild(img);\n",
              "        }\n",
              "        img.src = image;\n",
              "        img.width = width;\n",
              "        img.height = height;\n",
              "      }\n",
              "      "
            ]
          },
          "metadata": {}
        },
        {
          "output_type": "display_data",
          "data": {
            "text/plain": [
              "<IPython.core.display.Javascript object>"
            ],
            "application/javascript": [
              "\n",
              "      async function showImage(name, image, width, height) {\n",
              "        img = document.getElementById(name);\n",
              "        if(img == null) {\n",
              "          img = document.createElement('img');\n",
              "          img.id = name;\n",
              "          document.body.appendChild(img);\n",
              "        }\n",
              "        img.src = image;\n",
              "        img.width = width;\n",
              "        img.height = height;\n",
              "      }\n",
              "      "
            ]
          },
          "metadata": {}
        },
        {
          "output_type": "display_data",
          "data": {
            "text/plain": [
              "<IPython.core.display.Javascript object>"
            ],
            "application/javascript": [
              "\n",
              "      async function showImage(name, image, width, height) {\n",
              "        img = document.getElementById(name);\n",
              "        if(img == null) {\n",
              "          img = document.createElement('img');\n",
              "          img.id = name;\n",
              "          document.body.appendChild(img);\n",
              "        }\n",
              "        img.src = image;\n",
              "        img.width = width;\n",
              "        img.height = height;\n",
              "      }\n",
              "      "
            ]
          },
          "metadata": {}
        },
        {
          "output_type": "display_data",
          "data": {
            "text/plain": [
              "<IPython.core.display.Javascript object>"
            ],
            "application/javascript": [
              "\n",
              "      async function showImage(name, image, width, height) {\n",
              "        img = document.getElementById(name);\n",
              "        if(img == null) {\n",
              "          img = document.createElement('img');\n",
              "          img.id = name;\n",
              "          document.body.appendChild(img);\n",
              "        }\n",
              "        img.src = image;\n",
              "        img.width = width;\n",
              "        img.height = height;\n",
              "      }\n",
              "      "
            ]
          },
          "metadata": {}
        },
        {
          "output_type": "display_data",
          "data": {
            "text/plain": [
              "<IPython.core.display.Javascript object>"
            ],
            "application/javascript": [
              "\n",
              "      async function showImage(name, image, width, height) {\n",
              "        img = document.getElementById(name);\n",
              "        if(img == null) {\n",
              "          img = document.createElement('img');\n",
              "          img.id = name;\n",
              "          document.body.appendChild(img);\n",
              "        }\n",
              "        img.src = image;\n",
              "        img.width = width;\n",
              "        img.height = height;\n",
              "      }\n",
              "      "
            ]
          },
          "metadata": {}
        },
        {
          "output_type": "display_data",
          "data": {
            "text/plain": [
              "<IPython.core.display.Javascript object>"
            ],
            "application/javascript": [
              "\n",
              "      async function showImage(name, image, width, height) {\n",
              "        img = document.getElementById(name);\n",
              "        if(img == null) {\n",
              "          img = document.createElement('img');\n",
              "          img.id = name;\n",
              "          document.body.appendChild(img);\n",
              "        }\n",
              "        img.src = image;\n",
              "        img.width = width;\n",
              "        img.height = height;\n",
              "      }\n",
              "      "
            ]
          },
          "metadata": {}
        },
        {
          "output_type": "display_data",
          "data": {
            "text/plain": [
              "<IPython.core.display.Javascript object>"
            ],
            "application/javascript": [
              "\n",
              "      async function showImage(name, image, width, height) {\n",
              "        img = document.getElementById(name);\n",
              "        if(img == null) {\n",
              "          img = document.createElement('img');\n",
              "          img.id = name;\n",
              "          document.body.appendChild(img);\n",
              "        }\n",
              "        img.src = image;\n",
              "        img.width = width;\n",
              "        img.height = height;\n",
              "      }\n",
              "      "
            ]
          },
          "metadata": {}
        },
        {
          "output_type": "display_data",
          "data": {
            "text/plain": [
              "<IPython.core.display.Javascript object>"
            ],
            "application/javascript": [
              "\n",
              "      async function showImage(name, image, width, height) {\n",
              "        img = document.getElementById(name);\n",
              "        if(img == null) {\n",
              "          img = document.createElement('img');\n",
              "          img.id = name;\n",
              "          document.body.appendChild(img);\n",
              "        }\n",
              "        img.src = image;\n",
              "        img.width = width;\n",
              "        img.height = height;\n",
              "      }\n",
              "      "
            ]
          },
          "metadata": {}
        },
        {
          "output_type": "display_data",
          "data": {
            "text/plain": [
              "<IPython.core.display.Javascript object>"
            ],
            "application/javascript": [
              "\n",
              "      async function showImage(name, image, width, height) {\n",
              "        img = document.getElementById(name);\n",
              "        if(img == null) {\n",
              "          img = document.createElement('img');\n",
              "          img.id = name;\n",
              "          document.body.appendChild(img);\n",
              "        }\n",
              "        img.src = image;\n",
              "        img.width = width;\n",
              "        img.height = height;\n",
              "      }\n",
              "      "
            ]
          },
          "metadata": {}
        },
        {
          "output_type": "display_data",
          "data": {
            "text/plain": [
              "<IPython.core.display.Javascript object>"
            ],
            "application/javascript": [
              "\n",
              "      async function showImage(name, image, width, height) {\n",
              "        img = document.getElementById(name);\n",
              "        if(img == null) {\n",
              "          img = document.createElement('img');\n",
              "          img.id = name;\n",
              "          document.body.appendChild(img);\n",
              "        }\n",
              "        img.src = image;\n",
              "        img.width = width;\n",
              "        img.height = height;\n",
              "      }\n",
              "      "
            ]
          },
          "metadata": {}
        },
        {
          "output_type": "display_data",
          "data": {
            "text/plain": [
              "<IPython.core.display.Javascript object>"
            ],
            "application/javascript": [
              "\n",
              "      async function showImage(name, image, width, height) {\n",
              "        img = document.getElementById(name);\n",
              "        if(img == null) {\n",
              "          img = document.createElement('img');\n",
              "          img.id = name;\n",
              "          document.body.appendChild(img);\n",
              "        }\n",
              "        img.src = image;\n",
              "        img.width = width;\n",
              "        img.height = height;\n",
              "      }\n",
              "      "
            ]
          },
          "metadata": {}
        },
        {
          "output_type": "display_data",
          "data": {
            "text/plain": [
              "<IPython.core.display.Javascript object>"
            ],
            "application/javascript": [
              "\n",
              "      async function showImage(name, image, width, height) {\n",
              "        img = document.getElementById(name);\n",
              "        if(img == null) {\n",
              "          img = document.createElement('img');\n",
              "          img.id = name;\n",
              "          document.body.appendChild(img);\n",
              "        }\n",
              "        img.src = image;\n",
              "        img.width = width;\n",
              "        img.height = height;\n",
              "      }\n",
              "      "
            ]
          },
          "metadata": {}
        },
        {
          "output_type": "display_data",
          "data": {
            "text/plain": [
              "<IPython.core.display.Javascript object>"
            ],
            "application/javascript": [
              "\n",
              "      async function showImage(name, image, width, height) {\n",
              "        img = document.getElementById(name);\n",
              "        if(img == null) {\n",
              "          img = document.createElement('img');\n",
              "          img.id = name;\n",
              "          document.body.appendChild(img);\n",
              "        }\n",
              "        img.src = image;\n",
              "        img.width = width;\n",
              "        img.height = height;\n",
              "      }\n",
              "      "
            ]
          },
          "metadata": {}
        },
        {
          "output_type": "display_data",
          "data": {
            "text/plain": [
              "<IPython.core.display.Javascript object>"
            ],
            "application/javascript": [
              "\n",
              "      async function showImage(name, image, width, height) {\n",
              "        img = document.getElementById(name);\n",
              "        if(img == null) {\n",
              "          img = document.createElement('img');\n",
              "          img.id = name;\n",
              "          document.body.appendChild(img);\n",
              "        }\n",
              "        img.src = image;\n",
              "        img.width = width;\n",
              "        img.height = height;\n",
              "      }\n",
              "      "
            ]
          },
          "metadata": {}
        },
        {
          "output_type": "display_data",
          "data": {
            "text/plain": [
              "<IPython.core.display.Javascript object>"
            ],
            "application/javascript": [
              "\n",
              "      async function showImage(name, image, width, height) {\n",
              "        img = document.getElementById(name);\n",
              "        if(img == null) {\n",
              "          img = document.createElement('img');\n",
              "          img.id = name;\n",
              "          document.body.appendChild(img);\n",
              "        }\n",
              "        img.src = image;\n",
              "        img.width = width;\n",
              "        img.height = height;\n",
              "      }\n",
              "      "
            ]
          },
          "metadata": {}
        },
        {
          "output_type": "display_data",
          "data": {
            "text/plain": [
              "<IPython.core.display.Javascript object>"
            ],
            "application/javascript": [
              "\n",
              "      async function showImage(name, image, width, height) {\n",
              "        img = document.getElementById(name);\n",
              "        if(img == null) {\n",
              "          img = document.createElement('img');\n",
              "          img.id = name;\n",
              "          document.body.appendChild(img);\n",
              "        }\n",
              "        img.src = image;\n",
              "        img.width = width;\n",
              "        img.height = height;\n",
              "      }\n",
              "      "
            ]
          },
          "metadata": {}
        },
        {
          "output_type": "display_data",
          "data": {
            "text/plain": [
              "<IPython.core.display.Javascript object>"
            ],
            "application/javascript": [
              "\n",
              "      async function showImage(name, image, width, height) {\n",
              "        img = document.getElementById(name);\n",
              "        if(img == null) {\n",
              "          img = document.createElement('img');\n",
              "          img.id = name;\n",
              "          document.body.appendChild(img);\n",
              "        }\n",
              "        img.src = image;\n",
              "        img.width = width;\n",
              "        img.height = height;\n",
              "      }\n",
              "      "
            ]
          },
          "metadata": {}
        },
        {
          "output_type": "display_data",
          "data": {
            "text/plain": [
              "<IPython.core.display.Javascript object>"
            ],
            "application/javascript": [
              "\n",
              "      async function showImage(name, image, width, height) {\n",
              "        img = document.getElementById(name);\n",
              "        if(img == null) {\n",
              "          img = document.createElement('img');\n",
              "          img.id = name;\n",
              "          document.body.appendChild(img);\n",
              "        }\n",
              "        img.src = image;\n",
              "        img.width = width;\n",
              "        img.height = height;\n",
              "      }\n",
              "      "
            ]
          },
          "metadata": {}
        },
        {
          "output_type": "display_data",
          "data": {
            "text/plain": [
              "<IPython.core.display.Javascript object>"
            ],
            "application/javascript": [
              "\n",
              "      async function showImage(name, image, width, height) {\n",
              "        img = document.getElementById(name);\n",
              "        if(img == null) {\n",
              "          img = document.createElement('img');\n",
              "          img.id = name;\n",
              "          document.body.appendChild(img);\n",
              "        }\n",
              "        img.src = image;\n",
              "        img.width = width;\n",
              "        img.height = height;\n",
              "      }\n",
              "      "
            ]
          },
          "metadata": {}
        },
        {
          "output_type": "display_data",
          "data": {
            "text/plain": [
              "<IPython.core.display.Javascript object>"
            ],
            "application/javascript": [
              "\n",
              "      async function showImage(name, image, width, height) {\n",
              "        img = document.getElementById(name);\n",
              "        if(img == null) {\n",
              "          img = document.createElement('img');\n",
              "          img.id = name;\n",
              "          document.body.appendChild(img);\n",
              "        }\n",
              "        img.src = image;\n",
              "        img.width = width;\n",
              "        img.height = height;\n",
              "      }\n",
              "      "
            ]
          },
          "metadata": {}
        },
        {
          "output_type": "display_data",
          "data": {
            "text/plain": [
              "<IPython.core.display.Javascript object>"
            ],
            "application/javascript": [
              "\n",
              "      async function showImage(name, image, width, height) {\n",
              "        img = document.getElementById(name);\n",
              "        if(img == null) {\n",
              "          img = document.createElement('img');\n",
              "          img.id = name;\n",
              "          document.body.appendChild(img);\n",
              "        }\n",
              "        img.src = image;\n",
              "        img.width = width;\n",
              "        img.height = height;\n",
              "      }\n",
              "      "
            ]
          },
          "metadata": {}
        },
        {
          "output_type": "display_data",
          "data": {
            "text/plain": [
              "<IPython.core.display.Javascript object>"
            ],
            "application/javascript": [
              "\n",
              "      async function showImage(name, image, width, height) {\n",
              "        img = document.getElementById(name);\n",
              "        if(img == null) {\n",
              "          img = document.createElement('img');\n",
              "          img.id = name;\n",
              "          document.body.appendChild(img);\n",
              "        }\n",
              "        img.src = image;\n",
              "        img.width = width;\n",
              "        img.height = height;\n",
              "      }\n",
              "      "
            ]
          },
          "metadata": {}
        },
        {
          "output_type": "display_data",
          "data": {
            "text/plain": [
              "<IPython.core.display.Javascript object>"
            ],
            "application/javascript": [
              "\n",
              "      async function showImage(name, image, width, height) {\n",
              "        img = document.getElementById(name);\n",
              "        if(img == null) {\n",
              "          img = document.createElement('img');\n",
              "          img.id = name;\n",
              "          document.body.appendChild(img);\n",
              "        }\n",
              "        img.src = image;\n",
              "        img.width = width;\n",
              "        img.height = height;\n",
              "      }\n",
              "      "
            ]
          },
          "metadata": {}
        },
        {
          "output_type": "display_data",
          "data": {
            "text/plain": [
              "<IPython.core.display.Javascript object>"
            ],
            "application/javascript": [
              "\n",
              "      async function showImage(name, image, width, height) {\n",
              "        img = document.getElementById(name);\n",
              "        if(img == null) {\n",
              "          img = document.createElement('img');\n",
              "          img.id = name;\n",
              "          document.body.appendChild(img);\n",
              "        }\n",
              "        img.src = image;\n",
              "        img.width = width;\n",
              "        img.height = height;\n",
              "      }\n",
              "      "
            ]
          },
          "metadata": {}
        },
        {
          "output_type": "display_data",
          "data": {
            "text/plain": [
              "<IPython.core.display.Javascript object>"
            ],
            "application/javascript": [
              "\n",
              "      async function showImage(name, image, width, height) {\n",
              "        img = document.getElementById(name);\n",
              "        if(img == null) {\n",
              "          img = document.createElement('img');\n",
              "          img.id = name;\n",
              "          document.body.appendChild(img);\n",
              "        }\n",
              "        img.src = image;\n",
              "        img.width = width;\n",
              "        img.height = height;\n",
              "      }\n",
              "      "
            ]
          },
          "metadata": {}
        },
        {
          "output_type": "display_data",
          "data": {
            "text/plain": [
              "<IPython.core.display.Javascript object>"
            ],
            "application/javascript": [
              "\n",
              "      async function showImage(name, image, width, height) {\n",
              "        img = document.getElementById(name);\n",
              "        if(img == null) {\n",
              "          img = document.createElement('img');\n",
              "          img.id = name;\n",
              "          document.body.appendChild(img);\n",
              "        }\n",
              "        img.src = image;\n",
              "        img.width = width;\n",
              "        img.height = height;\n",
              "      }\n",
              "      "
            ]
          },
          "metadata": {}
        },
        {
          "output_type": "display_data",
          "data": {
            "text/plain": [
              "<IPython.core.display.Javascript object>"
            ],
            "application/javascript": [
              "\n",
              "      async function showImage(name, image, width, height) {\n",
              "        img = document.getElementById(name);\n",
              "        if(img == null) {\n",
              "          img = document.createElement('img');\n",
              "          img.id = name;\n",
              "          document.body.appendChild(img);\n",
              "        }\n",
              "        img.src = image;\n",
              "        img.width = width;\n",
              "        img.height = height;\n",
              "      }\n",
              "      "
            ]
          },
          "metadata": {}
        },
        {
          "output_type": "display_data",
          "data": {
            "text/plain": [
              "<IPython.core.display.Javascript object>"
            ],
            "application/javascript": [
              "\n",
              "      async function showImage(name, image, width, height) {\n",
              "        img = document.getElementById(name);\n",
              "        if(img == null) {\n",
              "          img = document.createElement('img');\n",
              "          img.id = name;\n",
              "          document.body.appendChild(img);\n",
              "        }\n",
              "        img.src = image;\n",
              "        img.width = width;\n",
              "        img.height = height;\n",
              "      }\n",
              "      "
            ]
          },
          "metadata": {}
        },
        {
          "output_type": "display_data",
          "data": {
            "text/plain": [
              "<IPython.core.display.Javascript object>"
            ],
            "application/javascript": [
              "\n",
              "      async function showImage(name, image, width, height) {\n",
              "        img = document.getElementById(name);\n",
              "        if(img == null) {\n",
              "          img = document.createElement('img');\n",
              "          img.id = name;\n",
              "          document.body.appendChild(img);\n",
              "        }\n",
              "        img.src = image;\n",
              "        img.width = width;\n",
              "        img.height = height;\n",
              "      }\n",
              "      "
            ]
          },
          "metadata": {}
        },
        {
          "output_type": "display_data",
          "data": {
            "text/plain": [
              "<IPython.core.display.Javascript object>"
            ],
            "application/javascript": [
              "\n",
              "      async function showImage(name, image, width, height) {\n",
              "        img = document.getElementById(name);\n",
              "        if(img == null) {\n",
              "          img = document.createElement('img');\n",
              "          img.id = name;\n",
              "          document.body.appendChild(img);\n",
              "        }\n",
              "        img.src = image;\n",
              "        img.width = width;\n",
              "        img.height = height;\n",
              "      }\n",
              "      "
            ]
          },
          "metadata": {}
        },
        {
          "output_type": "display_data",
          "data": {
            "text/plain": [
              "<IPython.core.display.Javascript object>"
            ],
            "application/javascript": [
              "\n",
              "      async function showImage(name, image, width, height) {\n",
              "        img = document.getElementById(name);\n",
              "        if(img == null) {\n",
              "          img = document.createElement('img');\n",
              "          img.id = name;\n",
              "          document.body.appendChild(img);\n",
              "        }\n",
              "        img.src = image;\n",
              "        img.width = width;\n",
              "        img.height = height;\n",
              "      }\n",
              "      "
            ]
          },
          "metadata": {}
        },
        {
          "output_type": "display_data",
          "data": {
            "text/plain": [
              "<IPython.core.display.Javascript object>"
            ],
            "application/javascript": [
              "\n",
              "      async function showImage(name, image, width, height) {\n",
              "        img = document.getElementById(name);\n",
              "        if(img == null) {\n",
              "          img = document.createElement('img');\n",
              "          img.id = name;\n",
              "          document.body.appendChild(img);\n",
              "        }\n",
              "        img.src = image;\n",
              "        img.width = width;\n",
              "        img.height = height;\n",
              "      }\n",
              "      "
            ]
          },
          "metadata": {}
        },
        {
          "output_type": "display_data",
          "data": {
            "text/plain": [
              "<IPython.core.display.Javascript object>"
            ],
            "application/javascript": [
              "\n",
              "      async function showImage(name, image, width, height) {\n",
              "        img = document.getElementById(name);\n",
              "        if(img == null) {\n",
              "          img = document.createElement('img');\n",
              "          img.id = name;\n",
              "          document.body.appendChild(img);\n",
              "        }\n",
              "        img.src = image;\n",
              "        img.width = width;\n",
              "        img.height = height;\n",
              "      }\n",
              "      "
            ]
          },
          "metadata": {}
        },
        {
          "output_type": "display_data",
          "data": {
            "text/plain": [
              "<IPython.core.display.Javascript object>"
            ],
            "application/javascript": [
              "\n",
              "      async function showImage(name, image, width, height) {\n",
              "        img = document.getElementById(name);\n",
              "        if(img == null) {\n",
              "          img = document.createElement('img');\n",
              "          img.id = name;\n",
              "          document.body.appendChild(img);\n",
              "        }\n",
              "        img.src = image;\n",
              "        img.width = width;\n",
              "        img.height = height;\n",
              "      }\n",
              "      "
            ]
          },
          "metadata": {}
        },
        {
          "output_type": "display_data",
          "data": {
            "text/plain": [
              "<IPython.core.display.Javascript object>"
            ],
            "application/javascript": [
              "\n",
              "      async function showImage(name, image, width, height) {\n",
              "        img = document.getElementById(name);\n",
              "        if(img == null) {\n",
              "          img = document.createElement('img');\n",
              "          img.id = name;\n",
              "          document.body.appendChild(img);\n",
              "        }\n",
              "        img.src = image;\n",
              "        img.width = width;\n",
              "        img.height = height;\n",
              "      }\n",
              "      "
            ]
          },
          "metadata": {}
        },
        {
          "output_type": "display_data",
          "data": {
            "text/plain": [
              "<IPython.core.display.Javascript object>"
            ],
            "application/javascript": [
              "\n",
              "      async function showImage(name, image, width, height) {\n",
              "        img = document.getElementById(name);\n",
              "        if(img == null) {\n",
              "          img = document.createElement('img');\n",
              "          img.id = name;\n",
              "          document.body.appendChild(img);\n",
              "        }\n",
              "        img.src = image;\n",
              "        img.width = width;\n",
              "        img.height = height;\n",
              "      }\n",
              "      "
            ]
          },
          "metadata": {}
        },
        {
          "output_type": "display_data",
          "data": {
            "text/plain": [
              "<IPython.core.display.Javascript object>"
            ],
            "application/javascript": [
              "\n",
              "      async function showImage(name, image, width, height) {\n",
              "        img = document.getElementById(name);\n",
              "        if(img == null) {\n",
              "          img = document.createElement('img');\n",
              "          img.id = name;\n",
              "          document.body.appendChild(img);\n",
              "        }\n",
              "        img.src = image;\n",
              "        img.width = width;\n",
              "        img.height = height;\n",
              "      }\n",
              "      "
            ]
          },
          "metadata": {}
        },
        {
          "output_type": "display_data",
          "data": {
            "text/plain": [
              "<IPython.core.display.Javascript object>"
            ],
            "application/javascript": [
              "\n",
              "      async function showImage(name, image, width, height) {\n",
              "        img = document.getElementById(name);\n",
              "        if(img == null) {\n",
              "          img = document.createElement('img');\n",
              "          img.id = name;\n",
              "          document.body.appendChild(img);\n",
              "        }\n",
              "        img.src = image;\n",
              "        img.width = width;\n",
              "        img.height = height;\n",
              "      }\n",
              "      "
            ]
          },
          "metadata": {}
        },
        {
          "output_type": "display_data",
          "data": {
            "text/plain": [
              "<IPython.core.display.Javascript object>"
            ],
            "application/javascript": [
              "\n",
              "      async function showImage(name, image, width, height) {\n",
              "        img = document.getElementById(name);\n",
              "        if(img == null) {\n",
              "          img = document.createElement('img');\n",
              "          img.id = name;\n",
              "          document.body.appendChild(img);\n",
              "        }\n",
              "        img.src = image;\n",
              "        img.width = width;\n",
              "        img.height = height;\n",
              "      }\n",
              "      "
            ]
          },
          "metadata": {}
        },
        {
          "output_type": "display_data",
          "data": {
            "text/plain": [
              "<IPython.core.display.Javascript object>"
            ],
            "application/javascript": [
              "\n",
              "      async function showImage(name, image, width, height) {\n",
              "        img = document.getElementById(name);\n",
              "        if(img == null) {\n",
              "          img = document.createElement('img');\n",
              "          img.id = name;\n",
              "          document.body.appendChild(img);\n",
              "        }\n",
              "        img.src = image;\n",
              "        img.width = width;\n",
              "        img.height = height;\n",
              "      }\n",
              "      "
            ]
          },
          "metadata": {}
        },
        {
          "output_type": "display_data",
          "data": {
            "text/plain": [
              "<IPython.core.display.Javascript object>"
            ],
            "application/javascript": [
              "\n",
              "      async function showImage(name, image, width, height) {\n",
              "        img = document.getElementById(name);\n",
              "        if(img == null) {\n",
              "          img = document.createElement('img');\n",
              "          img.id = name;\n",
              "          document.body.appendChild(img);\n",
              "        }\n",
              "        img.src = image;\n",
              "        img.width = width;\n",
              "        img.height = height;\n",
              "      }\n",
              "      "
            ]
          },
          "metadata": {}
        },
        {
          "output_type": "display_data",
          "data": {
            "text/plain": [
              "<IPython.core.display.Javascript object>"
            ],
            "application/javascript": [
              "\n",
              "      async function showImage(name, image, width, height) {\n",
              "        img = document.getElementById(name);\n",
              "        if(img == null) {\n",
              "          img = document.createElement('img');\n",
              "          img.id = name;\n",
              "          document.body.appendChild(img);\n",
              "        }\n",
              "        img.src = image;\n",
              "        img.width = width;\n",
              "        img.height = height;\n",
              "      }\n",
              "      "
            ]
          },
          "metadata": {}
        },
        {
          "output_type": "display_data",
          "data": {
            "text/plain": [
              "<IPython.core.display.Javascript object>"
            ],
            "application/javascript": [
              "\n",
              "      async function showImage(name, image, width, height) {\n",
              "        img = document.getElementById(name);\n",
              "        if(img == null) {\n",
              "          img = document.createElement('img');\n",
              "          img.id = name;\n",
              "          document.body.appendChild(img);\n",
              "        }\n",
              "        img.src = image;\n",
              "        img.width = width;\n",
              "        img.height = height;\n",
              "      }\n",
              "      "
            ]
          },
          "metadata": {}
        },
        {
          "output_type": "display_data",
          "data": {
            "text/plain": [
              "<IPython.core.display.Javascript object>"
            ],
            "application/javascript": [
              "\n",
              "      async function showImage(name, image, width, height) {\n",
              "        img = document.getElementById(name);\n",
              "        if(img == null) {\n",
              "          img = document.createElement('img');\n",
              "          img.id = name;\n",
              "          document.body.appendChild(img);\n",
              "        }\n",
              "        img.src = image;\n",
              "        img.width = width;\n",
              "        img.height = height;\n",
              "      }\n",
              "      "
            ]
          },
          "metadata": {}
        },
        {
          "output_type": "display_data",
          "data": {
            "text/plain": [
              "<IPython.core.display.Javascript object>"
            ],
            "application/javascript": [
              "\n",
              "      async function showImage(name, image, width, height) {\n",
              "        img = document.getElementById(name);\n",
              "        if(img == null) {\n",
              "          img = document.createElement('img');\n",
              "          img.id = name;\n",
              "          document.body.appendChild(img);\n",
              "        }\n",
              "        img.src = image;\n",
              "        img.width = width;\n",
              "        img.height = height;\n",
              "      }\n",
              "      "
            ]
          },
          "metadata": {}
        },
        {
          "output_type": "display_data",
          "data": {
            "text/plain": [
              "<IPython.core.display.Javascript object>"
            ],
            "application/javascript": [
              "\n",
              "      async function showImage(name, image, width, height) {\n",
              "        img = document.getElementById(name);\n",
              "        if(img == null) {\n",
              "          img = document.createElement('img');\n",
              "          img.id = name;\n",
              "          document.body.appendChild(img);\n",
              "        }\n",
              "        img.src = image;\n",
              "        img.width = width;\n",
              "        img.height = height;\n",
              "      }\n",
              "      "
            ]
          },
          "metadata": {}
        },
        {
          "output_type": "display_data",
          "data": {
            "text/plain": [
              "<IPython.core.display.Javascript object>"
            ],
            "application/javascript": [
              "\n",
              "      async function showImage(name, image, width, height) {\n",
              "        img = document.getElementById(name);\n",
              "        if(img == null) {\n",
              "          img = document.createElement('img');\n",
              "          img.id = name;\n",
              "          document.body.appendChild(img);\n",
              "        }\n",
              "        img.src = image;\n",
              "        img.width = width;\n",
              "        img.height = height;\n",
              "      }\n",
              "      "
            ]
          },
          "metadata": {}
        },
        {
          "output_type": "display_data",
          "data": {
            "text/plain": [
              "<IPython.core.display.Javascript object>"
            ],
            "application/javascript": [
              "\n",
              "      async function showImage(name, image, width, height) {\n",
              "        img = document.getElementById(name);\n",
              "        if(img == null) {\n",
              "          img = document.createElement('img');\n",
              "          img.id = name;\n",
              "          document.body.appendChild(img);\n",
              "        }\n",
              "        img.src = image;\n",
              "        img.width = width;\n",
              "        img.height = height;\n",
              "      }\n",
              "      "
            ]
          },
          "metadata": {}
        },
        {
          "output_type": "display_data",
          "data": {
            "text/plain": [
              "<IPython.core.display.Javascript object>"
            ],
            "application/javascript": [
              "\n",
              "      async function showImage(name, image, width, height) {\n",
              "        img = document.getElementById(name);\n",
              "        if(img == null) {\n",
              "          img = document.createElement('img');\n",
              "          img.id = name;\n",
              "          document.body.appendChild(img);\n",
              "        }\n",
              "        img.src = image;\n",
              "        img.width = width;\n",
              "        img.height = height;\n",
              "      }\n",
              "      "
            ]
          },
          "metadata": {}
        },
        {
          "output_type": "display_data",
          "data": {
            "text/plain": [
              "<IPython.core.display.Javascript object>"
            ],
            "application/javascript": [
              "\n",
              "      async function showImage(name, image, width, height) {\n",
              "        img = document.getElementById(name);\n",
              "        if(img == null) {\n",
              "          img = document.createElement('img');\n",
              "          img.id = name;\n",
              "          document.body.appendChild(img);\n",
              "        }\n",
              "        img.src = image;\n",
              "        img.width = width;\n",
              "        img.height = height;\n",
              "      }\n",
              "      "
            ]
          },
          "metadata": {}
        },
        {
          "output_type": "display_data",
          "data": {
            "text/plain": [
              "<IPython.core.display.Javascript object>"
            ],
            "application/javascript": [
              "\n",
              "      async function showImage(name, image, width, height) {\n",
              "        img = document.getElementById(name);\n",
              "        if(img == null) {\n",
              "          img = document.createElement('img');\n",
              "          img.id = name;\n",
              "          document.body.appendChild(img);\n",
              "        }\n",
              "        img.src = image;\n",
              "        img.width = width;\n",
              "        img.height = height;\n",
              "      }\n",
              "      "
            ]
          },
          "metadata": {}
        },
        {
          "output_type": "display_data",
          "data": {
            "text/plain": [
              "<IPython.core.display.Javascript object>"
            ],
            "application/javascript": [
              "\n",
              "      async function showImage(name, image, width, height) {\n",
              "        img = document.getElementById(name);\n",
              "        if(img == null) {\n",
              "          img = document.createElement('img');\n",
              "          img.id = name;\n",
              "          document.body.appendChild(img);\n",
              "        }\n",
              "        img.src = image;\n",
              "        img.width = width;\n",
              "        img.height = height;\n",
              "      }\n",
              "      "
            ]
          },
          "metadata": {}
        },
        {
          "output_type": "display_data",
          "data": {
            "text/plain": [
              "<IPython.core.display.Javascript object>"
            ],
            "application/javascript": [
              "\n",
              "      async function showImage(name, image, width, height) {\n",
              "        img = document.getElementById(name);\n",
              "        if(img == null) {\n",
              "          img = document.createElement('img');\n",
              "          img.id = name;\n",
              "          document.body.appendChild(img);\n",
              "        }\n",
              "        img.src = image;\n",
              "        img.width = width;\n",
              "        img.height = height;\n",
              "      }\n",
              "      "
            ]
          },
          "metadata": {}
        },
        {
          "output_type": "display_data",
          "data": {
            "text/plain": [
              "<IPython.core.display.Javascript object>"
            ],
            "application/javascript": [
              "\n",
              "      async function showImage(name, image, width, height) {\n",
              "        img = document.getElementById(name);\n",
              "        if(img == null) {\n",
              "          img = document.createElement('img');\n",
              "          img.id = name;\n",
              "          document.body.appendChild(img);\n",
              "        }\n",
              "        img.src = image;\n",
              "        img.width = width;\n",
              "        img.height = height;\n",
              "      }\n",
              "      "
            ]
          },
          "metadata": {}
        },
        {
          "output_type": "display_data",
          "data": {
            "text/plain": [
              "<IPython.core.display.Javascript object>"
            ],
            "application/javascript": [
              "\n",
              "      async function showImage(name, image, width, height) {\n",
              "        img = document.getElementById(name);\n",
              "        if(img == null) {\n",
              "          img = document.createElement('img');\n",
              "          img.id = name;\n",
              "          document.body.appendChild(img);\n",
              "        }\n",
              "        img.src = image;\n",
              "        img.width = width;\n",
              "        img.height = height;\n",
              "      }\n",
              "      "
            ]
          },
          "metadata": {}
        },
        {
          "output_type": "display_data",
          "data": {
            "text/plain": [
              "<IPython.core.display.Javascript object>"
            ],
            "application/javascript": [
              "\n",
              "      async function showImage(name, image, width, height) {\n",
              "        img = document.getElementById(name);\n",
              "        if(img == null) {\n",
              "          img = document.createElement('img');\n",
              "          img.id = name;\n",
              "          document.body.appendChild(img);\n",
              "        }\n",
              "        img.src = image;\n",
              "        img.width = width;\n",
              "        img.height = height;\n",
              "      }\n",
              "      "
            ]
          },
          "metadata": {}
        },
        {
          "output_type": "display_data",
          "data": {
            "text/plain": [
              "<IPython.core.display.Javascript object>"
            ],
            "application/javascript": [
              "\n",
              "      async function showImage(name, image, width, height) {\n",
              "        img = document.getElementById(name);\n",
              "        if(img == null) {\n",
              "          img = document.createElement('img');\n",
              "          img.id = name;\n",
              "          document.body.appendChild(img);\n",
              "        }\n",
              "        img.src = image;\n",
              "        img.width = width;\n",
              "        img.height = height;\n",
              "      }\n",
              "      "
            ]
          },
          "metadata": {}
        },
        {
          "output_type": "display_data",
          "data": {
            "text/plain": [
              "<IPython.core.display.Javascript object>"
            ],
            "application/javascript": [
              "\n",
              "      async function showImage(name, image, width, height) {\n",
              "        img = document.getElementById(name);\n",
              "        if(img == null) {\n",
              "          img = document.createElement('img');\n",
              "          img.id = name;\n",
              "          document.body.appendChild(img);\n",
              "        }\n",
              "        img.src = image;\n",
              "        img.width = width;\n",
              "        img.height = height;\n",
              "      }\n",
              "      "
            ]
          },
          "metadata": {}
        },
        {
          "output_type": "display_data",
          "data": {
            "text/plain": [
              "<IPython.core.display.Javascript object>"
            ],
            "application/javascript": [
              "\n",
              "      async function showImage(name, image, width, height) {\n",
              "        img = document.getElementById(name);\n",
              "        if(img == null) {\n",
              "          img = document.createElement('img');\n",
              "          img.id = name;\n",
              "          document.body.appendChild(img);\n",
              "        }\n",
              "        img.src = image;\n",
              "        img.width = width;\n",
              "        img.height = height;\n",
              "      }\n",
              "      "
            ]
          },
          "metadata": {}
        },
        {
          "output_type": "display_data",
          "data": {
            "text/plain": [
              "<IPython.core.display.Javascript object>"
            ],
            "application/javascript": [
              "\n",
              "      async function showImage(name, image, width, height) {\n",
              "        img = document.getElementById(name);\n",
              "        if(img == null) {\n",
              "          img = document.createElement('img');\n",
              "          img.id = name;\n",
              "          document.body.appendChild(img);\n",
              "        }\n",
              "        img.src = image;\n",
              "        img.width = width;\n",
              "        img.height = height;\n",
              "      }\n",
              "      "
            ]
          },
          "metadata": {}
        },
        {
          "output_type": "display_data",
          "data": {
            "text/plain": [
              "<IPython.core.display.Javascript object>"
            ],
            "application/javascript": [
              "\n",
              "      async function showImage(name, image, width, height) {\n",
              "        img = document.getElementById(name);\n",
              "        if(img == null) {\n",
              "          img = document.createElement('img');\n",
              "          img.id = name;\n",
              "          document.body.appendChild(img);\n",
              "        }\n",
              "        img.src = image;\n",
              "        img.width = width;\n",
              "        img.height = height;\n",
              "      }\n",
              "      "
            ]
          },
          "metadata": {}
        },
        {
          "output_type": "display_data",
          "data": {
            "text/plain": [
              "<IPython.core.display.Javascript object>"
            ],
            "application/javascript": [
              "\n",
              "      async function showImage(name, image, width, height) {\n",
              "        img = document.getElementById(name);\n",
              "        if(img == null) {\n",
              "          img = document.createElement('img');\n",
              "          img.id = name;\n",
              "          document.body.appendChild(img);\n",
              "        }\n",
              "        img.src = image;\n",
              "        img.width = width;\n",
              "        img.height = height;\n",
              "      }\n",
              "      "
            ]
          },
          "metadata": {}
        },
        {
          "output_type": "display_data",
          "data": {
            "text/plain": [
              "<IPython.core.display.Javascript object>"
            ],
            "application/javascript": [
              "\n",
              "      async function showImage(name, image, width, height) {\n",
              "        img = document.getElementById(name);\n",
              "        if(img == null) {\n",
              "          img = document.createElement('img');\n",
              "          img.id = name;\n",
              "          document.body.appendChild(img);\n",
              "        }\n",
              "        img.src = image;\n",
              "        img.width = width;\n",
              "        img.height = height;\n",
              "      }\n",
              "      "
            ]
          },
          "metadata": {}
        },
        {
          "output_type": "display_data",
          "data": {
            "text/plain": [
              "<IPython.core.display.Javascript object>"
            ],
            "application/javascript": [
              "\n",
              "      async function showImage(name, image, width, height) {\n",
              "        img = document.getElementById(name);\n",
              "        if(img == null) {\n",
              "          img = document.createElement('img');\n",
              "          img.id = name;\n",
              "          document.body.appendChild(img);\n",
              "        }\n",
              "        img.src = image;\n",
              "        img.width = width;\n",
              "        img.height = height;\n",
              "      }\n",
              "      "
            ]
          },
          "metadata": {}
        },
        {
          "output_type": "display_data",
          "data": {
            "text/plain": [
              "<IPython.core.display.Javascript object>"
            ],
            "application/javascript": [
              "\n",
              "      async function showImage(name, image, width, height) {\n",
              "        img = document.getElementById(name);\n",
              "        if(img == null) {\n",
              "          img = document.createElement('img');\n",
              "          img.id = name;\n",
              "          document.body.appendChild(img);\n",
              "        }\n",
              "        img.src = image;\n",
              "        img.width = width;\n",
              "        img.height = height;\n",
              "      }\n",
              "      "
            ]
          },
          "metadata": {}
        },
        {
          "output_type": "display_data",
          "data": {
            "text/plain": [
              "<IPython.core.display.Javascript object>"
            ],
            "application/javascript": [
              "\n",
              "      async function showImage(name, image, width, height) {\n",
              "        img = document.getElementById(name);\n",
              "        if(img == null) {\n",
              "          img = document.createElement('img');\n",
              "          img.id = name;\n",
              "          document.body.appendChild(img);\n",
              "        }\n",
              "        img.src = image;\n",
              "        img.width = width;\n",
              "        img.height = height;\n",
              "      }\n",
              "      "
            ]
          },
          "metadata": {}
        },
        {
          "output_type": "display_data",
          "data": {
            "text/plain": [
              "<IPython.core.display.Javascript object>"
            ],
            "application/javascript": [
              "\n",
              "      async function showImage(name, image, width, height) {\n",
              "        img = document.getElementById(name);\n",
              "        if(img == null) {\n",
              "          img = document.createElement('img');\n",
              "          img.id = name;\n",
              "          document.body.appendChild(img);\n",
              "        }\n",
              "        img.src = image;\n",
              "        img.width = width;\n",
              "        img.height = height;\n",
              "      }\n",
              "      "
            ]
          },
          "metadata": {}
        },
        {
          "output_type": "display_data",
          "data": {
            "text/plain": [
              "<IPython.core.display.Javascript object>"
            ],
            "application/javascript": [
              "\n",
              "      async function showImage(name, image, width, height) {\n",
              "        img = document.getElementById(name);\n",
              "        if(img == null) {\n",
              "          img = document.createElement('img');\n",
              "          img.id = name;\n",
              "          document.body.appendChild(img);\n",
              "        }\n",
              "        img.src = image;\n",
              "        img.width = width;\n",
              "        img.height = height;\n",
              "      }\n",
              "      "
            ]
          },
          "metadata": {}
        },
        {
          "output_type": "display_data",
          "data": {
            "text/plain": [
              "<IPython.core.display.Javascript object>"
            ],
            "application/javascript": [
              "\n",
              "      async function showImage(name, image, width, height) {\n",
              "        img = document.getElementById(name);\n",
              "        if(img == null) {\n",
              "          img = document.createElement('img');\n",
              "          img.id = name;\n",
              "          document.body.appendChild(img);\n",
              "        }\n",
              "        img.src = image;\n",
              "        img.width = width;\n",
              "        img.height = height;\n",
              "      }\n",
              "      "
            ]
          },
          "metadata": {}
        },
        {
          "output_type": "display_data",
          "data": {
            "text/plain": [
              "<IPython.core.display.Javascript object>"
            ],
            "application/javascript": [
              "\n",
              "      async function showImage(name, image, width, height) {\n",
              "        img = document.getElementById(name);\n",
              "        if(img == null) {\n",
              "          img = document.createElement('img');\n",
              "          img.id = name;\n",
              "          document.body.appendChild(img);\n",
              "        }\n",
              "        img.src = image;\n",
              "        img.width = width;\n",
              "        img.height = height;\n",
              "      }\n",
              "      "
            ]
          },
          "metadata": {}
        },
        {
          "output_type": "display_data",
          "data": {
            "text/plain": [
              "<IPython.core.display.Javascript object>"
            ],
            "application/javascript": [
              "\n",
              "      async function showImage(name, image, width, height) {\n",
              "        img = document.getElementById(name);\n",
              "        if(img == null) {\n",
              "          img = document.createElement('img');\n",
              "          img.id = name;\n",
              "          document.body.appendChild(img);\n",
              "        }\n",
              "        img.src = image;\n",
              "        img.width = width;\n",
              "        img.height = height;\n",
              "      }\n",
              "      "
            ]
          },
          "metadata": {}
        },
        {
          "output_type": "display_data",
          "data": {
            "text/plain": [
              "<IPython.core.display.Javascript object>"
            ],
            "application/javascript": [
              "\n",
              "      async function showImage(name, image, width, height) {\n",
              "        img = document.getElementById(name);\n",
              "        if(img == null) {\n",
              "          img = document.createElement('img');\n",
              "          img.id = name;\n",
              "          document.body.appendChild(img);\n",
              "        }\n",
              "        img.src = image;\n",
              "        img.width = width;\n",
              "        img.height = height;\n",
              "      }\n",
              "      "
            ]
          },
          "metadata": {}
        },
        {
          "output_type": "display_data",
          "data": {
            "text/plain": [
              "<IPython.core.display.Javascript object>"
            ],
            "application/javascript": [
              "\n",
              "      async function showImage(name, image, width, height) {\n",
              "        img = document.getElementById(name);\n",
              "        if(img == null) {\n",
              "          img = document.createElement('img');\n",
              "          img.id = name;\n",
              "          document.body.appendChild(img);\n",
              "        }\n",
              "        img.src = image;\n",
              "        img.width = width;\n",
              "        img.height = height;\n",
              "      }\n",
              "      "
            ]
          },
          "metadata": {}
        },
        {
          "output_type": "display_data",
          "data": {
            "text/plain": [
              "<IPython.core.display.Javascript object>"
            ],
            "application/javascript": [
              "\n",
              "      async function showImage(name, image, width, height) {\n",
              "        img = document.getElementById(name);\n",
              "        if(img == null) {\n",
              "          img = document.createElement('img');\n",
              "          img.id = name;\n",
              "          document.body.appendChild(img);\n",
              "        }\n",
              "        img.src = image;\n",
              "        img.width = width;\n",
              "        img.height = height;\n",
              "      }\n",
              "      "
            ]
          },
          "metadata": {}
        },
        {
          "output_type": "display_data",
          "data": {
            "text/plain": [
              "<IPython.core.display.Javascript object>"
            ],
            "application/javascript": [
              "\n",
              "      async function showImage(name, image, width, height) {\n",
              "        img = document.getElementById(name);\n",
              "        if(img == null) {\n",
              "          img = document.createElement('img');\n",
              "          img.id = name;\n",
              "          document.body.appendChild(img);\n",
              "        }\n",
              "        img.src = image;\n",
              "        img.width = width;\n",
              "        img.height = height;\n",
              "      }\n",
              "      "
            ]
          },
          "metadata": {}
        },
        {
          "output_type": "display_data",
          "data": {
            "text/plain": [
              "<IPython.core.display.Javascript object>"
            ],
            "application/javascript": [
              "\n",
              "      async function showImage(name, image, width, height) {\n",
              "        img = document.getElementById(name);\n",
              "        if(img == null) {\n",
              "          img = document.createElement('img');\n",
              "          img.id = name;\n",
              "          document.body.appendChild(img);\n",
              "        }\n",
              "        img.src = image;\n",
              "        img.width = width;\n",
              "        img.height = height;\n",
              "      }\n",
              "      "
            ]
          },
          "metadata": {}
        },
        {
          "output_type": "display_data",
          "data": {
            "text/plain": [
              "<IPython.core.display.Javascript object>"
            ],
            "application/javascript": [
              "\n",
              "      async function showImage(name, image, width, height) {\n",
              "        img = document.getElementById(name);\n",
              "        if(img == null) {\n",
              "          img = document.createElement('img');\n",
              "          img.id = name;\n",
              "          document.body.appendChild(img);\n",
              "        }\n",
              "        img.src = image;\n",
              "        img.width = width;\n",
              "        img.height = height;\n",
              "      }\n",
              "      "
            ]
          },
          "metadata": {}
        },
        {
          "output_type": "display_data",
          "data": {
            "text/plain": [
              "<IPython.core.display.Javascript object>"
            ],
            "application/javascript": [
              "\n",
              "      async function showImage(name, image, width, height) {\n",
              "        img = document.getElementById(name);\n",
              "        if(img == null) {\n",
              "          img = document.createElement('img');\n",
              "          img.id = name;\n",
              "          document.body.appendChild(img);\n",
              "        }\n",
              "        img.src = image;\n",
              "        img.width = width;\n",
              "        img.height = height;\n",
              "      }\n",
              "      "
            ]
          },
          "metadata": {}
        },
        {
          "output_type": "display_data",
          "data": {
            "text/plain": [
              "<IPython.core.display.Javascript object>"
            ],
            "application/javascript": [
              "\n",
              "      async function showImage(name, image, width, height) {\n",
              "        img = document.getElementById(name);\n",
              "        if(img == null) {\n",
              "          img = document.createElement('img');\n",
              "          img.id = name;\n",
              "          document.body.appendChild(img);\n",
              "        }\n",
              "        img.src = image;\n",
              "        img.width = width;\n",
              "        img.height = height;\n",
              "      }\n",
              "      "
            ]
          },
          "metadata": {}
        },
        {
          "output_type": "display_data",
          "data": {
            "text/plain": [
              "<IPython.core.display.Javascript object>"
            ],
            "application/javascript": [
              "\n",
              "      async function showImage(name, image, width, height) {\n",
              "        img = document.getElementById(name);\n",
              "        if(img == null) {\n",
              "          img = document.createElement('img');\n",
              "          img.id = name;\n",
              "          document.body.appendChild(img);\n",
              "        }\n",
              "        img.src = image;\n",
              "        img.width = width;\n",
              "        img.height = height;\n",
              "      }\n",
              "      "
            ]
          },
          "metadata": {}
        },
        {
          "output_type": "display_data",
          "data": {
            "text/plain": [
              "<IPython.core.display.Javascript object>"
            ],
            "application/javascript": [
              "\n",
              "      async function showImage(name, image, width, height) {\n",
              "        img = document.getElementById(name);\n",
              "        if(img == null) {\n",
              "          img = document.createElement('img');\n",
              "          img.id = name;\n",
              "          document.body.appendChild(img);\n",
              "        }\n",
              "        img.src = image;\n",
              "        img.width = width;\n",
              "        img.height = height;\n",
              "      }\n",
              "      "
            ]
          },
          "metadata": {}
        },
        {
          "output_type": "display_data",
          "data": {
            "text/plain": [
              "<IPython.core.display.Javascript object>"
            ],
            "application/javascript": [
              "\n",
              "      async function showImage(name, image, width, height) {\n",
              "        img = document.getElementById(name);\n",
              "        if(img == null) {\n",
              "          img = document.createElement('img');\n",
              "          img.id = name;\n",
              "          document.body.appendChild(img);\n",
              "        }\n",
              "        img.src = image;\n",
              "        img.width = width;\n",
              "        img.height = height;\n",
              "      }\n",
              "      "
            ]
          },
          "metadata": {}
        },
        {
          "output_type": "display_data",
          "data": {
            "text/plain": [
              "<IPython.core.display.Javascript object>"
            ],
            "application/javascript": [
              "\n",
              "      async function showImage(name, image, width, height) {\n",
              "        img = document.getElementById(name);\n",
              "        if(img == null) {\n",
              "          img = document.createElement('img');\n",
              "          img.id = name;\n",
              "          document.body.appendChild(img);\n",
              "        }\n",
              "        img.src = image;\n",
              "        img.width = width;\n",
              "        img.height = height;\n",
              "      }\n",
              "      "
            ]
          },
          "metadata": {}
        },
        {
          "output_type": "display_data",
          "data": {
            "text/plain": [
              "<IPython.core.display.Javascript object>"
            ],
            "application/javascript": [
              "\n",
              "      async function showImage(name, image, width, height) {\n",
              "        img = document.getElementById(name);\n",
              "        if(img == null) {\n",
              "          img = document.createElement('img');\n",
              "          img.id = name;\n",
              "          document.body.appendChild(img);\n",
              "        }\n",
              "        img.src = image;\n",
              "        img.width = width;\n",
              "        img.height = height;\n",
              "      }\n",
              "      "
            ]
          },
          "metadata": {}
        },
        {
          "output_type": "display_data",
          "data": {
            "text/plain": [
              "<IPython.core.display.Javascript object>"
            ],
            "application/javascript": [
              "\n",
              "      async function showImage(name, image, width, height) {\n",
              "        img = document.getElementById(name);\n",
              "        if(img == null) {\n",
              "          img = document.createElement('img');\n",
              "          img.id = name;\n",
              "          document.body.appendChild(img);\n",
              "        }\n",
              "        img.src = image;\n",
              "        img.width = width;\n",
              "        img.height = height;\n",
              "      }\n",
              "      "
            ]
          },
          "metadata": {}
        },
        {
          "output_type": "display_data",
          "data": {
            "text/plain": [
              "<IPython.core.display.Javascript object>"
            ],
            "application/javascript": [
              "\n",
              "      async function showImage(name, image, width, height) {\n",
              "        img = document.getElementById(name);\n",
              "        if(img == null) {\n",
              "          img = document.createElement('img');\n",
              "          img.id = name;\n",
              "          document.body.appendChild(img);\n",
              "        }\n",
              "        img.src = image;\n",
              "        img.width = width;\n",
              "        img.height = height;\n",
              "      }\n",
              "      "
            ]
          },
          "metadata": {}
        },
        {
          "output_type": "display_data",
          "data": {
            "text/plain": [
              "<IPython.core.display.Javascript object>"
            ],
            "application/javascript": [
              "\n",
              "      async function showImage(name, image, width, height) {\n",
              "        img = document.getElementById(name);\n",
              "        if(img == null) {\n",
              "          img = document.createElement('img');\n",
              "          img.id = name;\n",
              "          document.body.appendChild(img);\n",
              "        }\n",
              "        img.src = image;\n",
              "        img.width = width;\n",
              "        img.height = height;\n",
              "      }\n",
              "      "
            ]
          },
          "metadata": {}
        },
        {
          "output_type": "display_data",
          "data": {
            "text/plain": [
              "<IPython.core.display.Javascript object>"
            ],
            "application/javascript": [
              "\n",
              "      async function showImage(name, image, width, height) {\n",
              "        img = document.getElementById(name);\n",
              "        if(img == null) {\n",
              "          img = document.createElement('img');\n",
              "          img.id = name;\n",
              "          document.body.appendChild(img);\n",
              "        }\n",
              "        img.src = image;\n",
              "        img.width = width;\n",
              "        img.height = height;\n",
              "      }\n",
              "      "
            ]
          },
          "metadata": {}
        },
        {
          "output_type": "display_data",
          "data": {
            "text/plain": [
              "<IPython.core.display.Javascript object>"
            ],
            "application/javascript": [
              "\n",
              "      async function showImage(name, image, width, height) {\n",
              "        img = document.getElementById(name);\n",
              "        if(img == null) {\n",
              "          img = document.createElement('img');\n",
              "          img.id = name;\n",
              "          document.body.appendChild(img);\n",
              "        }\n",
              "        img.src = image;\n",
              "        img.width = width;\n",
              "        img.height = height;\n",
              "      }\n",
              "      "
            ]
          },
          "metadata": {}
        },
        {
          "output_type": "display_data",
          "data": {
            "text/plain": [
              "<IPython.core.display.Javascript object>"
            ],
            "application/javascript": [
              "\n",
              "      async function showImage(name, image, width, height) {\n",
              "        img = document.getElementById(name);\n",
              "        if(img == null) {\n",
              "          img = document.createElement('img');\n",
              "          img.id = name;\n",
              "          document.body.appendChild(img);\n",
              "        }\n",
              "        img.src = image;\n",
              "        img.width = width;\n",
              "        img.height = height;\n",
              "      }\n",
              "      "
            ]
          },
          "metadata": {}
        },
        {
          "output_type": "display_data",
          "data": {
            "text/plain": [
              "<IPython.core.display.Javascript object>"
            ],
            "application/javascript": [
              "\n",
              "      async function showImage(name, image, width, height) {\n",
              "        img = document.getElementById(name);\n",
              "        if(img == null) {\n",
              "          img = document.createElement('img');\n",
              "          img.id = name;\n",
              "          document.body.appendChild(img);\n",
              "        }\n",
              "        img.src = image;\n",
              "        img.width = width;\n",
              "        img.height = height;\n",
              "      }\n",
              "      "
            ]
          },
          "metadata": {}
        },
        {
          "output_type": "display_data",
          "data": {
            "text/plain": [
              "<IPython.core.display.Javascript object>"
            ],
            "application/javascript": [
              "\n",
              "      async function showImage(name, image, width, height) {\n",
              "        img = document.getElementById(name);\n",
              "        if(img == null) {\n",
              "          img = document.createElement('img');\n",
              "          img.id = name;\n",
              "          document.body.appendChild(img);\n",
              "        }\n",
              "        img.src = image;\n",
              "        img.width = width;\n",
              "        img.height = height;\n",
              "      }\n",
              "      "
            ]
          },
          "metadata": {}
        },
        {
          "output_type": "display_data",
          "data": {
            "text/plain": [
              "<IPython.core.display.Javascript object>"
            ],
            "application/javascript": [
              "\n",
              "      async function showImage(name, image, width, height) {\n",
              "        img = document.getElementById(name);\n",
              "        if(img == null) {\n",
              "          img = document.createElement('img');\n",
              "          img.id = name;\n",
              "          document.body.appendChild(img);\n",
              "        }\n",
              "        img.src = image;\n",
              "        img.width = width;\n",
              "        img.height = height;\n",
              "      }\n",
              "      "
            ]
          },
          "metadata": {}
        },
        {
          "output_type": "display_data",
          "data": {
            "text/plain": [
              "<IPython.core.display.Javascript object>"
            ],
            "application/javascript": [
              "\n",
              "      async function showImage(name, image, width, height) {\n",
              "        img = document.getElementById(name);\n",
              "        if(img == null) {\n",
              "          img = document.createElement('img');\n",
              "          img.id = name;\n",
              "          document.body.appendChild(img);\n",
              "        }\n",
              "        img.src = image;\n",
              "        img.width = width;\n",
              "        img.height = height;\n",
              "      }\n",
              "      "
            ]
          },
          "metadata": {}
        },
        {
          "output_type": "display_data",
          "data": {
            "text/plain": [
              "<IPython.core.display.Javascript object>"
            ],
            "application/javascript": [
              "\n",
              "      async function showImage(name, image, width, height) {\n",
              "        img = document.getElementById(name);\n",
              "        if(img == null) {\n",
              "          img = document.createElement('img');\n",
              "          img.id = name;\n",
              "          document.body.appendChild(img);\n",
              "        }\n",
              "        img.src = image;\n",
              "        img.width = width;\n",
              "        img.height = height;\n",
              "      }\n",
              "      "
            ]
          },
          "metadata": {}
        },
        {
          "output_type": "display_data",
          "data": {
            "text/plain": [
              "<IPython.core.display.Javascript object>"
            ],
            "application/javascript": [
              "\n",
              "      async function showImage(name, image, width, height) {\n",
              "        img = document.getElementById(name);\n",
              "        if(img == null) {\n",
              "          img = document.createElement('img');\n",
              "          img.id = name;\n",
              "          document.body.appendChild(img);\n",
              "        }\n",
              "        img.src = image;\n",
              "        img.width = width;\n",
              "        img.height = height;\n",
              "      }\n",
              "      "
            ]
          },
          "metadata": {}
        },
        {
          "output_type": "display_data",
          "data": {
            "text/plain": [
              "<IPython.core.display.Javascript object>"
            ],
            "application/javascript": [
              "\n",
              "      async function showImage(name, image, width, height) {\n",
              "        img = document.getElementById(name);\n",
              "        if(img == null) {\n",
              "          img = document.createElement('img');\n",
              "          img.id = name;\n",
              "          document.body.appendChild(img);\n",
              "        }\n",
              "        img.src = image;\n",
              "        img.width = width;\n",
              "        img.height = height;\n",
              "      }\n",
              "      "
            ]
          },
          "metadata": {}
        },
        {
          "output_type": "display_data",
          "data": {
            "text/plain": [
              "<IPython.core.display.Javascript object>"
            ],
            "application/javascript": [
              "\n",
              "      async function showImage(name, image, width, height) {\n",
              "        img = document.getElementById(name);\n",
              "        if(img == null) {\n",
              "          img = document.createElement('img');\n",
              "          img.id = name;\n",
              "          document.body.appendChild(img);\n",
              "        }\n",
              "        img.src = image;\n",
              "        img.width = width;\n",
              "        img.height = height;\n",
              "      }\n",
              "      "
            ]
          },
          "metadata": {}
        },
        {
          "output_type": "display_data",
          "data": {
            "text/plain": [
              "<IPython.core.display.Javascript object>"
            ],
            "application/javascript": [
              "\n",
              "      async function showImage(name, image, width, height) {\n",
              "        img = document.getElementById(name);\n",
              "        if(img == null) {\n",
              "          img = document.createElement('img');\n",
              "          img.id = name;\n",
              "          document.body.appendChild(img);\n",
              "        }\n",
              "        img.src = image;\n",
              "        img.width = width;\n",
              "        img.height = height;\n",
              "      }\n",
              "      "
            ]
          },
          "metadata": {}
        },
        {
          "output_type": "display_data",
          "data": {
            "text/plain": [
              "<IPython.core.display.Javascript object>"
            ],
            "application/javascript": [
              "\n",
              "      async function showImage(name, image, width, height) {\n",
              "        img = document.getElementById(name);\n",
              "        if(img == null) {\n",
              "          img = document.createElement('img');\n",
              "          img.id = name;\n",
              "          document.body.appendChild(img);\n",
              "        }\n",
              "        img.src = image;\n",
              "        img.width = width;\n",
              "        img.height = height;\n",
              "      }\n",
              "      "
            ]
          },
          "metadata": {}
        },
        {
          "output_type": "display_data",
          "data": {
            "text/plain": [
              "<IPython.core.display.Javascript object>"
            ],
            "application/javascript": [
              "\n",
              "      async function showImage(name, image, width, height) {\n",
              "        img = document.getElementById(name);\n",
              "        if(img == null) {\n",
              "          img = document.createElement('img');\n",
              "          img.id = name;\n",
              "          document.body.appendChild(img);\n",
              "        }\n",
              "        img.src = image;\n",
              "        img.width = width;\n",
              "        img.height = height;\n",
              "      }\n",
              "      "
            ]
          },
          "metadata": {}
        },
        {
          "output_type": "display_data",
          "data": {
            "text/plain": [
              "<IPython.core.display.Javascript object>"
            ],
            "application/javascript": [
              "\n",
              "      async function showImage(name, image, width, height) {\n",
              "        img = document.getElementById(name);\n",
              "        if(img == null) {\n",
              "          img = document.createElement('img');\n",
              "          img.id = name;\n",
              "          document.body.appendChild(img);\n",
              "        }\n",
              "        img.src = image;\n",
              "        img.width = width;\n",
              "        img.height = height;\n",
              "      }\n",
              "      "
            ]
          },
          "metadata": {}
        },
        {
          "output_type": "display_data",
          "data": {
            "text/plain": [
              "<IPython.core.display.Javascript object>"
            ],
            "application/javascript": [
              "\n",
              "      async function showImage(name, image, width, height) {\n",
              "        img = document.getElementById(name);\n",
              "        if(img == null) {\n",
              "          img = document.createElement('img');\n",
              "          img.id = name;\n",
              "          document.body.appendChild(img);\n",
              "        }\n",
              "        img.src = image;\n",
              "        img.width = width;\n",
              "        img.height = height;\n",
              "      }\n",
              "      "
            ]
          },
          "metadata": {}
        },
        {
          "output_type": "display_data",
          "data": {
            "text/plain": [
              "<IPython.core.display.Javascript object>"
            ],
            "application/javascript": [
              "\n",
              "      async function showImage(name, image, width, height) {\n",
              "        img = document.getElementById(name);\n",
              "        if(img == null) {\n",
              "          img = document.createElement('img');\n",
              "          img.id = name;\n",
              "          document.body.appendChild(img);\n",
              "        }\n",
              "        img.src = image;\n",
              "        img.width = width;\n",
              "        img.height = height;\n",
              "      }\n",
              "      "
            ]
          },
          "metadata": {}
        },
        {
          "output_type": "display_data",
          "data": {
            "text/plain": [
              "<IPython.core.display.Javascript object>"
            ],
            "application/javascript": [
              "\n",
              "      async function showImage(name, image, width, height) {\n",
              "        img = document.getElementById(name);\n",
              "        if(img == null) {\n",
              "          img = document.createElement('img');\n",
              "          img.id = name;\n",
              "          document.body.appendChild(img);\n",
              "        }\n",
              "        img.src = image;\n",
              "        img.width = width;\n",
              "        img.height = height;\n",
              "      }\n",
              "      "
            ]
          },
          "metadata": {}
        },
        {
          "output_type": "display_data",
          "data": {
            "text/plain": [
              "<IPython.core.display.Javascript object>"
            ],
            "application/javascript": [
              "\n",
              "      async function showImage(name, image, width, height) {\n",
              "        img = document.getElementById(name);\n",
              "        if(img == null) {\n",
              "          img = document.createElement('img');\n",
              "          img.id = name;\n",
              "          document.body.appendChild(img);\n",
              "        }\n",
              "        img.src = image;\n",
              "        img.width = width;\n",
              "        img.height = height;\n",
              "      }\n",
              "      "
            ]
          },
          "metadata": {}
        },
        {
          "output_type": "display_data",
          "data": {
            "text/plain": [
              "<IPython.core.display.Javascript object>"
            ],
            "application/javascript": [
              "\n",
              "      async function showImage(name, image, width, height) {\n",
              "        img = document.getElementById(name);\n",
              "        if(img == null) {\n",
              "          img = document.createElement('img');\n",
              "          img.id = name;\n",
              "          document.body.appendChild(img);\n",
              "        }\n",
              "        img.src = image;\n",
              "        img.width = width;\n",
              "        img.height = height;\n",
              "      }\n",
              "      "
            ]
          },
          "metadata": {}
        },
        {
          "output_type": "display_data",
          "data": {
            "text/plain": [
              "<IPython.core.display.Javascript object>"
            ],
            "application/javascript": [
              "\n",
              "      async function showImage(name, image, width, height) {\n",
              "        img = document.getElementById(name);\n",
              "        if(img == null) {\n",
              "          img = document.createElement('img');\n",
              "          img.id = name;\n",
              "          document.body.appendChild(img);\n",
              "        }\n",
              "        img.src = image;\n",
              "        img.width = width;\n",
              "        img.height = height;\n",
              "      }\n",
              "      "
            ]
          },
          "metadata": {}
        },
        {
          "output_type": "display_data",
          "data": {
            "text/plain": [
              "<IPython.core.display.Javascript object>"
            ],
            "application/javascript": [
              "\n",
              "      async function showImage(name, image, width, height) {\n",
              "        img = document.getElementById(name);\n",
              "        if(img == null) {\n",
              "          img = document.createElement('img');\n",
              "          img.id = name;\n",
              "          document.body.appendChild(img);\n",
              "        }\n",
              "        img.src = image;\n",
              "        img.width = width;\n",
              "        img.height = height;\n",
              "      }\n",
              "      "
            ]
          },
          "metadata": {}
        },
        {
          "output_type": "display_data",
          "data": {
            "text/plain": [
              "<IPython.core.display.Javascript object>"
            ],
            "application/javascript": [
              "\n",
              "      async function showImage(name, image, width, height) {\n",
              "        img = document.getElementById(name);\n",
              "        if(img == null) {\n",
              "          img = document.createElement('img');\n",
              "          img.id = name;\n",
              "          document.body.appendChild(img);\n",
              "        }\n",
              "        img.src = image;\n",
              "        img.width = width;\n",
              "        img.height = height;\n",
              "      }\n",
              "      "
            ]
          },
          "metadata": {}
        },
        {
          "output_type": "display_data",
          "data": {
            "text/plain": [
              "<IPython.core.display.Javascript object>"
            ],
            "application/javascript": [
              "\n",
              "      async function showImage(name, image, width, height) {\n",
              "        img = document.getElementById(name);\n",
              "        if(img == null) {\n",
              "          img = document.createElement('img');\n",
              "          img.id = name;\n",
              "          document.body.appendChild(img);\n",
              "        }\n",
              "        img.src = image;\n",
              "        img.width = width;\n",
              "        img.height = height;\n",
              "      }\n",
              "      "
            ]
          },
          "metadata": {}
        },
        {
          "output_type": "display_data",
          "data": {
            "text/plain": [
              "<IPython.core.display.Javascript object>"
            ],
            "application/javascript": [
              "\n",
              "      async function showImage(name, image, width, height) {\n",
              "        img = document.getElementById(name);\n",
              "        if(img == null) {\n",
              "          img = document.createElement('img');\n",
              "          img.id = name;\n",
              "          document.body.appendChild(img);\n",
              "        }\n",
              "        img.src = image;\n",
              "        img.width = width;\n",
              "        img.height = height;\n",
              "      }\n",
              "      "
            ]
          },
          "metadata": {}
        },
        {
          "output_type": "display_data",
          "data": {
            "text/plain": [
              "<IPython.core.display.Javascript object>"
            ],
            "application/javascript": [
              "\n",
              "      async function showImage(name, image, width, height) {\n",
              "        img = document.getElementById(name);\n",
              "        if(img == null) {\n",
              "          img = document.createElement('img');\n",
              "          img.id = name;\n",
              "          document.body.appendChild(img);\n",
              "        }\n",
              "        img.src = image;\n",
              "        img.width = width;\n",
              "        img.height = height;\n",
              "      }\n",
              "      "
            ]
          },
          "metadata": {}
        },
        {
          "output_type": "display_data",
          "data": {
            "text/plain": [
              "<IPython.core.display.Javascript object>"
            ],
            "application/javascript": [
              "\n",
              "      async function showImage(name, image, width, height) {\n",
              "        img = document.getElementById(name);\n",
              "        if(img == null) {\n",
              "          img = document.createElement('img');\n",
              "          img.id = name;\n",
              "          document.body.appendChild(img);\n",
              "        }\n",
              "        img.src = image;\n",
              "        img.width = width;\n",
              "        img.height = height;\n",
              "      }\n",
              "      "
            ]
          },
          "metadata": {}
        },
        {
          "output_type": "display_data",
          "data": {
            "text/plain": [
              "<IPython.core.display.Javascript object>"
            ],
            "application/javascript": [
              "\n",
              "      async function showImage(name, image, width, height) {\n",
              "        img = document.getElementById(name);\n",
              "        if(img == null) {\n",
              "          img = document.createElement('img');\n",
              "          img.id = name;\n",
              "          document.body.appendChild(img);\n",
              "        }\n",
              "        img.src = image;\n",
              "        img.width = width;\n",
              "        img.height = height;\n",
              "      }\n",
              "      "
            ]
          },
          "metadata": {}
        },
        {
          "output_type": "display_data",
          "data": {
            "text/plain": [
              "<IPython.core.display.Javascript object>"
            ],
            "application/javascript": [
              "\n",
              "      async function showImage(name, image, width, height) {\n",
              "        img = document.getElementById(name);\n",
              "        if(img == null) {\n",
              "          img = document.createElement('img');\n",
              "          img.id = name;\n",
              "          document.body.appendChild(img);\n",
              "        }\n",
              "        img.src = image;\n",
              "        img.width = width;\n",
              "        img.height = height;\n",
              "      }\n",
              "      "
            ]
          },
          "metadata": {}
        },
        {
          "output_type": "display_data",
          "data": {
            "text/plain": [
              "<IPython.core.display.Javascript object>"
            ],
            "application/javascript": [
              "\n",
              "      async function showImage(name, image, width, height) {\n",
              "        img = document.getElementById(name);\n",
              "        if(img == null) {\n",
              "          img = document.createElement('img');\n",
              "          img.id = name;\n",
              "          document.body.appendChild(img);\n",
              "        }\n",
              "        img.src = image;\n",
              "        img.width = width;\n",
              "        img.height = height;\n",
              "      }\n",
              "      "
            ]
          },
          "metadata": {}
        },
        {
          "output_type": "display_data",
          "data": {
            "text/plain": [
              "<IPython.core.display.Javascript object>"
            ],
            "application/javascript": [
              "\n",
              "      async function showImage(name, image, width, height) {\n",
              "        img = document.getElementById(name);\n",
              "        if(img == null) {\n",
              "          img = document.createElement('img');\n",
              "          img.id = name;\n",
              "          document.body.appendChild(img);\n",
              "        }\n",
              "        img.src = image;\n",
              "        img.width = width;\n",
              "        img.height = height;\n",
              "      }\n",
              "      "
            ]
          },
          "metadata": {}
        },
        {
          "output_type": "display_data",
          "data": {
            "text/plain": [
              "<IPython.core.display.Javascript object>"
            ],
            "application/javascript": [
              "\n",
              "      async function showImage(name, image, width, height) {\n",
              "        img = document.getElementById(name);\n",
              "        if(img == null) {\n",
              "          img = document.createElement('img');\n",
              "          img.id = name;\n",
              "          document.body.appendChild(img);\n",
              "        }\n",
              "        img.src = image;\n",
              "        img.width = width;\n",
              "        img.height = height;\n",
              "      }\n",
              "      "
            ]
          },
          "metadata": {}
        },
        {
          "output_type": "display_data",
          "data": {
            "text/plain": [
              "<IPython.core.display.Javascript object>"
            ],
            "application/javascript": [
              "\n",
              "      async function showImage(name, image, width, height) {\n",
              "        img = document.getElementById(name);\n",
              "        if(img == null) {\n",
              "          img = document.createElement('img');\n",
              "          img.id = name;\n",
              "          document.body.appendChild(img);\n",
              "        }\n",
              "        img.src = image;\n",
              "        img.width = width;\n",
              "        img.height = height;\n",
              "      }\n",
              "      "
            ]
          },
          "metadata": {}
        },
        {
          "output_type": "display_data",
          "data": {
            "text/plain": [
              "<IPython.core.display.Javascript object>"
            ],
            "application/javascript": [
              "\n",
              "      async function showImage(name, image, width, height) {\n",
              "        img = document.getElementById(name);\n",
              "        if(img == null) {\n",
              "          img = document.createElement('img');\n",
              "          img.id = name;\n",
              "          document.body.appendChild(img);\n",
              "        }\n",
              "        img.src = image;\n",
              "        img.width = width;\n",
              "        img.height = height;\n",
              "      }\n",
              "      "
            ]
          },
          "metadata": {}
        },
        {
          "output_type": "display_data",
          "data": {
            "text/plain": [
              "<IPython.core.display.Javascript object>"
            ],
            "application/javascript": [
              "\n",
              "      async function showImage(name, image, width, height) {\n",
              "        img = document.getElementById(name);\n",
              "        if(img == null) {\n",
              "          img = document.createElement('img');\n",
              "          img.id = name;\n",
              "          document.body.appendChild(img);\n",
              "        }\n",
              "        img.src = image;\n",
              "        img.width = width;\n",
              "        img.height = height;\n",
              "      }\n",
              "      "
            ]
          },
          "metadata": {}
        },
        {
          "output_type": "display_data",
          "data": {
            "text/plain": [
              "<IPython.core.display.Javascript object>"
            ],
            "application/javascript": [
              "\n",
              "      async function showImage(name, image, width, height) {\n",
              "        img = document.getElementById(name);\n",
              "        if(img == null) {\n",
              "          img = document.createElement('img');\n",
              "          img.id = name;\n",
              "          document.body.appendChild(img);\n",
              "        }\n",
              "        img.src = image;\n",
              "        img.width = width;\n",
              "        img.height = height;\n",
              "      }\n",
              "      "
            ]
          },
          "metadata": {}
        },
        {
          "output_type": "display_data",
          "data": {
            "text/plain": [
              "<IPython.core.display.Javascript object>"
            ],
            "application/javascript": [
              "\n",
              "      async function showImage(name, image, width, height) {\n",
              "        img = document.getElementById(name);\n",
              "        if(img == null) {\n",
              "          img = document.createElement('img');\n",
              "          img.id = name;\n",
              "          document.body.appendChild(img);\n",
              "        }\n",
              "        img.src = image;\n",
              "        img.width = width;\n",
              "        img.height = height;\n",
              "      }\n",
              "      "
            ]
          },
          "metadata": {}
        },
        {
          "output_type": "display_data",
          "data": {
            "text/plain": [
              "<IPython.core.display.Javascript object>"
            ],
            "application/javascript": [
              "\n",
              "      async function showImage(name, image, width, height) {\n",
              "        img = document.getElementById(name);\n",
              "        if(img == null) {\n",
              "          img = document.createElement('img');\n",
              "          img.id = name;\n",
              "          document.body.appendChild(img);\n",
              "        }\n",
              "        img.src = image;\n",
              "        img.width = width;\n",
              "        img.height = height;\n",
              "      }\n",
              "      "
            ]
          },
          "metadata": {}
        },
        {
          "output_type": "display_data",
          "data": {
            "text/plain": [
              "<IPython.core.display.Javascript object>"
            ],
            "application/javascript": [
              "\n",
              "      async function showImage(name, image, width, height) {\n",
              "        img = document.getElementById(name);\n",
              "        if(img == null) {\n",
              "          img = document.createElement('img');\n",
              "          img.id = name;\n",
              "          document.body.appendChild(img);\n",
              "        }\n",
              "        img.src = image;\n",
              "        img.width = width;\n",
              "        img.height = height;\n",
              "      }\n",
              "      "
            ]
          },
          "metadata": {}
        },
        {
          "output_type": "display_data",
          "data": {
            "text/plain": [
              "<IPython.core.display.Javascript object>"
            ],
            "application/javascript": [
              "\n",
              "      async function showImage(name, image, width, height) {\n",
              "        img = document.getElementById(name);\n",
              "        if(img == null) {\n",
              "          img = document.createElement('img');\n",
              "          img.id = name;\n",
              "          document.body.appendChild(img);\n",
              "        }\n",
              "        img.src = image;\n",
              "        img.width = width;\n",
              "        img.height = height;\n",
              "      }\n",
              "      "
            ]
          },
          "metadata": {}
        },
        {
          "output_type": "display_data",
          "data": {
            "text/plain": [
              "<IPython.core.display.Javascript object>"
            ],
            "application/javascript": [
              "\n",
              "      async function showImage(name, image, width, height) {\n",
              "        img = document.getElementById(name);\n",
              "        if(img == null) {\n",
              "          img = document.createElement('img');\n",
              "          img.id = name;\n",
              "          document.body.appendChild(img);\n",
              "        }\n",
              "        img.src = image;\n",
              "        img.width = width;\n",
              "        img.height = height;\n",
              "      }\n",
              "      "
            ]
          },
          "metadata": {}
        },
        {
          "output_type": "display_data",
          "data": {
            "text/plain": [
              "<IPython.core.display.Javascript object>"
            ],
            "application/javascript": [
              "\n",
              "      async function showImage(name, image, width, height) {\n",
              "        img = document.getElementById(name);\n",
              "        if(img == null) {\n",
              "          img = document.createElement('img');\n",
              "          img.id = name;\n",
              "          document.body.appendChild(img);\n",
              "        }\n",
              "        img.src = image;\n",
              "        img.width = width;\n",
              "        img.height = height;\n",
              "      }\n",
              "      "
            ]
          },
          "metadata": {}
        },
        {
          "output_type": "display_data",
          "data": {
            "text/plain": [
              "<IPython.core.display.Javascript object>"
            ],
            "application/javascript": [
              "\n",
              "      async function showImage(name, image, width, height) {\n",
              "        img = document.getElementById(name);\n",
              "        if(img == null) {\n",
              "          img = document.createElement('img');\n",
              "          img.id = name;\n",
              "          document.body.appendChild(img);\n",
              "        }\n",
              "        img.src = image;\n",
              "        img.width = width;\n",
              "        img.height = height;\n",
              "      }\n",
              "      "
            ]
          },
          "metadata": {}
        },
        {
          "output_type": "display_data",
          "data": {
            "text/plain": [
              "<IPython.core.display.Javascript object>"
            ],
            "application/javascript": [
              "\n",
              "      async function showImage(name, image, width, height) {\n",
              "        img = document.getElementById(name);\n",
              "        if(img == null) {\n",
              "          img = document.createElement('img');\n",
              "          img.id = name;\n",
              "          document.body.appendChild(img);\n",
              "        }\n",
              "        img.src = image;\n",
              "        img.width = width;\n",
              "        img.height = height;\n",
              "      }\n",
              "      "
            ]
          },
          "metadata": {}
        },
        {
          "output_type": "display_data",
          "data": {
            "text/plain": [
              "<IPython.core.display.Javascript object>"
            ],
            "application/javascript": [
              "\n",
              "      async function showImage(name, image, width, height) {\n",
              "        img = document.getElementById(name);\n",
              "        if(img == null) {\n",
              "          img = document.createElement('img');\n",
              "          img.id = name;\n",
              "          document.body.appendChild(img);\n",
              "        }\n",
              "        img.src = image;\n",
              "        img.width = width;\n",
              "        img.height = height;\n",
              "      }\n",
              "      "
            ]
          },
          "metadata": {}
        },
        {
          "output_type": "display_data",
          "data": {
            "text/plain": [
              "<IPython.core.display.Javascript object>"
            ],
            "application/javascript": [
              "\n",
              "      async function showImage(name, image, width, height) {\n",
              "        img = document.getElementById(name);\n",
              "        if(img == null) {\n",
              "          img = document.createElement('img');\n",
              "          img.id = name;\n",
              "          document.body.appendChild(img);\n",
              "        }\n",
              "        img.src = image;\n",
              "        img.width = width;\n",
              "        img.height = height;\n",
              "      }\n",
              "      "
            ]
          },
          "metadata": {}
        },
        {
          "output_type": "display_data",
          "data": {
            "text/plain": [
              "<IPython.core.display.Javascript object>"
            ],
            "application/javascript": [
              "\n",
              "      async function showImage(name, image, width, height) {\n",
              "        img = document.getElementById(name);\n",
              "        if(img == null) {\n",
              "          img = document.createElement('img');\n",
              "          img.id = name;\n",
              "          document.body.appendChild(img);\n",
              "        }\n",
              "        img.src = image;\n",
              "        img.width = width;\n",
              "        img.height = height;\n",
              "      }\n",
              "      "
            ]
          },
          "metadata": {}
        },
        {
          "output_type": "display_data",
          "data": {
            "text/plain": [
              "<IPython.core.display.Javascript object>"
            ],
            "application/javascript": [
              "\n",
              "      async function showImage(name, image, width, height) {\n",
              "        img = document.getElementById(name);\n",
              "        if(img == null) {\n",
              "          img = document.createElement('img');\n",
              "          img.id = name;\n",
              "          document.body.appendChild(img);\n",
              "        }\n",
              "        img.src = image;\n",
              "        img.width = width;\n",
              "        img.height = height;\n",
              "      }\n",
              "      "
            ]
          },
          "metadata": {}
        },
        {
          "output_type": "display_data",
          "data": {
            "text/plain": [
              "<IPython.core.display.Javascript object>"
            ],
            "application/javascript": [
              "\n",
              "      async function showImage(name, image, width, height) {\n",
              "        img = document.getElementById(name);\n",
              "        if(img == null) {\n",
              "          img = document.createElement('img');\n",
              "          img.id = name;\n",
              "          document.body.appendChild(img);\n",
              "        }\n",
              "        img.src = image;\n",
              "        img.width = width;\n",
              "        img.height = height;\n",
              "      }\n",
              "      "
            ]
          },
          "metadata": {}
        },
        {
          "output_type": "display_data",
          "data": {
            "text/plain": [
              "<IPython.core.display.Javascript object>"
            ],
            "application/javascript": [
              "\n",
              "      async function showImage(name, image, width, height) {\n",
              "        img = document.getElementById(name);\n",
              "        if(img == null) {\n",
              "          img = document.createElement('img');\n",
              "          img.id = name;\n",
              "          document.body.appendChild(img);\n",
              "        }\n",
              "        img.src = image;\n",
              "        img.width = width;\n",
              "        img.height = height;\n",
              "      }\n",
              "      "
            ]
          },
          "metadata": {}
        },
        {
          "output_type": "display_data",
          "data": {
            "text/plain": [
              "<IPython.core.display.Javascript object>"
            ],
            "application/javascript": [
              "\n",
              "      async function showImage(name, image, width, height) {\n",
              "        img = document.getElementById(name);\n",
              "        if(img == null) {\n",
              "          img = document.createElement('img');\n",
              "          img.id = name;\n",
              "          document.body.appendChild(img);\n",
              "        }\n",
              "        img.src = image;\n",
              "        img.width = width;\n",
              "        img.height = height;\n",
              "      }\n",
              "      "
            ]
          },
          "metadata": {}
        },
        {
          "output_type": "display_data",
          "data": {
            "text/plain": [
              "<IPython.core.display.Javascript object>"
            ],
            "application/javascript": [
              "\n",
              "      async function showImage(name, image, width, height) {\n",
              "        img = document.getElementById(name);\n",
              "        if(img == null) {\n",
              "          img = document.createElement('img');\n",
              "          img.id = name;\n",
              "          document.body.appendChild(img);\n",
              "        }\n",
              "        img.src = image;\n",
              "        img.width = width;\n",
              "        img.height = height;\n",
              "      }\n",
              "      "
            ]
          },
          "metadata": {}
        },
        {
          "output_type": "display_data",
          "data": {
            "text/plain": [
              "<IPython.core.display.Javascript object>"
            ],
            "application/javascript": [
              "\n",
              "      async function showImage(name, image, width, height) {\n",
              "        img = document.getElementById(name);\n",
              "        if(img == null) {\n",
              "          img = document.createElement('img');\n",
              "          img.id = name;\n",
              "          document.body.appendChild(img);\n",
              "        }\n",
              "        img.src = image;\n",
              "        img.width = width;\n",
              "        img.height = height;\n",
              "      }\n",
              "      "
            ]
          },
          "metadata": {}
        },
        {
          "output_type": "display_data",
          "data": {
            "text/plain": [
              "<IPython.core.display.Javascript object>"
            ],
            "application/javascript": [
              "\n",
              "      async function showImage(name, image, width, height) {\n",
              "        img = document.getElementById(name);\n",
              "        if(img == null) {\n",
              "          img = document.createElement('img');\n",
              "          img.id = name;\n",
              "          document.body.appendChild(img);\n",
              "        }\n",
              "        img.src = image;\n",
              "        img.width = width;\n",
              "        img.height = height;\n",
              "      }\n",
              "      "
            ]
          },
          "metadata": {}
        },
        {
          "output_type": "display_data",
          "data": {
            "text/plain": [
              "<IPython.core.display.Javascript object>"
            ],
            "application/javascript": [
              "\n",
              "      async function showImage(name, image, width, height) {\n",
              "        img = document.getElementById(name);\n",
              "        if(img == null) {\n",
              "          img = document.createElement('img');\n",
              "          img.id = name;\n",
              "          document.body.appendChild(img);\n",
              "        }\n",
              "        img.src = image;\n",
              "        img.width = width;\n",
              "        img.height = height;\n",
              "      }\n",
              "      "
            ]
          },
          "metadata": {}
        },
        {
          "output_type": "display_data",
          "data": {
            "text/plain": [
              "<IPython.core.display.Javascript object>"
            ],
            "application/javascript": [
              "\n",
              "      async function showImage(name, image, width, height) {\n",
              "        img = document.getElementById(name);\n",
              "        if(img == null) {\n",
              "          img = document.createElement('img');\n",
              "          img.id = name;\n",
              "          document.body.appendChild(img);\n",
              "        }\n",
              "        img.src = image;\n",
              "        img.width = width;\n",
              "        img.height = height;\n",
              "      }\n",
              "      "
            ]
          },
          "metadata": {}
        },
        {
          "output_type": "display_data",
          "data": {
            "text/plain": [
              "<IPython.core.display.Javascript object>"
            ],
            "application/javascript": [
              "\n",
              "      async function showImage(name, image, width, height) {\n",
              "        img = document.getElementById(name);\n",
              "        if(img == null) {\n",
              "          img = document.createElement('img');\n",
              "          img.id = name;\n",
              "          document.body.appendChild(img);\n",
              "        }\n",
              "        img.src = image;\n",
              "        img.width = width;\n",
              "        img.height = height;\n",
              "      }\n",
              "      "
            ]
          },
          "metadata": {}
        },
        {
          "output_type": "display_data",
          "data": {
            "text/plain": [
              "<IPython.core.display.Javascript object>"
            ],
            "application/javascript": [
              "\n",
              "      async function showImage(name, image, width, height) {\n",
              "        img = document.getElementById(name);\n",
              "        if(img == null) {\n",
              "          img = document.createElement('img');\n",
              "          img.id = name;\n",
              "          document.body.appendChild(img);\n",
              "        }\n",
              "        img.src = image;\n",
              "        img.width = width;\n",
              "        img.height = height;\n",
              "      }\n",
              "      "
            ]
          },
          "metadata": {}
        },
        {
          "output_type": "display_data",
          "data": {
            "text/plain": [
              "<IPython.core.display.Javascript object>"
            ],
            "application/javascript": [
              "\n",
              "      async function showImage(name, image, width, height) {\n",
              "        img = document.getElementById(name);\n",
              "        if(img == null) {\n",
              "          img = document.createElement('img');\n",
              "          img.id = name;\n",
              "          document.body.appendChild(img);\n",
              "        }\n",
              "        img.src = image;\n",
              "        img.width = width;\n",
              "        img.height = height;\n",
              "      }\n",
              "      "
            ]
          },
          "metadata": {}
        },
        {
          "output_type": "display_data",
          "data": {
            "text/plain": [
              "<IPython.core.display.Javascript object>"
            ],
            "application/javascript": [
              "\n",
              "      async function showImage(name, image, width, height) {\n",
              "        img = document.getElementById(name);\n",
              "        if(img == null) {\n",
              "          img = document.createElement('img');\n",
              "          img.id = name;\n",
              "          document.body.appendChild(img);\n",
              "        }\n",
              "        img.src = image;\n",
              "        img.width = width;\n",
              "        img.height = height;\n",
              "      }\n",
              "      "
            ]
          },
          "metadata": {}
        },
        {
          "output_type": "display_data",
          "data": {
            "text/plain": [
              "<IPython.core.display.Javascript object>"
            ],
            "application/javascript": [
              "\n",
              "      async function showImage(name, image, width, height) {\n",
              "        img = document.getElementById(name);\n",
              "        if(img == null) {\n",
              "          img = document.createElement('img');\n",
              "          img.id = name;\n",
              "          document.body.appendChild(img);\n",
              "        }\n",
              "        img.src = image;\n",
              "        img.width = width;\n",
              "        img.height = height;\n",
              "      }\n",
              "      "
            ]
          },
          "metadata": {}
        },
        {
          "output_type": "display_data",
          "data": {
            "text/plain": [
              "<IPython.core.display.Javascript object>"
            ],
            "application/javascript": [
              "\n",
              "      async function showImage(name, image, width, height) {\n",
              "        img = document.getElementById(name);\n",
              "        if(img == null) {\n",
              "          img = document.createElement('img');\n",
              "          img.id = name;\n",
              "          document.body.appendChild(img);\n",
              "        }\n",
              "        img.src = image;\n",
              "        img.width = width;\n",
              "        img.height = height;\n",
              "      }\n",
              "      "
            ]
          },
          "metadata": {}
        },
        {
          "output_type": "display_data",
          "data": {
            "text/plain": [
              "<IPython.core.display.Javascript object>"
            ],
            "application/javascript": [
              "\n",
              "      async function showImage(name, image, width, height) {\n",
              "        img = document.getElementById(name);\n",
              "        if(img == null) {\n",
              "          img = document.createElement('img');\n",
              "          img.id = name;\n",
              "          document.body.appendChild(img);\n",
              "        }\n",
              "        img.src = image;\n",
              "        img.width = width;\n",
              "        img.height = height;\n",
              "      }\n",
              "      "
            ]
          },
          "metadata": {}
        },
        {
          "output_type": "display_data",
          "data": {
            "text/plain": [
              "<IPython.core.display.Javascript object>"
            ],
            "application/javascript": [
              "\n",
              "      async function showImage(name, image, width, height) {\n",
              "        img = document.getElementById(name);\n",
              "        if(img == null) {\n",
              "          img = document.createElement('img');\n",
              "          img.id = name;\n",
              "          document.body.appendChild(img);\n",
              "        }\n",
              "        img.src = image;\n",
              "        img.width = width;\n",
              "        img.height = height;\n",
              "      }\n",
              "      "
            ]
          },
          "metadata": {}
        },
        {
          "output_type": "display_data",
          "data": {
            "text/plain": [
              "<IPython.core.display.Javascript object>"
            ],
            "application/javascript": [
              "\n",
              "      async function showImage(name, image, width, height) {\n",
              "        img = document.getElementById(name);\n",
              "        if(img == null) {\n",
              "          img = document.createElement('img');\n",
              "          img.id = name;\n",
              "          document.body.appendChild(img);\n",
              "        }\n",
              "        img.src = image;\n",
              "        img.width = width;\n",
              "        img.height = height;\n",
              "      }\n",
              "      "
            ]
          },
          "metadata": {}
        },
        {
          "output_type": "display_data",
          "data": {
            "text/plain": [
              "<IPython.core.display.Javascript object>"
            ],
            "application/javascript": [
              "\n",
              "      async function showImage(name, image, width, height) {\n",
              "        img = document.getElementById(name);\n",
              "        if(img == null) {\n",
              "          img = document.createElement('img');\n",
              "          img.id = name;\n",
              "          document.body.appendChild(img);\n",
              "        }\n",
              "        img.src = image;\n",
              "        img.width = width;\n",
              "        img.height = height;\n",
              "      }\n",
              "      "
            ]
          },
          "metadata": {}
        },
        {
          "output_type": "display_data",
          "data": {
            "text/plain": [
              "<IPython.core.display.Javascript object>"
            ],
            "application/javascript": [
              "\n",
              "      async function showImage(name, image, width, height) {\n",
              "        img = document.getElementById(name);\n",
              "        if(img == null) {\n",
              "          img = document.createElement('img');\n",
              "          img.id = name;\n",
              "          document.body.appendChild(img);\n",
              "        }\n",
              "        img.src = image;\n",
              "        img.width = width;\n",
              "        img.height = height;\n",
              "      }\n",
              "      "
            ]
          },
          "metadata": {}
        },
        {
          "output_type": "display_data",
          "data": {
            "text/plain": [
              "<IPython.core.display.Javascript object>"
            ],
            "application/javascript": [
              "\n",
              "      async function showImage(name, image, width, height) {\n",
              "        img = document.getElementById(name);\n",
              "        if(img == null) {\n",
              "          img = document.createElement('img');\n",
              "          img.id = name;\n",
              "          document.body.appendChild(img);\n",
              "        }\n",
              "        img.src = image;\n",
              "        img.width = width;\n",
              "        img.height = height;\n",
              "      }\n",
              "      "
            ]
          },
          "metadata": {}
        },
        {
          "output_type": "display_data",
          "data": {
            "text/plain": [
              "<IPython.core.display.Javascript object>"
            ],
            "application/javascript": [
              "\n",
              "      async function showImage(name, image, width, height) {\n",
              "        img = document.getElementById(name);\n",
              "        if(img == null) {\n",
              "          img = document.createElement('img');\n",
              "          img.id = name;\n",
              "          document.body.appendChild(img);\n",
              "        }\n",
              "        img.src = image;\n",
              "        img.width = width;\n",
              "        img.height = height;\n",
              "      }\n",
              "      "
            ]
          },
          "metadata": {}
        },
        {
          "output_type": "display_data",
          "data": {
            "text/plain": [
              "<IPython.core.display.Javascript object>"
            ],
            "application/javascript": [
              "\n",
              "      async function showImage(name, image, width, height) {\n",
              "        img = document.getElementById(name);\n",
              "        if(img == null) {\n",
              "          img = document.createElement('img');\n",
              "          img.id = name;\n",
              "          document.body.appendChild(img);\n",
              "        }\n",
              "        img.src = image;\n",
              "        img.width = width;\n",
              "        img.height = height;\n",
              "      }\n",
              "      "
            ]
          },
          "metadata": {}
        },
        {
          "output_type": "display_data",
          "data": {
            "text/plain": [
              "<IPython.core.display.Javascript object>"
            ],
            "application/javascript": [
              "\n",
              "      async function showImage(name, image, width, height) {\n",
              "        img = document.getElementById(name);\n",
              "        if(img == null) {\n",
              "          img = document.createElement('img');\n",
              "          img.id = name;\n",
              "          document.body.appendChild(img);\n",
              "        }\n",
              "        img.src = image;\n",
              "        img.width = width;\n",
              "        img.height = height;\n",
              "      }\n",
              "      "
            ]
          },
          "metadata": {}
        },
        {
          "output_type": "display_data",
          "data": {
            "text/plain": [
              "<IPython.core.display.Javascript object>"
            ],
            "application/javascript": [
              "\n",
              "      async function showImage(name, image, width, height) {\n",
              "        img = document.getElementById(name);\n",
              "        if(img == null) {\n",
              "          img = document.createElement('img');\n",
              "          img.id = name;\n",
              "          document.body.appendChild(img);\n",
              "        }\n",
              "        img.src = image;\n",
              "        img.width = width;\n",
              "        img.height = height;\n",
              "      }\n",
              "      "
            ]
          },
          "metadata": {}
        },
        {
          "output_type": "display_data",
          "data": {
            "text/plain": [
              "<IPython.core.display.Javascript object>"
            ],
            "application/javascript": [
              "\n",
              "      async function showImage(name, image, width, height) {\n",
              "        img = document.getElementById(name);\n",
              "        if(img == null) {\n",
              "          img = document.createElement('img');\n",
              "          img.id = name;\n",
              "          document.body.appendChild(img);\n",
              "        }\n",
              "        img.src = image;\n",
              "        img.width = width;\n",
              "        img.height = height;\n",
              "      }\n",
              "      "
            ]
          },
          "metadata": {}
        },
        {
          "output_type": "display_data",
          "data": {
            "text/plain": [
              "<IPython.core.display.Javascript object>"
            ],
            "application/javascript": [
              "\n",
              "      async function showImage(name, image, width, height) {\n",
              "        img = document.getElementById(name);\n",
              "        if(img == null) {\n",
              "          img = document.createElement('img');\n",
              "          img.id = name;\n",
              "          document.body.appendChild(img);\n",
              "        }\n",
              "        img.src = image;\n",
              "        img.width = width;\n",
              "        img.height = height;\n",
              "      }\n",
              "      "
            ]
          },
          "metadata": {}
        },
        {
          "output_type": "display_data",
          "data": {
            "text/plain": [
              "<IPython.core.display.Javascript object>"
            ],
            "application/javascript": [
              "\n",
              "      async function showImage(name, image, width, height) {\n",
              "        img = document.getElementById(name);\n",
              "        if(img == null) {\n",
              "          img = document.createElement('img');\n",
              "          img.id = name;\n",
              "          document.body.appendChild(img);\n",
              "        }\n",
              "        img.src = image;\n",
              "        img.width = width;\n",
              "        img.height = height;\n",
              "      }\n",
              "      "
            ]
          },
          "metadata": {}
        },
        {
          "output_type": "display_data",
          "data": {
            "text/plain": [
              "<IPython.core.display.Javascript object>"
            ],
            "application/javascript": [
              "\n",
              "      async function showImage(name, image, width, height) {\n",
              "        img = document.getElementById(name);\n",
              "        if(img == null) {\n",
              "          img = document.createElement('img');\n",
              "          img.id = name;\n",
              "          document.body.appendChild(img);\n",
              "        }\n",
              "        img.src = image;\n",
              "        img.width = width;\n",
              "        img.height = height;\n",
              "      }\n",
              "      "
            ]
          },
          "metadata": {}
        },
        {
          "output_type": "display_data",
          "data": {
            "text/plain": [
              "<IPython.core.display.Javascript object>"
            ],
            "application/javascript": [
              "\n",
              "      async function showImage(name, image, width, height) {\n",
              "        img = document.getElementById(name);\n",
              "        if(img == null) {\n",
              "          img = document.createElement('img');\n",
              "          img.id = name;\n",
              "          document.body.appendChild(img);\n",
              "        }\n",
              "        img.src = image;\n",
              "        img.width = width;\n",
              "        img.height = height;\n",
              "      }\n",
              "      "
            ]
          },
          "metadata": {}
        },
        {
          "output_type": "display_data",
          "data": {
            "text/plain": [
              "<IPython.core.display.Javascript object>"
            ],
            "application/javascript": [
              "\n",
              "      async function showImage(name, image, width, height) {\n",
              "        img = document.getElementById(name);\n",
              "        if(img == null) {\n",
              "          img = document.createElement('img');\n",
              "          img.id = name;\n",
              "          document.body.appendChild(img);\n",
              "        }\n",
              "        img.src = image;\n",
              "        img.width = width;\n",
              "        img.height = height;\n",
              "      }\n",
              "      "
            ]
          },
          "metadata": {}
        },
        {
          "output_type": "display_data",
          "data": {
            "text/plain": [
              "<IPython.core.display.Javascript object>"
            ],
            "application/javascript": [
              "\n",
              "      async function showImage(name, image, width, height) {\n",
              "        img = document.getElementById(name);\n",
              "        if(img == null) {\n",
              "          img = document.createElement('img');\n",
              "          img.id = name;\n",
              "          document.body.appendChild(img);\n",
              "        }\n",
              "        img.src = image;\n",
              "        img.width = width;\n",
              "        img.height = height;\n",
              "      }\n",
              "      "
            ]
          },
          "metadata": {}
        },
        {
          "output_type": "display_data",
          "data": {
            "text/plain": [
              "<IPython.core.display.Javascript object>"
            ],
            "application/javascript": [
              "\n",
              "      async function showImage(name, image, width, height) {\n",
              "        img = document.getElementById(name);\n",
              "        if(img == null) {\n",
              "          img = document.createElement('img');\n",
              "          img.id = name;\n",
              "          document.body.appendChild(img);\n",
              "        }\n",
              "        img.src = image;\n",
              "        img.width = width;\n",
              "        img.height = height;\n",
              "      }\n",
              "      "
            ]
          },
          "metadata": {}
        },
        {
          "output_type": "display_data",
          "data": {
            "text/plain": [
              "<IPython.core.display.Javascript object>"
            ],
            "application/javascript": [
              "\n",
              "      async function showImage(name, image, width, height) {\n",
              "        img = document.getElementById(name);\n",
              "        if(img == null) {\n",
              "          img = document.createElement('img');\n",
              "          img.id = name;\n",
              "          document.body.appendChild(img);\n",
              "        }\n",
              "        img.src = image;\n",
              "        img.width = width;\n",
              "        img.height = height;\n",
              "      }\n",
              "      "
            ]
          },
          "metadata": {}
        },
        {
          "output_type": "display_data",
          "data": {
            "text/plain": [
              "<IPython.core.display.Javascript object>"
            ],
            "application/javascript": [
              "\n",
              "      async function showImage(name, image, width, height) {\n",
              "        img = document.getElementById(name);\n",
              "        if(img == null) {\n",
              "          img = document.createElement('img');\n",
              "          img.id = name;\n",
              "          document.body.appendChild(img);\n",
              "        }\n",
              "        img.src = image;\n",
              "        img.width = width;\n",
              "        img.height = height;\n",
              "      }\n",
              "      "
            ]
          },
          "metadata": {}
        },
        {
          "output_type": "display_data",
          "data": {
            "text/plain": [
              "<IPython.core.display.Javascript object>"
            ],
            "application/javascript": [
              "\n",
              "      async function showImage(name, image, width, height) {\n",
              "        img = document.getElementById(name);\n",
              "        if(img == null) {\n",
              "          img = document.createElement('img');\n",
              "          img.id = name;\n",
              "          document.body.appendChild(img);\n",
              "        }\n",
              "        img.src = image;\n",
              "        img.width = width;\n",
              "        img.height = height;\n",
              "      }\n",
              "      "
            ]
          },
          "metadata": {}
        },
        {
          "output_type": "display_data",
          "data": {
            "text/plain": [
              "<IPython.core.display.Javascript object>"
            ],
            "application/javascript": [
              "\n",
              "      async function showImage(name, image, width, height) {\n",
              "        img = document.getElementById(name);\n",
              "        if(img == null) {\n",
              "          img = document.createElement('img');\n",
              "          img.id = name;\n",
              "          document.body.appendChild(img);\n",
              "        }\n",
              "        img.src = image;\n",
              "        img.width = width;\n",
              "        img.height = height;\n",
              "      }\n",
              "      "
            ]
          },
          "metadata": {}
        },
        {
          "output_type": "display_data",
          "data": {
            "text/plain": [
              "<IPython.core.display.Javascript object>"
            ],
            "application/javascript": [
              "\n",
              "      async function showImage(name, image, width, height) {\n",
              "        img = document.getElementById(name);\n",
              "        if(img == null) {\n",
              "          img = document.createElement('img');\n",
              "          img.id = name;\n",
              "          document.body.appendChild(img);\n",
              "        }\n",
              "        img.src = image;\n",
              "        img.width = width;\n",
              "        img.height = height;\n",
              "      }\n",
              "      "
            ]
          },
          "metadata": {}
        },
        {
          "output_type": "display_data",
          "data": {
            "text/plain": [
              "<IPython.core.display.Javascript object>"
            ],
            "application/javascript": [
              "\n",
              "      async function showImage(name, image, width, height) {\n",
              "        img = document.getElementById(name);\n",
              "        if(img == null) {\n",
              "          img = document.createElement('img');\n",
              "          img.id = name;\n",
              "          document.body.appendChild(img);\n",
              "        }\n",
              "        img.src = image;\n",
              "        img.width = width;\n",
              "        img.height = height;\n",
              "      }\n",
              "      "
            ]
          },
          "metadata": {}
        },
        {
          "output_type": "display_data",
          "data": {
            "text/plain": [
              "<IPython.core.display.Javascript object>"
            ],
            "application/javascript": [
              "\n",
              "      async function showImage(name, image, width, height) {\n",
              "        img = document.getElementById(name);\n",
              "        if(img == null) {\n",
              "          img = document.createElement('img');\n",
              "          img.id = name;\n",
              "          document.body.appendChild(img);\n",
              "        }\n",
              "        img.src = image;\n",
              "        img.width = width;\n",
              "        img.height = height;\n",
              "      }\n",
              "      "
            ]
          },
          "metadata": {}
        },
        {
          "output_type": "display_data",
          "data": {
            "text/plain": [
              "<IPython.core.display.Javascript object>"
            ],
            "application/javascript": [
              "\n",
              "      async function showImage(name, image, width, height) {\n",
              "        img = document.getElementById(name);\n",
              "        if(img == null) {\n",
              "          img = document.createElement('img');\n",
              "          img.id = name;\n",
              "          document.body.appendChild(img);\n",
              "        }\n",
              "        img.src = image;\n",
              "        img.width = width;\n",
              "        img.height = height;\n",
              "      }\n",
              "      "
            ]
          },
          "metadata": {}
        },
        {
          "output_type": "display_data",
          "data": {
            "text/plain": [
              "<IPython.core.display.Javascript object>"
            ],
            "application/javascript": [
              "\n",
              "      async function showImage(name, image, width, height) {\n",
              "        img = document.getElementById(name);\n",
              "        if(img == null) {\n",
              "          img = document.createElement('img');\n",
              "          img.id = name;\n",
              "          document.body.appendChild(img);\n",
              "        }\n",
              "        img.src = image;\n",
              "        img.width = width;\n",
              "        img.height = height;\n",
              "      }\n",
              "      "
            ]
          },
          "metadata": {}
        },
        {
          "output_type": "display_data",
          "data": {
            "text/plain": [
              "<IPython.core.display.Javascript object>"
            ],
            "application/javascript": [
              "\n",
              "      async function showImage(name, image, width, height) {\n",
              "        img = document.getElementById(name);\n",
              "        if(img == null) {\n",
              "          img = document.createElement('img');\n",
              "          img.id = name;\n",
              "          document.body.appendChild(img);\n",
              "        }\n",
              "        img.src = image;\n",
              "        img.width = width;\n",
              "        img.height = height;\n",
              "      }\n",
              "      "
            ]
          },
          "metadata": {}
        },
        {
          "output_type": "display_data",
          "data": {
            "text/plain": [
              "<IPython.core.display.Javascript object>"
            ],
            "application/javascript": [
              "\n",
              "      async function showImage(name, image, width, height) {\n",
              "        img = document.getElementById(name);\n",
              "        if(img == null) {\n",
              "          img = document.createElement('img');\n",
              "          img.id = name;\n",
              "          document.body.appendChild(img);\n",
              "        }\n",
              "        img.src = image;\n",
              "        img.width = width;\n",
              "        img.height = height;\n",
              "      }\n",
              "      "
            ]
          },
          "metadata": {}
        },
        {
          "output_type": "display_data",
          "data": {
            "text/plain": [
              "<IPython.core.display.Javascript object>"
            ],
            "application/javascript": [
              "\n",
              "      async function showImage(name, image, width, height) {\n",
              "        img = document.getElementById(name);\n",
              "        if(img == null) {\n",
              "          img = document.createElement('img');\n",
              "          img.id = name;\n",
              "          document.body.appendChild(img);\n",
              "        }\n",
              "        img.src = image;\n",
              "        img.width = width;\n",
              "        img.height = height;\n",
              "      }\n",
              "      "
            ]
          },
          "metadata": {}
        },
        {
          "output_type": "display_data",
          "data": {
            "text/plain": [
              "<IPython.core.display.Javascript object>"
            ],
            "application/javascript": [
              "\n",
              "      async function showImage(name, image, width, height) {\n",
              "        img = document.getElementById(name);\n",
              "        if(img == null) {\n",
              "          img = document.createElement('img');\n",
              "          img.id = name;\n",
              "          document.body.appendChild(img);\n",
              "        }\n",
              "        img.src = image;\n",
              "        img.width = width;\n",
              "        img.height = height;\n",
              "      }\n",
              "      "
            ]
          },
          "metadata": {}
        },
        {
          "output_type": "display_data",
          "data": {
            "text/plain": [
              "<IPython.core.display.Javascript object>"
            ],
            "application/javascript": [
              "\n",
              "      async function showImage(name, image, width, height) {\n",
              "        img = document.getElementById(name);\n",
              "        if(img == null) {\n",
              "          img = document.createElement('img');\n",
              "          img.id = name;\n",
              "          document.body.appendChild(img);\n",
              "        }\n",
              "        img.src = image;\n",
              "        img.width = width;\n",
              "        img.height = height;\n",
              "      }\n",
              "      "
            ]
          },
          "metadata": {}
        },
        {
          "output_type": "display_data",
          "data": {
            "text/plain": [
              "<IPython.core.display.Javascript object>"
            ],
            "application/javascript": [
              "\n",
              "      async function showImage(name, image, width, height) {\n",
              "        img = document.getElementById(name);\n",
              "        if(img == null) {\n",
              "          img = document.createElement('img');\n",
              "          img.id = name;\n",
              "          document.body.appendChild(img);\n",
              "        }\n",
              "        img.src = image;\n",
              "        img.width = width;\n",
              "        img.height = height;\n",
              "      }\n",
              "      "
            ]
          },
          "metadata": {}
        },
        {
          "output_type": "display_data",
          "data": {
            "text/plain": [
              "<IPython.core.display.Javascript object>"
            ],
            "application/javascript": [
              "\n",
              "      async function showImage(name, image, width, height) {\n",
              "        img = document.getElementById(name);\n",
              "        if(img == null) {\n",
              "          img = document.createElement('img');\n",
              "          img.id = name;\n",
              "          document.body.appendChild(img);\n",
              "        }\n",
              "        img.src = image;\n",
              "        img.width = width;\n",
              "        img.height = height;\n",
              "      }\n",
              "      "
            ]
          },
          "metadata": {}
        },
        {
          "output_type": "display_data",
          "data": {
            "text/plain": [
              "<IPython.core.display.Javascript object>"
            ],
            "application/javascript": [
              "\n",
              "      async function showImage(name, image, width, height) {\n",
              "        img = document.getElementById(name);\n",
              "        if(img == null) {\n",
              "          img = document.createElement('img');\n",
              "          img.id = name;\n",
              "          document.body.appendChild(img);\n",
              "        }\n",
              "        img.src = image;\n",
              "        img.width = width;\n",
              "        img.height = height;\n",
              "      }\n",
              "      "
            ]
          },
          "metadata": {}
        },
        {
          "output_type": "display_data",
          "data": {
            "text/plain": [
              "<IPython.core.display.Javascript object>"
            ],
            "application/javascript": [
              "\n",
              "      async function showImage(name, image, width, height) {\n",
              "        img = document.getElementById(name);\n",
              "        if(img == null) {\n",
              "          img = document.createElement('img');\n",
              "          img.id = name;\n",
              "          document.body.appendChild(img);\n",
              "        }\n",
              "        img.src = image;\n",
              "        img.width = width;\n",
              "        img.height = height;\n",
              "      }\n",
              "      "
            ]
          },
          "metadata": {}
        },
        {
          "output_type": "display_data",
          "data": {
            "text/plain": [
              "<IPython.core.display.Javascript object>"
            ],
            "application/javascript": [
              "\n",
              "      async function showImage(name, image, width, height) {\n",
              "        img = document.getElementById(name);\n",
              "        if(img == null) {\n",
              "          img = document.createElement('img');\n",
              "          img.id = name;\n",
              "          document.body.appendChild(img);\n",
              "        }\n",
              "        img.src = image;\n",
              "        img.width = width;\n",
              "        img.height = height;\n",
              "      }\n",
              "      "
            ]
          },
          "metadata": {}
        },
        {
          "output_type": "display_data",
          "data": {
            "text/plain": [
              "<IPython.core.display.Javascript object>"
            ],
            "application/javascript": [
              "\n",
              "      async function showImage(name, image, width, height) {\n",
              "        img = document.getElementById(name);\n",
              "        if(img == null) {\n",
              "          img = document.createElement('img');\n",
              "          img.id = name;\n",
              "          document.body.appendChild(img);\n",
              "        }\n",
              "        img.src = image;\n",
              "        img.width = width;\n",
              "        img.height = height;\n",
              "      }\n",
              "      "
            ]
          },
          "metadata": {}
        },
        {
          "output_type": "display_data",
          "data": {
            "text/plain": [
              "<IPython.core.display.Javascript object>"
            ],
            "application/javascript": [
              "\n",
              "      async function showImage(name, image, width, height) {\n",
              "        img = document.getElementById(name);\n",
              "        if(img == null) {\n",
              "          img = document.createElement('img');\n",
              "          img.id = name;\n",
              "          document.body.appendChild(img);\n",
              "        }\n",
              "        img.src = image;\n",
              "        img.width = width;\n",
              "        img.height = height;\n",
              "      }\n",
              "      "
            ]
          },
          "metadata": {}
        },
        {
          "output_type": "display_data",
          "data": {
            "text/plain": [
              "<IPython.core.display.Javascript object>"
            ],
            "application/javascript": [
              "\n",
              "      async function showImage(name, image, width, height) {\n",
              "        img = document.getElementById(name);\n",
              "        if(img == null) {\n",
              "          img = document.createElement('img');\n",
              "          img.id = name;\n",
              "          document.body.appendChild(img);\n",
              "        }\n",
              "        img.src = image;\n",
              "        img.width = width;\n",
              "        img.height = height;\n",
              "      }\n",
              "      "
            ]
          },
          "metadata": {}
        },
        {
          "output_type": "display_data",
          "data": {
            "text/plain": [
              "<IPython.core.display.Javascript object>"
            ],
            "application/javascript": [
              "\n",
              "      async function showImage(name, image, width, height) {\n",
              "        img = document.getElementById(name);\n",
              "        if(img == null) {\n",
              "          img = document.createElement('img');\n",
              "          img.id = name;\n",
              "          document.body.appendChild(img);\n",
              "        }\n",
              "        img.src = image;\n",
              "        img.width = width;\n",
              "        img.height = height;\n",
              "      }\n",
              "      "
            ]
          },
          "metadata": {}
        },
        {
          "output_type": "display_data",
          "data": {
            "text/plain": [
              "<IPython.core.display.Javascript object>"
            ],
            "application/javascript": [
              "\n",
              "      async function showImage(name, image, width, height) {\n",
              "        img = document.getElementById(name);\n",
              "        if(img == null) {\n",
              "          img = document.createElement('img');\n",
              "          img.id = name;\n",
              "          document.body.appendChild(img);\n",
              "        }\n",
              "        img.src = image;\n",
              "        img.width = width;\n",
              "        img.height = height;\n",
              "      }\n",
              "      "
            ]
          },
          "metadata": {}
        },
        {
          "output_type": "display_data",
          "data": {
            "text/plain": [
              "<IPython.core.display.Javascript object>"
            ],
            "application/javascript": [
              "\n",
              "      async function showImage(name, image, width, height) {\n",
              "        img = document.getElementById(name);\n",
              "        if(img == null) {\n",
              "          img = document.createElement('img');\n",
              "          img.id = name;\n",
              "          document.body.appendChild(img);\n",
              "        }\n",
              "        img.src = image;\n",
              "        img.width = width;\n",
              "        img.height = height;\n",
              "      }\n",
              "      "
            ]
          },
          "metadata": {}
        },
        {
          "output_type": "display_data",
          "data": {
            "text/plain": [
              "<IPython.core.display.Javascript object>"
            ],
            "application/javascript": [
              "\n",
              "      async function showImage(name, image, width, height) {\n",
              "        img = document.getElementById(name);\n",
              "        if(img == null) {\n",
              "          img = document.createElement('img');\n",
              "          img.id = name;\n",
              "          document.body.appendChild(img);\n",
              "        }\n",
              "        img.src = image;\n",
              "        img.width = width;\n",
              "        img.height = height;\n",
              "      }\n",
              "      "
            ]
          },
          "metadata": {}
        },
        {
          "output_type": "display_data",
          "data": {
            "text/plain": [
              "<IPython.core.display.Javascript object>"
            ],
            "application/javascript": [
              "\n",
              "      async function showImage(name, image, width, height) {\n",
              "        img = document.getElementById(name);\n",
              "        if(img == null) {\n",
              "          img = document.createElement('img');\n",
              "          img.id = name;\n",
              "          document.body.appendChild(img);\n",
              "        }\n",
              "        img.src = image;\n",
              "        img.width = width;\n",
              "        img.height = height;\n",
              "      }\n",
              "      "
            ]
          },
          "metadata": {}
        },
        {
          "output_type": "display_data",
          "data": {
            "text/plain": [
              "<IPython.core.display.Javascript object>"
            ],
            "application/javascript": [
              "\n",
              "      async function showImage(name, image, width, height) {\n",
              "        img = document.getElementById(name);\n",
              "        if(img == null) {\n",
              "          img = document.createElement('img');\n",
              "          img.id = name;\n",
              "          document.body.appendChild(img);\n",
              "        }\n",
              "        img.src = image;\n",
              "        img.width = width;\n",
              "        img.height = height;\n",
              "      }\n",
              "      "
            ]
          },
          "metadata": {}
        },
        {
          "output_type": "display_data",
          "data": {
            "text/plain": [
              "<IPython.core.display.Javascript object>"
            ],
            "application/javascript": [
              "\n",
              "      async function showImage(name, image, width, height) {\n",
              "        img = document.getElementById(name);\n",
              "        if(img == null) {\n",
              "          img = document.createElement('img');\n",
              "          img.id = name;\n",
              "          document.body.appendChild(img);\n",
              "        }\n",
              "        img.src = image;\n",
              "        img.width = width;\n",
              "        img.height = height;\n",
              "      }\n",
              "      "
            ]
          },
          "metadata": {}
        },
        {
          "output_type": "display_data",
          "data": {
            "text/plain": [
              "<IPython.core.display.Javascript object>"
            ],
            "application/javascript": [
              "\n",
              "      async function showImage(name, image, width, height) {\n",
              "        img = document.getElementById(name);\n",
              "        if(img == null) {\n",
              "          img = document.createElement('img');\n",
              "          img.id = name;\n",
              "          document.body.appendChild(img);\n",
              "        }\n",
              "        img.src = image;\n",
              "        img.width = width;\n",
              "        img.height = height;\n",
              "      }\n",
              "      "
            ]
          },
          "metadata": {}
        },
        {
          "output_type": "display_data",
          "data": {
            "text/plain": [
              "<IPython.core.display.Javascript object>"
            ],
            "application/javascript": [
              "\n",
              "      async function showImage(name, image, width, height) {\n",
              "        img = document.getElementById(name);\n",
              "        if(img == null) {\n",
              "          img = document.createElement('img');\n",
              "          img.id = name;\n",
              "          document.body.appendChild(img);\n",
              "        }\n",
              "        img.src = image;\n",
              "        img.width = width;\n",
              "        img.height = height;\n",
              "      }\n",
              "      "
            ]
          },
          "metadata": {}
        },
        {
          "output_type": "display_data",
          "data": {
            "text/plain": [
              "<IPython.core.display.Javascript object>"
            ],
            "application/javascript": [
              "\n",
              "      async function showImage(name, image, width, height) {\n",
              "        img = document.getElementById(name);\n",
              "        if(img == null) {\n",
              "          img = document.createElement('img');\n",
              "          img.id = name;\n",
              "          document.body.appendChild(img);\n",
              "        }\n",
              "        img.src = image;\n",
              "        img.width = width;\n",
              "        img.height = height;\n",
              "      }\n",
              "      "
            ]
          },
          "metadata": {}
        },
        {
          "output_type": "display_data",
          "data": {
            "text/plain": [
              "<IPython.core.display.Javascript object>"
            ],
            "application/javascript": [
              "\n",
              "      async function showImage(name, image, width, height) {\n",
              "        img = document.getElementById(name);\n",
              "        if(img == null) {\n",
              "          img = document.createElement('img');\n",
              "          img.id = name;\n",
              "          document.body.appendChild(img);\n",
              "        }\n",
              "        img.src = image;\n",
              "        img.width = width;\n",
              "        img.height = height;\n",
              "      }\n",
              "      "
            ]
          },
          "metadata": {}
        },
        {
          "output_type": "display_data",
          "data": {
            "text/plain": [
              "<IPython.core.display.Javascript object>"
            ],
            "application/javascript": [
              "\n",
              "      async function showImage(name, image, width, height) {\n",
              "        img = document.getElementById(name);\n",
              "        if(img == null) {\n",
              "          img = document.createElement('img');\n",
              "          img.id = name;\n",
              "          document.body.appendChild(img);\n",
              "        }\n",
              "        img.src = image;\n",
              "        img.width = width;\n",
              "        img.height = height;\n",
              "      }\n",
              "      "
            ]
          },
          "metadata": {}
        },
        {
          "output_type": "display_data",
          "data": {
            "text/plain": [
              "<IPython.core.display.Javascript object>"
            ],
            "application/javascript": [
              "\n",
              "      async function showImage(name, image, width, height) {\n",
              "        img = document.getElementById(name);\n",
              "        if(img == null) {\n",
              "          img = document.createElement('img');\n",
              "          img.id = name;\n",
              "          document.body.appendChild(img);\n",
              "        }\n",
              "        img.src = image;\n",
              "        img.width = width;\n",
              "        img.height = height;\n",
              "      }\n",
              "      "
            ]
          },
          "metadata": {}
        },
        {
          "output_type": "display_data",
          "data": {
            "text/plain": [
              "<IPython.core.display.Javascript object>"
            ],
            "application/javascript": [
              "\n",
              "      async function showImage(name, image, width, height) {\n",
              "        img = document.getElementById(name);\n",
              "        if(img == null) {\n",
              "          img = document.createElement('img');\n",
              "          img.id = name;\n",
              "          document.body.appendChild(img);\n",
              "        }\n",
              "        img.src = image;\n",
              "        img.width = width;\n",
              "        img.height = height;\n",
              "      }\n",
              "      "
            ]
          },
          "metadata": {}
        },
        {
          "output_type": "display_data",
          "data": {
            "text/plain": [
              "<IPython.core.display.Javascript object>"
            ],
            "application/javascript": [
              "\n",
              "      async function showImage(name, image, width, height) {\n",
              "        img = document.getElementById(name);\n",
              "        if(img == null) {\n",
              "          img = document.createElement('img');\n",
              "          img.id = name;\n",
              "          document.body.appendChild(img);\n",
              "        }\n",
              "        img.src = image;\n",
              "        img.width = width;\n",
              "        img.height = height;\n",
              "      }\n",
              "      "
            ]
          },
          "metadata": {}
        },
        {
          "output_type": "display_data",
          "data": {
            "text/plain": [
              "<IPython.core.display.Javascript object>"
            ],
            "application/javascript": [
              "\n",
              "      async function showImage(name, image, width, height) {\n",
              "        img = document.getElementById(name);\n",
              "        if(img == null) {\n",
              "          img = document.createElement('img');\n",
              "          img.id = name;\n",
              "          document.body.appendChild(img);\n",
              "        }\n",
              "        img.src = image;\n",
              "        img.width = width;\n",
              "        img.height = height;\n",
              "      }\n",
              "      "
            ]
          },
          "metadata": {}
        },
        {
          "output_type": "error",
          "ename": "KeyboardInterrupt",
          "evalue": "ignored",
          "traceback": [
            "\u001b[0;31m---------------------------------------------------------------------------\u001b[0m",
            "\u001b[0;31mKeyboardInterrupt\u001b[0m                         Traceback (most recent call last)",
            "\u001b[0;32m<ipython-input-46-67aa87d965c9>\u001b[0m in \u001b[0;36m<module>\u001b[0;34m\u001b[0m\n\u001b[1;32m    243\u001b[0m     \u001b[0;32mwhile\u001b[0m \u001b[0;32mTrue\u001b[0m\u001b[0;34m:\u001b[0m\u001b[0;34m\u001b[0m\u001b[0;34m\u001b[0m\u001b[0m\n\u001b[1;32m    244\u001b[0m \u001b[0;34m\u001b[0m\u001b[0m\n\u001b[0;32m--> 245\u001b[0;31m         \u001b[0mjsr\u001b[0m \u001b[0;34m=\u001b[0m \u001b[0mvideo_frame\u001b[0m\u001b[0;34m(\u001b[0m\u001b[0;34m\"Stream\"\u001b[0m\u001b[0;34m,\u001b[0m \u001b[0;34m\"\"\u001b[0m\u001b[0;34m)\u001b[0m\u001b[0;34m\u001b[0m\u001b[0;34m\u001b[0m\u001b[0m\n\u001b[0m\u001b[1;32m    246\u001b[0m         \u001b[0;32mif\u001b[0m \u001b[0;32mnot\u001b[0m \u001b[0mjsr\u001b[0m\u001b[0;34m:\u001b[0m\u001b[0;34m\u001b[0m\u001b[0;34m\u001b[0m\u001b[0m\n\u001b[1;32m    247\u001b[0m             \u001b[0;32mbreak\u001b[0m\u001b[0;34m\u001b[0m\u001b[0;34m\u001b[0m\u001b[0m\n",
            "\u001b[0;32m<ipython-input-46-67aa87d965c9>\u001b[0m in \u001b[0;36mvideo_frame\u001b[0;34m(label, bbox)\u001b[0m\n\u001b[1;32m    183\u001b[0m \u001b[0;34m\u001b[0m\u001b[0m\n\u001b[1;32m    184\u001b[0m     \u001b[0;32mdef\u001b[0m \u001b[0mvideo_frame\u001b[0m\u001b[0;34m(\u001b[0m\u001b[0mlabel\u001b[0m\u001b[0;34m,\u001b[0m \u001b[0mbbox\u001b[0m\u001b[0;34m)\u001b[0m\u001b[0;34m:\u001b[0m\u001b[0;34m\u001b[0m\u001b[0;34m\u001b[0m\u001b[0m\n\u001b[0;32m--> 185\u001b[0;31m       \u001b[0mdata\u001b[0m \u001b[0;34m=\u001b[0m \u001b[0meval_js\u001b[0m\u001b[0;34m(\u001b[0m\u001b[0;34m'stream_frame(\"{}\", \"{}\")'\u001b[0m\u001b[0;34m.\u001b[0m\u001b[0mformat\u001b[0m\u001b[0;34m(\u001b[0m\u001b[0mlabel\u001b[0m\u001b[0;34m,\u001b[0m \u001b[0mbbox\u001b[0m\u001b[0;34m)\u001b[0m\u001b[0;34m)\u001b[0m\u001b[0;34m\u001b[0m\u001b[0;34m\u001b[0m\u001b[0m\n\u001b[0m\u001b[1;32m    186\u001b[0m       \u001b[0;32mreturn\u001b[0m \u001b[0mdata\u001b[0m\u001b[0;34m\u001b[0m\u001b[0;34m\u001b[0m\u001b[0m\n\u001b[1;32m    187\u001b[0m \u001b[0;34m\u001b[0m\u001b[0m\n",
            "\u001b[0;32m/usr/local/lib/python3.8/dist-packages/google/colab/output/_js.py\u001b[0m in \u001b[0;36meval_js\u001b[0;34m(script, ignore_result, timeout_sec)\u001b[0m\n\u001b[1;32m     38\u001b[0m   \u001b[0;32mif\u001b[0m \u001b[0mignore_result\u001b[0m\u001b[0;34m:\u001b[0m\u001b[0;34m\u001b[0m\u001b[0;34m\u001b[0m\u001b[0m\n\u001b[1;32m     39\u001b[0m     \u001b[0;32mreturn\u001b[0m\u001b[0;34m\u001b[0m\u001b[0;34m\u001b[0m\u001b[0m\n\u001b[0;32m---> 40\u001b[0;31m   \u001b[0;32mreturn\u001b[0m \u001b[0m_message\u001b[0m\u001b[0;34m.\u001b[0m\u001b[0mread_reply_from_input\u001b[0m\u001b[0;34m(\u001b[0m\u001b[0mrequest_id\u001b[0m\u001b[0;34m,\u001b[0m \u001b[0mtimeout_sec\u001b[0m\u001b[0;34m)\u001b[0m\u001b[0;34m\u001b[0m\u001b[0;34m\u001b[0m\u001b[0m\n\u001b[0m\u001b[1;32m     41\u001b[0m \u001b[0;34m\u001b[0m\u001b[0m\n\u001b[1;32m     42\u001b[0m \u001b[0;34m\u001b[0m\u001b[0m\n",
            "\u001b[0;32m/usr/local/lib/python3.8/dist-packages/google/colab/_message.py\u001b[0m in \u001b[0;36mread_reply_from_input\u001b[0;34m(message_id, timeout_sec)\u001b[0m\n\u001b[1;32m     95\u001b[0m     \u001b[0mreply\u001b[0m \u001b[0;34m=\u001b[0m \u001b[0m_read_next_input_message\u001b[0m\u001b[0;34m(\u001b[0m\u001b[0;34m)\u001b[0m\u001b[0;34m\u001b[0m\u001b[0;34m\u001b[0m\u001b[0m\n\u001b[1;32m     96\u001b[0m     \u001b[0;32mif\u001b[0m \u001b[0mreply\u001b[0m \u001b[0;34m==\u001b[0m \u001b[0m_NOT_READY\u001b[0m \u001b[0;32mor\u001b[0m \u001b[0;32mnot\u001b[0m \u001b[0misinstance\u001b[0m\u001b[0;34m(\u001b[0m\u001b[0mreply\u001b[0m\u001b[0;34m,\u001b[0m \u001b[0mdict\u001b[0m\u001b[0;34m)\u001b[0m\u001b[0;34m:\u001b[0m\u001b[0;34m\u001b[0m\u001b[0;34m\u001b[0m\u001b[0m\n\u001b[0;32m---> 97\u001b[0;31m       \u001b[0mtime\u001b[0m\u001b[0;34m.\u001b[0m\u001b[0msleep\u001b[0m\u001b[0;34m(\u001b[0m\u001b[0;36m0.025\u001b[0m\u001b[0;34m)\u001b[0m\u001b[0;34m\u001b[0m\u001b[0;34m\u001b[0m\u001b[0m\n\u001b[0m\u001b[1;32m     98\u001b[0m       \u001b[0;32mcontinue\u001b[0m\u001b[0;34m\u001b[0m\u001b[0;34m\u001b[0m\u001b[0m\n\u001b[1;32m     99\u001b[0m     if (reply.get('type') == 'colab_reply' and\n",
            "\u001b[0;31mKeyboardInterrupt\u001b[0m: "
          ]
        }
      ]
    }
  ],
  "metadata": {
    "accelerator": "GPU",
    "colab": {
      "provenance": []
    },
    "gpuClass": "standard",
    "kernelspec": {
      "display_name": "tfodj",
      "language": "python",
      "name": "tfodj"
    },
    "language_info": {
      "codemirror_mode": {
        "name": "ipython",
        "version": 3
      },
      "file_extension": ".py",
      "mimetype": "text/x-python",
      "name": "python",
      "nbconvert_exporter": "python",
      "pygments_lexer": "ipython3",
      "version": "3.10.4"
    }
  },
  "nbformat": 4,
  "nbformat_minor": 5
}